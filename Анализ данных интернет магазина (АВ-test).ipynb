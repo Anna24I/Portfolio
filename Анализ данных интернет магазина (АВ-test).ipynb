{
 "cells": [
  {
   "cell_type": "markdown",
   "metadata": {},
   "source": [
    "<div style=\"border:solid Chocolate 2px; padding: 40px\">\n",
    "\n",
    "Анна, привет, меня зовут Станислав, и я буду проверять твой проект. Предлагаю общаться на «ты», но если это неудобно - дай знать, и мы перейдем на «вы».\n",
    "Это учебный проект и здесь не стоит бояться делать ошибки, я хочу поделиться своим опытом и помочь тебе стать аналитиком данных.\n",
    "Уже выполнена большая работа над проектом, давай сделаем его еще лучше. Ниже ты найдешь мои комментарии - пожалуйста, не перемещай, не изменяй и не удаляй их. Я буду использовать цветовую разметку:\n",
    "\n",
    "<div class=\"alert alert-danger\">\n",
    "<b>Комментарий с замечанием ревьюера:</b> Так выделены самые важные замечания. Как только ты их исправишь проект будет принят. </div>\n",
    "\n",
    "<div class=\"alert alert-warning\">\n",
    "<b>Комментарий с небольшим замечанием или советом ревьюера:</b> Так выделены небольшие замечания или советы. \n",
    "</div>\n",
    "\n",
    "<div class=\"alert alert-success\">\n",
    "<b>Комментарий с комплиментом ревьюера:</b> Так я выделяю все остальные комментарии.</div>\n",
    "\n",
    "Давай работать над проектом в диалоге: если ты что-то меняешь в проекте или отвечаешь на мои комментарии — пиши об этом.\n",
    "Мне будет легче отследить изменения, если ты выделишь свои комментарии:\n",
    "<div class=\"alert alert-info\"> <b>Комментарий студента:</b> Например, вот так.</div>\n",
    "\n",
    "Всё это поможет выполнить повторную проверку твоего проекта оперативнее.\n",
    "</div>\n"
   ]
  },
  {
   "cell_type": "markdown",
   "metadata": {},
   "source": [
    "<div class=\"alert alert-info\"> <b>Комментарий студента:</b> Cтанислав, добрый день!</div>"
   ]
  },
  {
   "cell_type": "markdown",
   "metadata": {},
   "source": [
    "<div style=\"border:solid Chocolate 2px; padding: 40px\">\n",
    "\n",
    "# Общий вывод ревьюера\n",
    "\n",
    "<div class=\"alert alert-success\">\n",
    "\n",
    "Проделана хорошая аналитическая работа. Код написан чисто, соблюдена структура проекта, графики оформлены корректно и написаны логичные и обоснованные выводы. Проект выполнен на хорошем аналитическом уровне, поэтому замечаний не много. Я отметил в проекте моменты, на которые необходимо обратить внимание, исправь их и проект будет принят.\n",
    "\n",
    "- по ссылкам ниже интересные материалы по А/В тестам\n",
    "  \n",
    "    \n",
    "https://habr.com/ru/company/avito/blog/571094/\n",
    "\n",
    "https://habr.com/ru/company/yandex/blog/476826/\n",
    "\n",
    "https://academy.yandex.ru/journal/kak-provesti-a-b-testirovanie-6-prostykh-shagov\n",
    "\n",
    "https://habr.com/ru/company/yandex/blog/342704/\n",
    "\n",
    "https://r-analytics.blogspot.com/2013/10/blog-post_13.html \n",
    "\n",
    "</div>\n",
    "\n",
    "<div class=\"alert alert-danger\">\n",
    "\n",
    "- добавь, пожалуйста, заголовок для графика\n",
    "</div>\n",
    "\n",
    "\n"
   ]
  },
  {
   "cell_type": "markdown",
   "metadata": {},
   "source": [
    "# Анализ данных интернет-магазина\n",
    "Цель исследования - анализ данных о заказах  с целью увеличения выручки интернет-магазина.\n",
    "\n",
    "Источник данных - статистические данные о гипотезах для проверки, заказах пользователей интернет-магазина и их принадлежности к группе тестирования.\n",
    "\n",
    "В статистических данных есть информация о гипотезах, заказах пользователей и принадлежности к группе тестирования.\n",
    "\n",
    "Задачи исследования - определение приоритетной гипотезы, проведение предобработки данных, определение границ аномальных заказов, выявление наличия/отсутствия группы победителя при проведении тестирования по \"сырым\" и \"очищенным\" данным, принятие решений по результатам исследования.\n",
    "\n",
    "Этапы исследования:\n",
    "1. приоритизация гипотез,\n",
    "2. построение графиков кумулятивной и относительной выручки и среднего чека по группам, \n",
    "3. построение точечного графика количества заказов по пользователям,\n",
    "4. расчет перцентилей количества и стоимости заказов с целью определения границ аномальных заказов,\n",
    "5. расчет статистической значимости различий в среднем количестве и стоимости заказов по \"сырым\" и \"очищенным\" от аномальных значений заказов,\n",
    "6. принятие решений, формулировка выводов и рекомендаций по результатам теста."
   ]
  },
  {
   "cell_type": "markdown",
   "metadata": {},
   "source": [
    "<div class=\"alert alert-success\">\n",
    "<b>Комментарий с комплиментом ревьюера:</b> \n",
    "    \n",
    "Здорово, что описана цель проекта, описаны данные и выделено содержание.\n"
   ]
  },
  {
   "cell_type": "code",
   "execution_count": 1,
   "metadata": {},
   "outputs": [],
   "source": [
    "#Импортируем необходимые библиотеки\n",
    "import pandas as pd\n",
    "import seaborn as sns\n",
    "import matplotlib.pyplot as plt\n",
    "import numpy as np\n",
    "import datetime as dt\n",
    "from scipy import stats as st"
   ]
  },
  {
   "cell_type": "markdown",
   "metadata": {},
   "source": [
    "# Часть 1. Приоритизация гипотез"
   ]
  },
  {
   "cell_type": "code",
   "execution_count": 2,
   "metadata": {},
   "outputs": [],
   "source": [
    "#Загружаем данные о гипотезах\n",
    "hyp = pd.read_csv('/datasets/hypothesis.csv')"
   ]
  },
  {
   "cell_type": "code",
   "execution_count": 3,
   "metadata": {},
   "outputs": [
    {
     "data": {
      "text/html": [
       "<div>\n",
       "<style scoped>\n",
       "    .dataframe tbody tr th:only-of-type {\n",
       "        vertical-align: middle;\n",
       "    }\n",
       "\n",
       "    .dataframe tbody tr th {\n",
       "        vertical-align: top;\n",
       "    }\n",
       "\n",
       "    .dataframe thead th {\n",
       "        text-align: right;\n",
       "    }\n",
       "</style>\n",
       "<table border=\"1\" class=\"dataframe\">\n",
       "  <thead>\n",
       "    <tr style=\"text-align: right;\">\n",
       "      <th></th>\n",
       "      <th>Hypothesis</th>\n",
       "      <th>Reach</th>\n",
       "      <th>Impact</th>\n",
       "      <th>Confidence</th>\n",
       "      <th>Efforts</th>\n",
       "    </tr>\n",
       "  </thead>\n",
       "  <tbody>\n",
       "    <tr>\n",
       "      <th>0</th>\n",
       "      <td>Добавить два новых канала привлечения трафика, что позволит привлекать на 30% больше пользователей</td>\n",
       "      <td>3</td>\n",
       "      <td>10</td>\n",
       "      <td>8</td>\n",
       "      <td>6</td>\n",
       "    </tr>\n",
       "    <tr>\n",
       "      <th>1</th>\n",
       "      <td>Запустить собственную службу доставки, что сократит срок доставки заказов</td>\n",
       "      <td>2</td>\n",
       "      <td>5</td>\n",
       "      <td>4</td>\n",
       "      <td>10</td>\n",
       "    </tr>\n",
       "    <tr>\n",
       "      <th>2</th>\n",
       "      <td>Добавить блоки рекомендаций товаров на сайт интернет магазина, чтобы повысить конверсию и средний чек заказа</td>\n",
       "      <td>8</td>\n",
       "      <td>3</td>\n",
       "      <td>7</td>\n",
       "      <td>3</td>\n",
       "    </tr>\n",
       "    <tr>\n",
       "      <th>3</th>\n",
       "      <td>Изменить структура категорий, что увеличит конверсию, т.к. пользователи быстрее найдут нужный товар</td>\n",
       "      <td>8</td>\n",
       "      <td>3</td>\n",
       "      <td>3</td>\n",
       "      <td>8</td>\n",
       "    </tr>\n",
       "    <tr>\n",
       "      <th>4</th>\n",
       "      <td>Изменить цвет фона главной страницы, чтобы увеличить вовлеченность пользователей</td>\n",
       "      <td>3</td>\n",
       "      <td>1</td>\n",
       "      <td>1</td>\n",
       "      <td>1</td>\n",
       "    </tr>\n",
       "    <tr>\n",
       "      <th>5</th>\n",
       "      <td>Добавить страницу отзывов клиентов о магазине, что позволит увеличить количество заказов</td>\n",
       "      <td>3</td>\n",
       "      <td>2</td>\n",
       "      <td>2</td>\n",
       "      <td>3</td>\n",
       "    </tr>\n",
       "    <tr>\n",
       "      <th>6</th>\n",
       "      <td>Показать на главной странице баннеры с актуальными акциями и распродажами, чтобы увеличить конверсию</td>\n",
       "      <td>5</td>\n",
       "      <td>3</td>\n",
       "      <td>8</td>\n",
       "      <td>3</td>\n",
       "    </tr>\n",
       "    <tr>\n",
       "      <th>7</th>\n",
       "      <td>Добавить форму подписки на все основные страницы, чтобы собрать базу клиентов для email-рассылок</td>\n",
       "      <td>10</td>\n",
       "      <td>7</td>\n",
       "      <td>8</td>\n",
       "      <td>5</td>\n",
       "    </tr>\n",
       "    <tr>\n",
       "      <th>8</th>\n",
       "      <td>Запустить акцию, дающую скидку на товар в день рождения</td>\n",
       "      <td>1</td>\n",
       "      <td>9</td>\n",
       "      <td>9</td>\n",
       "      <td>5</td>\n",
       "    </tr>\n",
       "  </tbody>\n",
       "</table>\n",
       "</div>"
      ],
      "text/plain": [
       "                                                                                                     Hypothesis  \\\n",
       "0  Добавить два новых канала привлечения трафика, что позволит привлекать на 30% больше пользователей             \n",
       "1  Запустить собственную службу доставки, что сократит срок доставки заказов                                      \n",
       "2  Добавить блоки рекомендаций товаров на сайт интернет магазина, чтобы повысить конверсию и средний чек заказа   \n",
       "3  Изменить структура категорий, что увеличит конверсию, т.к. пользователи быстрее найдут нужный товар            \n",
       "4  Изменить цвет фона главной страницы, чтобы увеличить вовлеченность пользователей                               \n",
       "5  Добавить страницу отзывов клиентов о магазине, что позволит увеличить количество заказов                       \n",
       "6  Показать на главной странице баннеры с актуальными акциями и распродажами, чтобы увеличить конверсию           \n",
       "7  Добавить форму подписки на все основные страницы, чтобы собрать базу клиентов для email-рассылок               \n",
       "8  Запустить акцию, дающую скидку на товар в день рождения                                                        \n",
       "\n",
       "   Reach  Impact  Confidence  Efforts  \n",
       "0  3      10      8           6        \n",
       "1  2      5       4           10       \n",
       "2  8      3       7           3        \n",
       "3  8      3       3           8        \n",
       "4  3      1       1           1        \n",
       "5  3      2       2           3        \n",
       "6  5      3       8           3        \n",
       "7  10     7       8           5        \n",
       "8  1      9       9           5        "
      ]
     },
     "execution_count": 3,
     "metadata": {},
     "output_type": "execute_result"
    }
   ],
   "source": [
    "#Выводим первые пять строк с данными о гипотезах\n",
    "pd.set_option('display.max_colwidth',False)\n",
    "hyp.head(10)"
   ]
  },
  {
   "cell_type": "markdown",
   "metadata": {},
   "source": [
    "<div class=\"alert alert-warning\">\n",
    "<b>Комментарий с советом ревьюера:</b> \n",
    "    \n",
    "Чтобы названия гипотез выводились целиком, используй настройку pd.set_option('display.max_colwidth', False)\n",
    " </div>\n"
   ]
  },
  {
   "cell_type": "markdown",
   "metadata": {},
   "source": [
    "<div class=\"alert alert-info\"> <b>Комментарий студента:</b> применена настройка для вывода строчек целиком. </div>"
   ]
  },
  {
   "cell_type": "markdown",
   "metadata": {},
   "source": [
    "<div class=\"alert alert-success\">\n",
    "<b>Комментарий с комплиментом ревьюера в2:</b> \n",
    "    \n",
    "Отлично"
   ]
  },
  {
   "cell_type": "code",
   "execution_count": 4,
   "metadata": {},
   "outputs": [
    {
     "name": "stdout",
     "output_type": "stream",
     "text": [
      "<class 'pandas.core.frame.DataFrame'>\n",
      "RangeIndex: 9 entries, 0 to 8\n",
      "Data columns (total 5 columns):\n",
      " #   Column      Non-Null Count  Dtype \n",
      "---  ------      --------------  ----- \n",
      " 0   Hypothesis  9 non-null      object\n",
      " 1   Reach       9 non-null      int64 \n",
      " 2   Impact      9 non-null      int64 \n",
      " 3   Confidence  9 non-null      int64 \n",
      " 4   Efforts     9 non-null      int64 \n",
      "dtypes: int64(4), object(1)\n",
      "memory usage: 488.0+ bytes\n"
     ]
    }
   ],
   "source": [
    "#Типы данных менять не надо, все типы данных соответствуют \n",
    "hyp.info()"
   ]
  },
  {
   "cell_type": "code",
   "execution_count": 5,
   "metadata": {},
   "outputs": [
    {
     "data": {
      "text/plain": [
       "Hypothesis    0.0\n",
       "Reach         0.0\n",
       "Impact        0.0\n",
       "Confidence    0.0\n",
       "Efforts       0.0\n",
       "dtype: float64"
      ]
     },
     "execution_count": 5,
     "metadata": {},
     "output_type": "execute_result"
    }
   ],
   "source": [
    "#Пропуски в данных hyp отсутствуют\n",
    "hyp.isna().mean()*100"
   ]
  },
  {
   "cell_type": "code",
   "execution_count": 6,
   "metadata": {},
   "outputs": [
    {
     "data": {
      "text/plain": [
       "0"
      ]
     },
     "execution_count": 6,
     "metadata": {},
     "output_type": "execute_result"
    }
   ],
   "source": [
    "#Явные дубликаты в hyp отсутствуют\n",
    "hyp.duplicated().sum()"
   ]
  },
  {
   "cell_type": "code",
   "execution_count": 7,
   "metadata": {},
   "outputs": [
    {
     "data": {
      "text/html": [
       "<div>\n",
       "<style scoped>\n",
       "    .dataframe tbody tr th:only-of-type {\n",
       "        vertical-align: middle;\n",
       "    }\n",
       "\n",
       "    .dataframe tbody tr th {\n",
       "        vertical-align: top;\n",
       "    }\n",
       "\n",
       "    .dataframe thead th {\n",
       "        text-align: right;\n",
       "    }\n",
       "</style>\n",
       "<table border=\"1\" class=\"dataframe\">\n",
       "  <thead>\n",
       "    <tr style=\"text-align: right;\">\n",
       "      <th></th>\n",
       "      <th>Hypothesis</th>\n",
       "      <th>Reach</th>\n",
       "      <th>Impact</th>\n",
       "      <th>Confidence</th>\n",
       "      <th>Efforts</th>\n",
       "    </tr>\n",
       "  </thead>\n",
       "  <tbody>\n",
       "  </tbody>\n",
       "</table>\n",
       "</div>"
      ],
      "text/plain": [
       "Empty DataFrame\n",
       "Columns: [Hypothesis, Reach, Impact, Confidence, Efforts]\n",
       "Index: []"
      ]
     },
     "execution_count": 7,
     "metadata": {},
     "output_type": "execute_result"
    }
   ],
   "source": [
    "#Проверяем дубликаты в столбце \"Hypothesis\",\n",
    "#Дубликаты отсутствуют\n",
    "hyp[hyp['Hypothesis'].duplicated()]"
   ]
  },
  {
   "cell_type": "code",
   "execution_count": 8,
   "metadata": {},
   "outputs": [
    {
     "data": {
      "text/html": [
       "<div>\n",
       "<style scoped>\n",
       "    .dataframe tbody tr th:only-of-type {\n",
       "        vertical-align: middle;\n",
       "    }\n",
       "\n",
       "    .dataframe tbody tr th {\n",
       "        vertical-align: top;\n",
       "    }\n",
       "\n",
       "    .dataframe thead th {\n",
       "        text-align: right;\n",
       "    }\n",
       "</style>\n",
       "<table border=\"1\" class=\"dataframe\">\n",
       "  <thead>\n",
       "    <tr style=\"text-align: right;\">\n",
       "      <th></th>\n",
       "      <th>Hypothesis</th>\n",
       "      <th>Reach</th>\n",
       "      <th>Impact</th>\n",
       "      <th>Confidence</th>\n",
       "      <th>Efforts</th>\n",
       "      <th>ICE</th>\n",
       "    </tr>\n",
       "  </thead>\n",
       "  <tbody>\n",
       "    <tr>\n",
       "      <th>8</th>\n",
       "      <td>Запустить акцию, дающую скидку на товар в день рождения</td>\n",
       "      <td>1</td>\n",
       "      <td>9</td>\n",
       "      <td>9</td>\n",
       "      <td>5</td>\n",
       "      <td>16.20</td>\n",
       "    </tr>\n",
       "    <tr>\n",
       "      <th>0</th>\n",
       "      <td>Добавить два новых канала привлечения трафика, что позволит привлекать на 30% больше пользователей</td>\n",
       "      <td>3</td>\n",
       "      <td>10</td>\n",
       "      <td>8</td>\n",
       "      <td>6</td>\n",
       "      <td>13.33</td>\n",
       "    </tr>\n",
       "    <tr>\n",
       "      <th>7</th>\n",
       "      <td>Добавить форму подписки на все основные страницы, чтобы собрать базу клиентов для email-рассылок</td>\n",
       "      <td>10</td>\n",
       "      <td>7</td>\n",
       "      <td>8</td>\n",
       "      <td>5</td>\n",
       "      <td>11.20</td>\n",
       "    </tr>\n",
       "    <tr>\n",
       "      <th>6</th>\n",
       "      <td>Показать на главной странице баннеры с актуальными акциями и распродажами, чтобы увеличить конверсию</td>\n",
       "      <td>5</td>\n",
       "      <td>3</td>\n",
       "      <td>8</td>\n",
       "      <td>3</td>\n",
       "      <td>8.00</td>\n",
       "    </tr>\n",
       "    <tr>\n",
       "      <th>2</th>\n",
       "      <td>Добавить блоки рекомендаций товаров на сайт интернет магазина, чтобы повысить конверсию и средний чек заказа</td>\n",
       "      <td>8</td>\n",
       "      <td>3</td>\n",
       "      <td>7</td>\n",
       "      <td>3</td>\n",
       "      <td>7.00</td>\n",
       "    </tr>\n",
       "    <tr>\n",
       "      <th>1</th>\n",
       "      <td>Запустить собственную службу доставки, что сократит срок доставки заказов</td>\n",
       "      <td>2</td>\n",
       "      <td>5</td>\n",
       "      <td>4</td>\n",
       "      <td>10</td>\n",
       "      <td>2.00</td>\n",
       "    </tr>\n",
       "    <tr>\n",
       "      <th>5</th>\n",
       "      <td>Добавить страницу отзывов клиентов о магазине, что позволит увеличить количество заказов</td>\n",
       "      <td>3</td>\n",
       "      <td>2</td>\n",
       "      <td>2</td>\n",
       "      <td>3</td>\n",
       "      <td>1.33</td>\n",
       "    </tr>\n",
       "    <tr>\n",
       "      <th>3</th>\n",
       "      <td>Изменить структура категорий, что увеличит конверсию, т.к. пользователи быстрее найдут нужный товар</td>\n",
       "      <td>8</td>\n",
       "      <td>3</td>\n",
       "      <td>3</td>\n",
       "      <td>8</td>\n",
       "      <td>1.12</td>\n",
       "    </tr>\n",
       "    <tr>\n",
       "      <th>4</th>\n",
       "      <td>Изменить цвет фона главной страницы, чтобы увеличить вовлеченность пользователей</td>\n",
       "      <td>3</td>\n",
       "      <td>1</td>\n",
       "      <td>1</td>\n",
       "      <td>1</td>\n",
       "      <td>1.00</td>\n",
       "    </tr>\n",
       "  </tbody>\n",
       "</table>\n",
       "</div>"
      ],
      "text/plain": [
       "                                                                                                     Hypothesis  \\\n",
       "8  Запустить акцию, дающую скидку на товар в день рождения                                                        \n",
       "0  Добавить два новых канала привлечения трафика, что позволит привлекать на 30% больше пользователей             \n",
       "7  Добавить форму подписки на все основные страницы, чтобы собрать базу клиентов для email-рассылок               \n",
       "6  Показать на главной странице баннеры с актуальными акциями и распродажами, чтобы увеличить конверсию           \n",
       "2  Добавить блоки рекомендаций товаров на сайт интернет магазина, чтобы повысить конверсию и средний чек заказа   \n",
       "1  Запустить собственную службу доставки, что сократит срок доставки заказов                                      \n",
       "5  Добавить страницу отзывов клиентов о магазине, что позволит увеличить количество заказов                       \n",
       "3  Изменить структура категорий, что увеличит конверсию, т.к. пользователи быстрее найдут нужный товар            \n",
       "4  Изменить цвет фона главной страницы, чтобы увеличить вовлеченность пользователей                               \n",
       "\n",
       "   Reach  Impact  Confidence  Efforts    ICE  \n",
       "8  1      9       9           5        16.20  \n",
       "0  3      10      8           6        13.33  \n",
       "7  10     7       8           5        11.20  \n",
       "6  5      3       8           3        8.00   \n",
       "2  8      3       7           3        7.00   \n",
       "1  2      5       4           10       2.00   \n",
       "5  3      2       2           3        1.33   \n",
       "3  8      3       3           8        1.12   \n",
       "4  3      1       1           1        1.00   "
      ]
     },
     "execution_count": 8,
     "metadata": {},
     "output_type": "execute_result"
    }
   ],
   "source": [
    "#Применяем фреймворк ICE для приоритизации гипотез\n",
    "hyp['ICE'] = round(\n",
    "    hyp['Impact']*hyp['Confidence']/hyp['Efforts'],\n",
    "    2)\n",
    "hyp.sort_values(by ='ICE',ascending = False).head(10)"
   ]
  },
  {
   "cell_type": "markdown",
   "metadata": {},
   "source": [
    "<div class=\"alert alert-warning\">\n",
    "<b>Комментарий с советом ревьюера:</b> \n",
    "\n",
    "Для удобства можно округлить значения в колонке ICE до 2 знаков после запятой. \n",
    "</div>\n"
   ]
  },
  {
   "cell_type": "markdown",
   "metadata": {},
   "source": [
    "<div class=\"alert alert-info\"> <b>Комментарий студента:</b> значения в колонке \"ICE\" округлены до 2 знаков. </div>"
   ]
  },
  {
   "cell_type": "markdown",
   "metadata": {},
   "source": [
    "<div class=\"alert alert-success\">\n",
    "<b>Комментарий с комплиментом ревьюера в2:</b> \n",
    "    \n",
    "Отлично"
   ]
  },
  {
   "cell_type": "markdown",
   "metadata": {},
   "source": [
    "Комментарий:  применение фреймоворка ICE показало, что в первую очередь наиболее перспективные гипотезы - 8,0,7. На первом месте 8-я гипотеза."
   ]
  },
  {
   "cell_type": "code",
   "execution_count": 9,
   "metadata": {},
   "outputs": [
    {
     "data": {
      "text/html": [
       "<div>\n",
       "<style scoped>\n",
       "    .dataframe tbody tr th:only-of-type {\n",
       "        vertical-align: middle;\n",
       "    }\n",
       "\n",
       "    .dataframe tbody tr th {\n",
       "        vertical-align: top;\n",
       "    }\n",
       "\n",
       "    .dataframe thead th {\n",
       "        text-align: right;\n",
       "    }\n",
       "</style>\n",
       "<table border=\"1\" class=\"dataframe\">\n",
       "  <thead>\n",
       "    <tr style=\"text-align: right;\">\n",
       "      <th></th>\n",
       "      <th>Hypothesis</th>\n",
       "      <th>Reach</th>\n",
       "      <th>Impact</th>\n",
       "      <th>Confidence</th>\n",
       "      <th>Efforts</th>\n",
       "      <th>ICE</th>\n",
       "      <th>RICE</th>\n",
       "    </tr>\n",
       "  </thead>\n",
       "  <tbody>\n",
       "    <tr>\n",
       "      <th>7</th>\n",
       "      <td>Добавить форму подписки на все основные страницы, чтобы собрать базу клиентов для email-рассылок</td>\n",
       "      <td>10</td>\n",
       "      <td>7</td>\n",
       "      <td>8</td>\n",
       "      <td>5</td>\n",
       "      <td>11.20</td>\n",
       "      <td>112.0</td>\n",
       "    </tr>\n",
       "    <tr>\n",
       "      <th>2</th>\n",
       "      <td>Добавить блоки рекомендаций товаров на сайт интернет магазина, чтобы повысить конверсию и средний чек заказа</td>\n",
       "      <td>8</td>\n",
       "      <td>3</td>\n",
       "      <td>7</td>\n",
       "      <td>3</td>\n",
       "      <td>7.00</td>\n",
       "      <td>56.0</td>\n",
       "    </tr>\n",
       "    <tr>\n",
       "      <th>0</th>\n",
       "      <td>Добавить два новых канала привлечения трафика, что позволит привлекать на 30% больше пользователей</td>\n",
       "      <td>3</td>\n",
       "      <td>10</td>\n",
       "      <td>8</td>\n",
       "      <td>6</td>\n",
       "      <td>13.33</td>\n",
       "      <td>40.0</td>\n",
       "    </tr>\n",
       "    <tr>\n",
       "      <th>6</th>\n",
       "      <td>Показать на главной странице баннеры с актуальными акциями и распродажами, чтобы увеличить конверсию</td>\n",
       "      <td>5</td>\n",
       "      <td>3</td>\n",
       "      <td>8</td>\n",
       "      <td>3</td>\n",
       "      <td>8.00</td>\n",
       "      <td>40.0</td>\n",
       "    </tr>\n",
       "    <tr>\n",
       "      <th>8</th>\n",
       "      <td>Запустить акцию, дающую скидку на товар в день рождения</td>\n",
       "      <td>1</td>\n",
       "      <td>9</td>\n",
       "      <td>9</td>\n",
       "      <td>5</td>\n",
       "      <td>16.20</td>\n",
       "      <td>16.2</td>\n",
       "    </tr>\n",
       "    <tr>\n",
       "      <th>3</th>\n",
       "      <td>Изменить структура категорий, что увеличит конверсию, т.к. пользователи быстрее найдут нужный товар</td>\n",
       "      <td>8</td>\n",
       "      <td>3</td>\n",
       "      <td>3</td>\n",
       "      <td>8</td>\n",
       "      <td>1.12</td>\n",
       "      <td>9.0</td>\n",
       "    </tr>\n",
       "    <tr>\n",
       "      <th>1</th>\n",
       "      <td>Запустить собственную службу доставки, что сократит срок доставки заказов</td>\n",
       "      <td>2</td>\n",
       "      <td>5</td>\n",
       "      <td>4</td>\n",
       "      <td>10</td>\n",
       "      <td>2.00</td>\n",
       "      <td>4.0</td>\n",
       "    </tr>\n",
       "    <tr>\n",
       "      <th>5</th>\n",
       "      <td>Добавить страницу отзывов клиентов о магазине, что позволит увеличить количество заказов</td>\n",
       "      <td>3</td>\n",
       "      <td>2</td>\n",
       "      <td>2</td>\n",
       "      <td>3</td>\n",
       "      <td>1.33</td>\n",
       "      <td>4.0</td>\n",
       "    </tr>\n",
       "    <tr>\n",
       "      <th>4</th>\n",
       "      <td>Изменить цвет фона главной страницы, чтобы увеличить вовлеченность пользователей</td>\n",
       "      <td>3</td>\n",
       "      <td>1</td>\n",
       "      <td>1</td>\n",
       "      <td>1</td>\n",
       "      <td>1.00</td>\n",
       "      <td>3.0</td>\n",
       "    </tr>\n",
       "  </tbody>\n",
       "</table>\n",
       "</div>"
      ],
      "text/plain": [
       "                                                                                                     Hypothesis  \\\n",
       "7  Добавить форму подписки на все основные страницы, чтобы собрать базу клиентов для email-рассылок               \n",
       "2  Добавить блоки рекомендаций товаров на сайт интернет магазина, чтобы повысить конверсию и средний чек заказа   \n",
       "0  Добавить два новых канала привлечения трафика, что позволит привлекать на 30% больше пользователей             \n",
       "6  Показать на главной странице баннеры с актуальными акциями и распродажами, чтобы увеличить конверсию           \n",
       "8  Запустить акцию, дающую скидку на товар в день рождения                                                        \n",
       "3  Изменить структура категорий, что увеличит конверсию, т.к. пользователи быстрее найдут нужный товар            \n",
       "1  Запустить собственную службу доставки, что сократит срок доставки заказов                                      \n",
       "5  Добавить страницу отзывов клиентов о магазине, что позволит увеличить количество заказов                       \n",
       "4  Изменить цвет фона главной страницы, чтобы увеличить вовлеченность пользователей                               \n",
       "\n",
       "   Reach  Impact  Confidence  Efforts    ICE   RICE  \n",
       "7  10     7       8           5        11.20  112.0  \n",
       "2  8      3       7           3        7.00   56.0   \n",
       "0  3      10      8           6        13.33  40.0   \n",
       "6  5      3       8           3        8.00   40.0   \n",
       "8  1      9       9           5        16.20  16.2   \n",
       "3  8      3       3           8        1.12   9.0    \n",
       "1  2      5       4           10       2.00   4.0    \n",
       "5  3      2       2           3        1.33   4.0    \n",
       "4  3      1       1           1        1.00   3.0    "
      ]
     },
     "execution_count": 9,
     "metadata": {},
     "output_type": "execute_result"
    }
   ],
   "source": [
    "#Применяем фреймворк RICE для приоритизации гипотез\n",
    "hyp['RICE'] = hyp['Reach']*hyp['Impact']*hyp['Confidence']/hyp['Efforts']\n",
    "pd.set_option('display.max_colwidth',False)\n",
    "hyp.sort_values(by ='RICE',ascending = False).head(10)"
   ]
  },
  {
   "cell_type": "markdown",
   "metadata": {},
   "source": [
    "Комментарий:  применение фреймоворка RICE показало, что в первую очередь наиболее перспективные гипотезы - 7,2,0. На первом месте 7-я гипотеза: добавить форму подписи на все основные страницы, чтобы собрать базу клиентов для email-рассылок."
   ]
  },
  {
   "cell_type": "markdown",
   "metadata": {},
   "source": [
    "<b> Комментарий относительно изменения приоритизации гипотех: приоритизация гипотез изменилась при использовании фреймворков RICE и ICE, в  связи с тем, что кроме силы гипотез, показатель RICE учел также охват пользователей, который оказался максимальным у 7-й  гипотезы (добавить форму подписи на все основные страницы). "
   ]
  },
  {
   "cell_type": "markdown",
   "metadata": {},
   "source": [
    "<div class=\"alert alert-success\">\n",
    "<b>Комментарий с комплиментом ревьюера:</b>\n",
    "    \n",
    "Гипотезы проанализированы верно, молодец.\n",
    "\n",
    "Здорово, что указано на изменение приоритетов при учете охвата.\n",
    "</div>\n"
   ]
  },
  {
   "cell_type": "markdown",
   "metadata": {},
   "source": [
    "# Часть 2. Анализ A/B-теста"
   ]
  },
  {
   "cell_type": "markdown",
   "metadata": {},
   "source": [
    "<b> Готовим сначала данные о заказах"
   ]
  },
  {
   "cell_type": "code",
   "execution_count": 10,
   "metadata": {},
   "outputs": [
    {
     "data": {
      "text/html": [
       "<div>\n",
       "<style scoped>\n",
       "    .dataframe tbody tr th:only-of-type {\n",
       "        vertical-align: middle;\n",
       "    }\n",
       "\n",
       "    .dataframe tbody tr th {\n",
       "        vertical-align: top;\n",
       "    }\n",
       "\n",
       "    .dataframe thead th {\n",
       "        text-align: right;\n",
       "    }\n",
       "</style>\n",
       "<table border=\"1\" class=\"dataframe\">\n",
       "  <thead>\n",
       "    <tr style=\"text-align: right;\">\n",
       "      <th></th>\n",
       "      <th>transactionId</th>\n",
       "      <th>visitorId</th>\n",
       "      <th>date</th>\n",
       "      <th>revenue</th>\n",
       "      <th>group</th>\n",
       "    </tr>\n",
       "  </thead>\n",
       "  <tbody>\n",
       "    <tr>\n",
       "      <th>0</th>\n",
       "      <td>3667963787</td>\n",
       "      <td>3312258926</td>\n",
       "      <td>2019-08-15</td>\n",
       "      <td>1650</td>\n",
       "      <td>B</td>\n",
       "    </tr>\n",
       "    <tr>\n",
       "      <th>1</th>\n",
       "      <td>2804400009</td>\n",
       "      <td>3642806036</td>\n",
       "      <td>2019-08-15</td>\n",
       "      <td>730</td>\n",
       "      <td>B</td>\n",
       "    </tr>\n",
       "    <tr>\n",
       "      <th>2</th>\n",
       "      <td>2961555356</td>\n",
       "      <td>4069496402</td>\n",
       "      <td>2019-08-15</td>\n",
       "      <td>400</td>\n",
       "      <td>A</td>\n",
       "    </tr>\n",
       "    <tr>\n",
       "      <th>3</th>\n",
       "      <td>3797467345</td>\n",
       "      <td>1196621759</td>\n",
       "      <td>2019-08-15</td>\n",
       "      <td>9759</td>\n",
       "      <td>B</td>\n",
       "    </tr>\n",
       "    <tr>\n",
       "      <th>4</th>\n",
       "      <td>2282983706</td>\n",
       "      <td>2322279887</td>\n",
       "      <td>2019-08-15</td>\n",
       "      <td>2308</td>\n",
       "      <td>B</td>\n",
       "    </tr>\n",
       "  </tbody>\n",
       "</table>\n",
       "</div>"
      ],
      "text/plain": [
       "   transactionId   visitorId        date  revenue group\n",
       "0  3667963787     3312258926  2019-08-15  1650     B   \n",
       "1  2804400009     3642806036  2019-08-15  730      B   \n",
       "2  2961555356     4069496402  2019-08-15  400      A   \n",
       "3  3797467345     1196621759  2019-08-15  9759     B   \n",
       "4  2282983706     2322279887  2019-08-15  2308     B   "
      ]
     },
     "execution_count": 10,
     "metadata": {},
     "output_type": "execute_result"
    }
   ],
   "source": [
    "#Загружаем данные о заказах\n",
    "orders = pd.read_csv('/datasets/orders.csv')\n",
    "orders.head()"
   ]
  },
  {
   "cell_type": "code",
   "execution_count": 11,
   "metadata": {},
   "outputs": [
    {
     "name": "stdout",
     "output_type": "stream",
     "text": [
      "<class 'pandas.core.frame.DataFrame'>\n",
      "RangeIndex: 1197 entries, 0 to 1196\n",
      "Data columns (total 5 columns):\n",
      " #   Column         Non-Null Count  Dtype \n",
      "---  ------         --------------  ----- \n",
      " 0   transactionId  1197 non-null   int64 \n",
      " 1   visitorId      1197 non-null   int64 \n",
      " 2   date           1197 non-null   object\n",
      " 3   revenue        1197 non-null   int64 \n",
      " 4   group          1197 non-null   object\n",
      "dtypes: int64(3), object(2)\n",
      "memory usage: 46.9+ KB\n"
     ]
    }
   ],
   "source": [
    "#Выводим информацию о датафрейме orders\n",
    "orders.info()"
   ]
  },
  {
   "cell_type": "code",
   "execution_count": 12,
   "metadata": {},
   "outputs": [
    {
     "name": "stdout",
     "output_type": "stream",
     "text": [
      "<class 'pandas.core.frame.DataFrame'>\n",
      "RangeIndex: 1197 entries, 0 to 1196\n",
      "Data columns (total 5 columns):\n",
      " #   Column         Non-Null Count  Dtype         \n",
      "---  ------         --------------  -----         \n",
      " 0   transactionId  1197 non-null   int64         \n",
      " 1   visitorId      1197 non-null   int64         \n",
      " 2   date           1197 non-null   datetime64[ns]\n",
      " 3   revenue        1197 non-null   int64         \n",
      " 4   group          1197 non-null   object        \n",
      "dtypes: datetime64[ns](1), int64(3), object(1)\n",
      "memory usage: 46.9+ KB\n"
     ]
    }
   ],
   "source": [
    "#Меняем тип данных столбца date:\n",
    "orders['date'] = orders['date'].map(lambda x: dt.datetime.strptime(x, '%Y-%m-%d'))\n",
    "orders.info()"
   ]
  },
  {
   "cell_type": "code",
   "execution_count": 13,
   "metadata": {},
   "outputs": [
    {
     "data": {
      "text/plain": [
       "[numpy.datetime64('2019-08-01T00:00:00.000000000'),\n",
       " numpy.datetime64('2019-08-02T00:00:00.000000000'),\n",
       " numpy.datetime64('2019-08-03T00:00:00.000000000'),\n",
       " numpy.datetime64('2019-08-04T00:00:00.000000000'),\n",
       " numpy.datetime64('2019-08-05T00:00:00.000000000'),\n",
       " numpy.datetime64('2019-08-06T00:00:00.000000000'),\n",
       " numpy.datetime64('2019-08-07T00:00:00.000000000'),\n",
       " numpy.datetime64('2019-08-08T00:00:00.000000000'),\n",
       " numpy.datetime64('2019-08-09T00:00:00.000000000'),\n",
       " numpy.datetime64('2019-08-10T00:00:00.000000000'),\n",
       " numpy.datetime64('2019-08-11T00:00:00.000000000'),\n",
       " numpy.datetime64('2019-08-12T00:00:00.000000000'),\n",
       " numpy.datetime64('2019-08-13T00:00:00.000000000'),\n",
       " numpy.datetime64('2019-08-14T00:00:00.000000000'),\n",
       " numpy.datetime64('2019-08-15T00:00:00.000000000'),\n",
       " numpy.datetime64('2019-08-16T00:00:00.000000000'),\n",
       " numpy.datetime64('2019-08-17T00:00:00.000000000'),\n",
       " numpy.datetime64('2019-08-18T00:00:00.000000000'),\n",
       " numpy.datetime64('2019-08-19T00:00:00.000000000'),\n",
       " numpy.datetime64('2019-08-20T00:00:00.000000000'),\n",
       " numpy.datetime64('2019-08-21T00:00:00.000000000'),\n",
       " numpy.datetime64('2019-08-22T00:00:00.000000000'),\n",
       " numpy.datetime64('2019-08-23T00:00:00.000000000'),\n",
       " numpy.datetime64('2019-08-24T00:00:00.000000000'),\n",
       " numpy.datetime64('2019-08-25T00:00:00.000000000'),\n",
       " numpy.datetime64('2019-08-26T00:00:00.000000000'),\n",
       " numpy.datetime64('2019-08-27T00:00:00.000000000'),\n",
       " numpy.datetime64('2019-08-28T00:00:00.000000000'),\n",
       " numpy.datetime64('2019-08-29T00:00:00.000000000'),\n",
       " numpy.datetime64('2019-08-30T00:00:00.000000000'),\n",
       " numpy.datetime64('2019-08-31T00:00:00.000000000')]"
      ]
     },
     "execution_count": 13,
     "metadata": {},
     "output_type": "execute_result"
    }
   ],
   "source": [
    "#Данные заказов представлены за август 2019 года\n",
    "sorted(orders['date'].unique())"
   ]
  },
  {
   "cell_type": "code",
   "execution_count": 14,
   "metadata": {},
   "outputs": [
    {
     "data": {
      "text/plain": [
       "transactionId    0.0\n",
       "visitorId        0.0\n",
       "date             0.0\n",
       "revenue          0.0\n",
       "group            0.0\n",
       "dtype: float64"
      ]
     },
     "execution_count": 14,
     "metadata": {},
     "output_type": "execute_result"
    }
   ],
   "source": [
    "#Пропуски в данных orders отсутствуют\n",
    "orders.isna().mean()*100"
   ]
  },
  {
   "cell_type": "code",
   "execution_count": 15,
   "metadata": {},
   "outputs": [
    {
     "data": {
      "text/plain": [
       "0"
      ]
     },
     "execution_count": 15,
     "metadata": {},
     "output_type": "execute_result"
    }
   ],
   "source": [
    "#Явные дубликаты в orders отсутствуют\n",
    "orders.duplicated().sum()"
   ]
  },
  {
   "cell_type": "code",
   "execution_count": 16,
   "metadata": {},
   "outputs": [
    {
     "data": {
      "text/html": [
       "<div>\n",
       "<style scoped>\n",
       "    .dataframe tbody tr th:only-of-type {\n",
       "        vertical-align: middle;\n",
       "    }\n",
       "\n",
       "    .dataframe tbody tr th {\n",
       "        vertical-align: top;\n",
       "    }\n",
       "\n",
       "    .dataframe thead th {\n",
       "        text-align: right;\n",
       "    }\n",
       "</style>\n",
       "<table border=\"1\" class=\"dataframe\">\n",
       "  <thead>\n",
       "    <tr style=\"text-align: right;\">\n",
       "      <th></th>\n",
       "      <th>transactionId</th>\n",
       "      <th>visitorId</th>\n",
       "      <th>date</th>\n",
       "      <th>revenue</th>\n",
       "      <th>group</th>\n",
       "    </tr>\n",
       "  </thead>\n",
       "  <tbody>\n",
       "  </tbody>\n",
       "</table>\n",
       "</div>"
      ],
      "text/plain": [
       "Empty DataFrame\n",
       "Columns: [transactionId, visitorId, date, revenue, group]\n",
       "Index: []"
      ]
     },
     "execution_count": 16,
     "metadata": {},
     "output_type": "execute_result"
    }
   ],
   "source": [
    "#Явные дубликаты имеет смысл искать только в столбце \"transactionId\",их там нет:\n",
    "orders[orders['transactionId'].duplicated()]"
   ]
  },
  {
   "cell_type": "markdown",
   "metadata": {},
   "source": []
  },
  {
   "cell_type": "markdown",
   "metadata": {},
   "source": [
    "Комментарий: загружены данные о заказах, скорректирован тип данных в столбце \"date\", пропуски, явные и неявные дубликаты в данных отсутствуют, данные о заказах представлены за август 2019 года.  "
   ]
  },
  {
   "cell_type": "markdown",
   "metadata": {},
   "source": [
    "<b> Готовим данные о посетителях"
   ]
  },
  {
   "cell_type": "code",
   "execution_count": 17,
   "metadata": {},
   "outputs": [
    {
     "data": {
      "text/html": [
       "<div>\n",
       "<style scoped>\n",
       "    .dataframe tbody tr th:only-of-type {\n",
       "        vertical-align: middle;\n",
       "    }\n",
       "\n",
       "    .dataframe tbody tr th {\n",
       "        vertical-align: top;\n",
       "    }\n",
       "\n",
       "    .dataframe thead th {\n",
       "        text-align: right;\n",
       "    }\n",
       "</style>\n",
       "<table border=\"1\" class=\"dataframe\">\n",
       "  <thead>\n",
       "    <tr style=\"text-align: right;\">\n",
       "      <th></th>\n",
       "      <th>date</th>\n",
       "      <th>group</th>\n",
       "      <th>visitors</th>\n",
       "    </tr>\n",
       "  </thead>\n",
       "  <tbody>\n",
       "    <tr>\n",
       "      <th>0</th>\n",
       "      <td>2019-08-01</td>\n",
       "      <td>A</td>\n",
       "      <td>719</td>\n",
       "    </tr>\n",
       "    <tr>\n",
       "      <th>1</th>\n",
       "      <td>2019-08-02</td>\n",
       "      <td>A</td>\n",
       "      <td>619</td>\n",
       "    </tr>\n",
       "    <tr>\n",
       "      <th>2</th>\n",
       "      <td>2019-08-03</td>\n",
       "      <td>A</td>\n",
       "      <td>507</td>\n",
       "    </tr>\n",
       "    <tr>\n",
       "      <th>3</th>\n",
       "      <td>2019-08-04</td>\n",
       "      <td>A</td>\n",
       "      <td>717</td>\n",
       "    </tr>\n",
       "    <tr>\n",
       "      <th>4</th>\n",
       "      <td>2019-08-05</td>\n",
       "      <td>A</td>\n",
       "      <td>756</td>\n",
       "    </tr>\n",
       "  </tbody>\n",
       "</table>\n",
       "</div>"
      ],
      "text/plain": [
       "         date group  visitors\n",
       "0  2019-08-01  A     719     \n",
       "1  2019-08-02  A     619     \n",
       "2  2019-08-03  A     507     \n",
       "3  2019-08-04  A     717     \n",
       "4  2019-08-05  A     756     "
      ]
     },
     "execution_count": 17,
     "metadata": {},
     "output_type": "execute_result"
    }
   ],
   "source": [
    "#Загружаем данные о посетителях\n",
    "visitors = pd.read_csv('/datasets/visitors.csv')\n",
    "visitors.head()"
   ]
  },
  {
   "cell_type": "code",
   "execution_count": 18,
   "metadata": {},
   "outputs": [
    {
     "name": "stdout",
     "output_type": "stream",
     "text": [
      "<class 'pandas.core.frame.DataFrame'>\n",
      "RangeIndex: 62 entries, 0 to 61\n",
      "Data columns (total 3 columns):\n",
      " #   Column    Non-Null Count  Dtype \n",
      "---  ------    --------------  ----- \n",
      " 0   date      62 non-null     object\n",
      " 1   group     62 non-null     object\n",
      " 2   visitors  62 non-null     int64 \n",
      "dtypes: int64(1), object(2)\n",
      "memory usage: 1.6+ KB\n"
     ]
    }
   ],
   "source": [
    "#Cмотрим тип данных в visitors:\n",
    "visitors.info()"
   ]
  },
  {
   "cell_type": "code",
   "execution_count": 19,
   "metadata": {},
   "outputs": [
    {
     "name": "stdout",
     "output_type": "stream",
     "text": [
      "<class 'pandas.core.frame.DataFrame'>\n",
      "RangeIndex: 62 entries, 0 to 61\n",
      "Data columns (total 3 columns):\n",
      " #   Column    Non-Null Count  Dtype         \n",
      "---  ------    --------------  -----         \n",
      " 0   date      62 non-null     datetime64[ns]\n",
      " 1   group     62 non-null     object        \n",
      " 2   visitors  62 non-null     int64         \n",
      "dtypes: datetime64[ns](1), int64(1), object(1)\n",
      "memory usage: 1.6+ KB\n"
     ]
    }
   ],
   "source": [
    "#Меняем тип данных в столбце \"date\" и делаем проверку:\n",
    "visitors['date'] = visitors['date'].map(lambda x: dt.datetime.strptime(x, '%Y-%m-%d'))\n",
    "visitors.info()"
   ]
  },
  {
   "cell_type": "code",
   "execution_count": 20,
   "metadata": {},
   "outputs": [
    {
     "data": {
      "text/plain": [
       "date        0.0\n",
       "group       0.0\n",
       "visitors    0.0\n",
       "dtype: float64"
      ]
     },
     "execution_count": 20,
     "metadata": {},
     "output_type": "execute_result"
    }
   ],
   "source": [
    "#Пропуски в данных отсутствуют:\n",
    "visitors.isna().mean()*100"
   ]
  },
  {
   "cell_type": "code",
   "execution_count": 21,
   "metadata": {},
   "outputs": [
    {
     "data": {
      "text/plain": [
       "0"
      ]
     },
     "execution_count": 21,
     "metadata": {},
     "output_type": "execute_result"
    }
   ],
   "source": [
    "#Явные дубликаты в visitors отсутствуют\n",
    "visitors.duplicated().sum()"
   ]
  },
  {
   "cell_type": "code",
   "execution_count": 22,
   "metadata": {},
   "outputs": [
    {
     "data": {
      "text/html": [
       "<div>\n",
       "<style scoped>\n",
       "    .dataframe tbody tr th:only-of-type {\n",
       "        vertical-align: middle;\n",
       "    }\n",
       "\n",
       "    .dataframe tbody tr th {\n",
       "        vertical-align: top;\n",
       "    }\n",
       "\n",
       "    .dataframe thead th {\n",
       "        text-align: right;\n",
       "    }\n",
       "</style>\n",
       "<table border=\"1\" class=\"dataframe\">\n",
       "  <thead>\n",
       "    <tr style=\"text-align: right;\">\n",
       "      <th></th>\n",
       "      <th>date</th>\n",
       "      <th>group</th>\n",
       "      <th>visitors</th>\n",
       "    </tr>\n",
       "  </thead>\n",
       "  <tbody>\n",
       "  </tbody>\n",
       "</table>\n",
       "</div>"
      ],
      "text/plain": [
       "Empty DataFrame\n",
       "Columns: [date, group, visitors]\n",
       "Index: []"
      ]
     },
     "execution_count": 22,
     "metadata": {},
     "output_type": "execute_result"
    }
   ],
   "source": [
    "#Проверяем дубликаты в столбце \"date\" для группы B.\n",
    "#Дубликаты отсутствуют\n",
    "visitors_b = visitors.query('group == \"B\"')\n",
    "visitors_b[visitors_b['date'].duplicated()]"
   ]
  },
  {
   "cell_type": "code",
   "execution_count": 23,
   "metadata": {},
   "outputs": [
    {
     "data": {
      "text/html": [
       "<div>\n",
       "<style scoped>\n",
       "    .dataframe tbody tr th:only-of-type {\n",
       "        vertical-align: middle;\n",
       "    }\n",
       "\n",
       "    .dataframe tbody tr th {\n",
       "        vertical-align: top;\n",
       "    }\n",
       "\n",
       "    .dataframe thead th {\n",
       "        text-align: right;\n",
       "    }\n",
       "</style>\n",
       "<table border=\"1\" class=\"dataframe\">\n",
       "  <thead>\n",
       "    <tr style=\"text-align: right;\">\n",
       "      <th></th>\n",
       "      <th>date</th>\n",
       "      <th>group</th>\n",
       "      <th>visitors</th>\n",
       "    </tr>\n",
       "  </thead>\n",
       "  <tbody>\n",
       "  </tbody>\n",
       "</table>\n",
       "</div>"
      ],
      "text/plain": [
       "Empty DataFrame\n",
       "Columns: [date, group, visitors]\n",
       "Index: []"
      ]
     },
     "execution_count": 23,
     "metadata": {},
     "output_type": "execute_result"
    }
   ],
   "source": [
    "#Проверяем дубликаты в столбце \"date\" для группы A.\n",
    "#Дубликаты отсутствуют\n",
    "visitors_a = visitors.query('group == \"A\"')\n",
    "visitors_a[visitors_a['date'].duplicated()]"
   ]
  },
  {
   "cell_type": "code",
   "execution_count": 24,
   "metadata": {},
   "outputs": [
    {
     "data": {
      "text/plain": [
       "[numpy.datetime64('2019-08-01T00:00:00.000000000'),\n",
       " numpy.datetime64('2019-08-02T00:00:00.000000000'),\n",
       " numpy.datetime64('2019-08-03T00:00:00.000000000'),\n",
       " numpy.datetime64('2019-08-04T00:00:00.000000000'),\n",
       " numpy.datetime64('2019-08-05T00:00:00.000000000'),\n",
       " numpy.datetime64('2019-08-06T00:00:00.000000000'),\n",
       " numpy.datetime64('2019-08-07T00:00:00.000000000'),\n",
       " numpy.datetime64('2019-08-08T00:00:00.000000000'),\n",
       " numpy.datetime64('2019-08-09T00:00:00.000000000'),\n",
       " numpy.datetime64('2019-08-10T00:00:00.000000000'),\n",
       " numpy.datetime64('2019-08-11T00:00:00.000000000'),\n",
       " numpy.datetime64('2019-08-12T00:00:00.000000000'),\n",
       " numpy.datetime64('2019-08-13T00:00:00.000000000'),\n",
       " numpy.datetime64('2019-08-14T00:00:00.000000000'),\n",
       " numpy.datetime64('2019-08-15T00:00:00.000000000'),\n",
       " numpy.datetime64('2019-08-16T00:00:00.000000000'),\n",
       " numpy.datetime64('2019-08-17T00:00:00.000000000'),\n",
       " numpy.datetime64('2019-08-18T00:00:00.000000000'),\n",
       " numpy.datetime64('2019-08-19T00:00:00.000000000'),\n",
       " numpy.datetime64('2019-08-20T00:00:00.000000000'),\n",
       " numpy.datetime64('2019-08-21T00:00:00.000000000'),\n",
       " numpy.datetime64('2019-08-22T00:00:00.000000000'),\n",
       " numpy.datetime64('2019-08-23T00:00:00.000000000'),\n",
       " numpy.datetime64('2019-08-24T00:00:00.000000000'),\n",
       " numpy.datetime64('2019-08-25T00:00:00.000000000'),\n",
       " numpy.datetime64('2019-08-26T00:00:00.000000000'),\n",
       " numpy.datetime64('2019-08-27T00:00:00.000000000'),\n",
       " numpy.datetime64('2019-08-28T00:00:00.000000000'),\n",
       " numpy.datetime64('2019-08-29T00:00:00.000000000'),\n",
       " numpy.datetime64('2019-08-30T00:00:00.000000000'),\n",
       " numpy.datetime64('2019-08-31T00:00:00.000000000')]"
      ]
     },
     "execution_count": 24,
     "metadata": {},
     "output_type": "execute_result"
    }
   ],
   "source": [
    "#Смотрим на какие даты представлены данные о посетителях\n",
    "sorted(visitors['date'].unique())"
   ]
  },
  {
   "cell_type": "markdown",
   "metadata": {},
   "source": [
    "Комментарий: загружены данные о посетителях, скорректирован тип данных в столбце \"date\", пропуски, явные и неявные дубликаты в данных отсутствуют, данные о посетителях представлены за август 2019 года.  "
   ]
  },
  {
   "cell_type": "code",
   "execution_count": 25,
   "metadata": {},
   "outputs": [
    {
     "data": {
      "text/html": [
       "<div>\n",
       "<style scoped>\n",
       "    .dataframe tbody tr th:only-of-type {\n",
       "        vertical-align: middle;\n",
       "    }\n",
       "\n",
       "    .dataframe tbody tr th {\n",
       "        vertical-align: top;\n",
       "    }\n",
       "\n",
       "    .dataframe thead th {\n",
       "        text-align: right;\n",
       "    }\n",
       "</style>\n",
       "<table border=\"1\" class=\"dataframe\">\n",
       "  <thead>\n",
       "    <tr style=\"text-align: right;\">\n",
       "      <th></th>\n",
       "      <th>transactionId</th>\n",
       "      <th>visitorId</th>\n",
       "      <th>date</th>\n",
       "      <th>revenue</th>\n",
       "      <th>group</th>\n",
       "    </tr>\n",
       "  </thead>\n",
       "  <tbody>\n",
       "    <tr>\n",
       "      <th>0</th>\n",
       "      <td>3667963787</td>\n",
       "      <td>3312258926</td>\n",
       "      <td>2019-08-15</td>\n",
       "      <td>1650</td>\n",
       "      <td>B</td>\n",
       "    </tr>\n",
       "    <tr>\n",
       "      <th>1</th>\n",
       "      <td>2804400009</td>\n",
       "      <td>3642806036</td>\n",
       "      <td>2019-08-15</td>\n",
       "      <td>730</td>\n",
       "      <td>B</td>\n",
       "    </tr>\n",
       "    <tr>\n",
       "      <th>2</th>\n",
       "      <td>2961555356</td>\n",
       "      <td>4069496402</td>\n",
       "      <td>2019-08-15</td>\n",
       "      <td>400</td>\n",
       "      <td>A</td>\n",
       "    </tr>\n",
       "    <tr>\n",
       "      <th>3</th>\n",
       "      <td>3797467345</td>\n",
       "      <td>1196621759</td>\n",
       "      <td>2019-08-15</td>\n",
       "      <td>9759</td>\n",
       "      <td>B</td>\n",
       "    </tr>\n",
       "    <tr>\n",
       "      <th>4</th>\n",
       "      <td>2282983706</td>\n",
       "      <td>2322279887</td>\n",
       "      <td>2019-08-15</td>\n",
       "      <td>2308</td>\n",
       "      <td>B</td>\n",
       "    </tr>\n",
       "  </tbody>\n",
       "</table>\n",
       "</div>"
      ],
      "text/plain": [
       "   transactionId   visitorId       date  revenue group\n",
       "0  3667963787     3312258926 2019-08-15  1650     B   \n",
       "1  2804400009     3642806036 2019-08-15  730      B   \n",
       "2  2961555356     4069496402 2019-08-15  400      A   \n",
       "3  3797467345     1196621759 2019-08-15  9759     B   \n",
       "4  2282983706     2322279887 2019-08-15  2308     B   "
      ]
     },
     "execution_count": 25,
     "metadata": {},
     "output_type": "execute_result"
    }
   ],
   "source": [
    "orders.head()"
   ]
  },
  {
   "cell_type": "code",
   "execution_count": 26,
   "metadata": {
    "scrolled": true
   },
   "outputs": [
    {
     "data": {
      "text/html": [
       "<div>\n",
       "<style scoped>\n",
       "    .dataframe tbody tr th:only-of-type {\n",
       "        vertical-align: middle;\n",
       "    }\n",
       "\n",
       "    .dataframe tbody tr th {\n",
       "        vertical-align: top;\n",
       "    }\n",
       "\n",
       "    .dataframe thead th {\n",
       "        text-align: right;\n",
       "    }\n",
       "</style>\n",
       "<table border=\"1\" class=\"dataframe\">\n",
       "  <thead>\n",
       "    <tr style=\"text-align: right;\">\n",
       "      <th></th>\n",
       "      <th>date</th>\n",
       "      <th>group</th>\n",
       "      <th>visitors</th>\n",
       "    </tr>\n",
       "  </thead>\n",
       "  <tbody>\n",
       "    <tr>\n",
       "      <th>0</th>\n",
       "      <td>2019-08-01</td>\n",
       "      <td>A</td>\n",
       "      <td>719</td>\n",
       "    </tr>\n",
       "    <tr>\n",
       "      <th>1</th>\n",
       "      <td>2019-08-02</td>\n",
       "      <td>A</td>\n",
       "      <td>619</td>\n",
       "    </tr>\n",
       "    <tr>\n",
       "      <th>2</th>\n",
       "      <td>2019-08-03</td>\n",
       "      <td>A</td>\n",
       "      <td>507</td>\n",
       "    </tr>\n",
       "    <tr>\n",
       "      <th>3</th>\n",
       "      <td>2019-08-04</td>\n",
       "      <td>A</td>\n",
       "      <td>717</td>\n",
       "    </tr>\n",
       "    <tr>\n",
       "      <th>4</th>\n",
       "      <td>2019-08-05</td>\n",
       "      <td>A</td>\n",
       "      <td>756</td>\n",
       "    </tr>\n",
       "  </tbody>\n",
       "</table>\n",
       "</div>"
      ],
      "text/plain": [
       "        date group  visitors\n",
       "0 2019-08-01  A     719     \n",
       "1 2019-08-02  A     619     \n",
       "2 2019-08-03  A     507     \n",
       "3 2019-08-04  A     717     \n",
       "4 2019-08-05  A     756     "
      ]
     },
     "execution_count": 26,
     "metadata": {},
     "output_type": "execute_result"
    }
   ],
   "source": [
    "visitors.head()"
   ]
  },
  {
   "cell_type": "code",
   "execution_count": 27,
   "metadata": {},
   "outputs": [
    {
     "name": "stdout",
     "output_type": "stream",
     "text": [
      "['B' 'A']\n",
      "['A' 'B']\n"
     ]
    }
   ],
   "source": [
    "#В таблицах \"orders\" и \"visitors\" по две группы AB-теста.\n",
    "print(orders['group'].unique())\n",
    "print(visitors['group'].unique())"
   ]
  },
  {
   "cell_type": "code",
   "execution_count": 28,
   "metadata": {},
   "outputs": [
    {
     "data": {
      "text/plain": [
       "[numpy.datetime64('2019-08-01T00:00:00.000000000'),\n",
       " numpy.datetime64('2019-08-02T00:00:00.000000000'),\n",
       " numpy.datetime64('2019-08-03T00:00:00.000000000'),\n",
       " numpy.datetime64('2019-08-04T00:00:00.000000000'),\n",
       " numpy.datetime64('2019-08-05T00:00:00.000000000'),\n",
       " numpy.datetime64('2019-08-06T00:00:00.000000000'),\n",
       " numpy.datetime64('2019-08-07T00:00:00.000000000'),\n",
       " numpy.datetime64('2019-08-08T00:00:00.000000000'),\n",
       " numpy.datetime64('2019-08-09T00:00:00.000000000'),\n",
       " numpy.datetime64('2019-08-10T00:00:00.000000000'),\n",
       " numpy.datetime64('2019-08-11T00:00:00.000000000'),\n",
       " numpy.datetime64('2019-08-12T00:00:00.000000000'),\n",
       " numpy.datetime64('2019-08-13T00:00:00.000000000'),\n",
       " numpy.datetime64('2019-08-14T00:00:00.000000000'),\n",
       " numpy.datetime64('2019-08-15T00:00:00.000000000'),\n",
       " numpy.datetime64('2019-08-16T00:00:00.000000000'),\n",
       " numpy.datetime64('2019-08-17T00:00:00.000000000'),\n",
       " numpy.datetime64('2019-08-18T00:00:00.000000000'),\n",
       " numpy.datetime64('2019-08-19T00:00:00.000000000'),\n",
       " numpy.datetime64('2019-08-20T00:00:00.000000000'),\n",
       " numpy.datetime64('2019-08-21T00:00:00.000000000'),\n",
       " numpy.datetime64('2019-08-22T00:00:00.000000000'),\n",
       " numpy.datetime64('2019-08-23T00:00:00.000000000'),\n",
       " numpy.datetime64('2019-08-24T00:00:00.000000000'),\n",
       " numpy.datetime64('2019-08-25T00:00:00.000000000'),\n",
       " numpy.datetime64('2019-08-26T00:00:00.000000000'),\n",
       " numpy.datetime64('2019-08-27T00:00:00.000000000'),\n",
       " numpy.datetime64('2019-08-28T00:00:00.000000000'),\n",
       " numpy.datetime64('2019-08-29T00:00:00.000000000'),\n",
       " numpy.datetime64('2019-08-30T00:00:00.000000000'),\n",
       " numpy.datetime64('2019-08-31T00:00:00.000000000')]"
      ]
     },
     "execution_count": 28,
     "metadata": {},
     "output_type": "execute_result"
    }
   ],
   "source": [
    "#Посмотрим дату начала и окончания теста:\n",
    "sorted(orders['date'].unique())"
   ]
  },
  {
   "cell_type": "code",
   "execution_count": 29,
   "metadata": {},
   "outputs": [
    {
     "data": {
      "text/plain": [
       "array([False])"
      ]
     },
     "execution_count": 29,
     "metadata": {},
     "output_type": "execute_result"
    }
   ],
   "source": [
    "#Проверим, есть ли пользователи в таблице с заказами, которые попали одновременно в обе группы А и В\n",
    "visitorId_from_AB = orders.loc[orders['group']=='A','visitorId'].isin(orders.loc[orders['visitorId']=='B','visitorId'])\n",
    "#Такие пользователи отсутствуют:\n",
    "visitorId_from_AB.unique()"
   ]
  },
  {
   "cell_type": "markdown",
   "metadata": {},
   "source": [
    "Комментарий: представлены две группы в АВ-тесте, дата начала теста - 01.08.2019, дата окончания теста - 31.08.2019, каждый пользователь попал только в одну группу."
   ]
  },
  {
   "cell_type": "markdown",
   "metadata": {},
   "source": [
    "<div class=\"alert alert-warning\">\n",
    "<b>Комментарий с советом ревьюера:</b>\n",
    "\n",
    "Чтобы лучше изучить данные можешь посмотреть:\n",
    "\n",
    "-  сколько у нас групп в АВ-тесте;\n",
    "-  даты начала и окончания теста; \n",
    "-  не попадают ли какие-то пользователи в обе группы - по таблице с заказами. \n",
    " \n",
    "</div>\n"
   ]
  },
  {
   "cell_type": "markdown",
   "metadata": {},
   "source": [
    "<div class=\"alert alert-info\"> <b>Комментарий студента:</b> даннные изучены по вышеприведенным критериям, добавлен комментарий. </div>"
   ]
  },
  {
   "cell_type": "markdown",
   "metadata": {},
   "source": [
    "<div class=\"alert alert-success\">\n",
    "<b>Комментарий с комплиментом ревьюера в2:</b> \n",
    "    \n",
    "Отлично"
   ]
  },
  {
   "cell_type": "code",
   "execution_count": 30,
   "metadata": {},
   "outputs": [
    {
     "data": {
      "text/html": [
       "<div>\n",
       "<style scoped>\n",
       "    .dataframe tbody tr th:only-of-type {\n",
       "        vertical-align: middle;\n",
       "    }\n",
       "\n",
       "    .dataframe tbody tr th {\n",
       "        vertical-align: top;\n",
       "    }\n",
       "\n",
       "    .dataframe thead th {\n",
       "        text-align: right;\n",
       "    }\n",
       "</style>\n",
       "<table border=\"1\" class=\"dataframe\">\n",
       "  <thead>\n",
       "    <tr style=\"text-align: right;\">\n",
       "      <th></th>\n",
       "      <th>transactionId</th>\n",
       "      <th>visitorId</th>\n",
       "      <th>date</th>\n",
       "      <th>revenue</th>\n",
       "      <th>group</th>\n",
       "    </tr>\n",
       "  </thead>\n",
       "  <tbody>\n",
       "    <tr>\n",
       "      <th>0</th>\n",
       "      <td>3667963787</td>\n",
       "      <td>3312258926</td>\n",
       "      <td>2019-08-15</td>\n",
       "      <td>1650</td>\n",
       "      <td>B</td>\n",
       "    </tr>\n",
       "    <tr>\n",
       "      <th>1</th>\n",
       "      <td>2804400009</td>\n",
       "      <td>3642806036</td>\n",
       "      <td>2019-08-15</td>\n",
       "      <td>730</td>\n",
       "      <td>B</td>\n",
       "    </tr>\n",
       "    <tr>\n",
       "      <th>2</th>\n",
       "      <td>2961555356</td>\n",
       "      <td>4069496402</td>\n",
       "      <td>2019-08-15</td>\n",
       "      <td>400</td>\n",
       "      <td>A</td>\n",
       "    </tr>\n",
       "    <tr>\n",
       "      <th>3</th>\n",
       "      <td>3797467345</td>\n",
       "      <td>1196621759</td>\n",
       "      <td>2019-08-15</td>\n",
       "      <td>9759</td>\n",
       "      <td>B</td>\n",
       "    </tr>\n",
       "    <tr>\n",
       "      <th>4</th>\n",
       "      <td>2282983706</td>\n",
       "      <td>2322279887</td>\n",
       "      <td>2019-08-15</td>\n",
       "      <td>2308</td>\n",
       "      <td>B</td>\n",
       "    </tr>\n",
       "    <tr>\n",
       "      <th>5</th>\n",
       "      <td>182168103</td>\n",
       "      <td>935554773</td>\n",
       "      <td>2019-08-15</td>\n",
       "      <td>2210</td>\n",
       "      <td>B</td>\n",
       "    </tr>\n",
       "    <tr>\n",
       "      <th>6</th>\n",
       "      <td>398296753</td>\n",
       "      <td>2900797465</td>\n",
       "      <td>2019-08-15</td>\n",
       "      <td>1860</td>\n",
       "      <td>B</td>\n",
       "    </tr>\n",
       "    <tr>\n",
       "      <th>7</th>\n",
       "      <td>2626614568</td>\n",
       "      <td>78758296</td>\n",
       "      <td>2019-08-15</td>\n",
       "      <td>1044</td>\n",
       "      <td>A</td>\n",
       "    </tr>\n",
       "    <tr>\n",
       "      <th>8</th>\n",
       "      <td>1576988021</td>\n",
       "      <td>295230930</td>\n",
       "      <td>2019-08-15</td>\n",
       "      <td>13710</td>\n",
       "      <td>A</td>\n",
       "    </tr>\n",
       "    <tr>\n",
       "      <th>9</th>\n",
       "      <td>1506739906</td>\n",
       "      <td>1882260405</td>\n",
       "      <td>2019-08-15</td>\n",
       "      <td>1855</td>\n",
       "      <td>B</td>\n",
       "    </tr>\n",
       "  </tbody>\n",
       "</table>\n",
       "</div>"
      ],
      "text/plain": [
       "   transactionId   visitorId       date  revenue group\n",
       "0  3667963787     3312258926 2019-08-15  1650     B   \n",
       "1  2804400009     3642806036 2019-08-15  730      B   \n",
       "2  2961555356     4069496402 2019-08-15  400      A   \n",
       "3  3797467345     1196621759 2019-08-15  9759     B   \n",
       "4  2282983706     2322279887 2019-08-15  2308     B   \n",
       "5  182168103      935554773  2019-08-15  2210     B   \n",
       "6  398296753      2900797465 2019-08-15  1860     B   \n",
       "7  2626614568     78758296   2019-08-15  1044     A   \n",
       "8  1576988021     295230930  2019-08-15  13710    A   \n",
       "9  1506739906     1882260405 2019-08-15  1855     B   "
      ]
     },
     "execution_count": 30,
     "metadata": {},
     "output_type": "execute_result"
    }
   ],
   "source": [
    "orders.head(10)"
   ]
  },
  {
   "cell_type": "code",
   "execution_count": 31,
   "metadata": {},
   "outputs": [
    {
     "name": "stdout",
     "output_type": "stream",
     "text": [
      "date        31\n",
      "group       31\n",
      "visitors    31\n",
      "dtype: int64\n",
      "date        31\n",
      "group       31\n",
      "visitors    31\n",
      "dtype: int64\n",
      "transactionId    557\n",
      "visitorId        557\n",
      "date             557\n",
      "revenue          557\n",
      "group            557\n",
      "dtype: int64\n",
      "transactionId    640\n",
      "visitorId        640\n",
      "date             640\n",
      "revenue          640\n",
      "group            640\n",
      "dtype: int64\n"
     ]
    }
   ],
   "source": [
    "print(visitors[visitors['group']=='A'].count())\n",
    "print(visitors[visitors['group']=='B'].count())\n",
    "print(orders[orders['group']=='A'].count())\n",
    "print(orders[orders['group']=='B'].count())"
   ]
  },
  {
   "cell_type": "markdown",
   "metadata": {},
   "source": [
    "<div class=\"alert alert-success\">\n",
    "<b>Комментарий с комплиментом ревьюера:</b>\n",
    "    \n",
    "Данные корректно подготовлены к работе.\n",
    "</div>\n"
   ]
  },
  {
   "cell_type": "markdown",
   "metadata": {},
   "source": [
    "<b>2.1. Анализ графика кумулятивной выручки по группам"
   ]
  },
  {
   "cell_type": "code",
   "execution_count": 32,
   "metadata": {},
   "outputs": [],
   "source": [
    "# создаем массив уникальных пар значений дат и групп теста\n",
    "datesGroups = orders[['date','group']].drop_duplicates() "
   ]
  },
  {
   "cell_type": "code",
   "execution_count": 33,
   "metadata": {},
   "outputs": [],
   "source": [
    "ordersAggregated = datesGroups.apply(\n",
    "    lambda x: orders[\n",
    "        np.logical_and(\n",
    "            orders['date'] <= x['date'], orders['group'] == x['group']\n",
    "        )\n",
    "    ].agg(\n",
    "        {\n",
    "            'date': 'max',\n",
    "            'group': 'max',\n",
    "            'transactionId': 'nunique',\n",
    "            'visitorId': 'nunique',\n",
    "            'revenue': 'sum',\n",
    "        }\n",
    "    ),\n",
    "    axis=1,\n",
    ").sort_values(by=['date', 'group'])\n"
   ]
  },
  {
   "cell_type": "code",
   "execution_count": 34,
   "metadata": {},
   "outputs": [],
   "source": [
    "visitorsAggregated = datesGroups.apply(\n",
    "    lambda x: visitors[\n",
    "        np.logical_and(\n",
    "            visitors['date'] <= x['date'], visitors['group'] == x['group']\n",
    "        )\n",
    "    ].agg({'date': 'max', 'group': 'max', 'visitors': 'sum'}),\n",
    "    axis=1,\n",
    ").sort_values(by=['date', 'group'])\n"
   ]
  },
  {
   "cell_type": "code",
   "execution_count": 35,
   "metadata": {
    "scrolled": true
   },
   "outputs": [
    {
     "data": {
      "text/html": [
       "<div>\n",
       "<style scoped>\n",
       "    .dataframe tbody tr th:only-of-type {\n",
       "        vertical-align: middle;\n",
       "    }\n",
       "\n",
       "    .dataframe tbody tr th {\n",
       "        vertical-align: top;\n",
       "    }\n",
       "\n",
       "    .dataframe thead th {\n",
       "        text-align: right;\n",
       "    }\n",
       "</style>\n",
       "<table border=\"1\" class=\"dataframe\">\n",
       "  <thead>\n",
       "    <tr style=\"text-align: right;\">\n",
       "      <th></th>\n",
       "      <th>date</th>\n",
       "      <th>group</th>\n",
       "      <th>orders</th>\n",
       "      <th>buyers</th>\n",
       "      <th>revenue</th>\n",
       "      <th>visitors</th>\n",
       "    </tr>\n",
       "  </thead>\n",
       "  <tbody>\n",
       "    <tr>\n",
       "      <th>0</th>\n",
       "      <td>2019-08-01</td>\n",
       "      <td>A</td>\n",
       "      <td>24</td>\n",
       "      <td>20</td>\n",
       "      <td>148579</td>\n",
       "      <td>719</td>\n",
       "    </tr>\n",
       "    <tr>\n",
       "      <th>1</th>\n",
       "      <td>2019-08-01</td>\n",
       "      <td>B</td>\n",
       "      <td>21</td>\n",
       "      <td>20</td>\n",
       "      <td>101217</td>\n",
       "      <td>713</td>\n",
       "    </tr>\n",
       "    <tr>\n",
       "      <th>2</th>\n",
       "      <td>2019-08-02</td>\n",
       "      <td>A</td>\n",
       "      <td>44</td>\n",
       "      <td>38</td>\n",
       "      <td>242401</td>\n",
       "      <td>1338</td>\n",
       "    </tr>\n",
       "    <tr>\n",
       "      <th>3</th>\n",
       "      <td>2019-08-02</td>\n",
       "      <td>B</td>\n",
       "      <td>45</td>\n",
       "      <td>43</td>\n",
       "      <td>266748</td>\n",
       "      <td>1294</td>\n",
       "    </tr>\n",
       "    <tr>\n",
       "      <th>4</th>\n",
       "      <td>2019-08-03</td>\n",
       "      <td>A</td>\n",
       "      <td>68</td>\n",
       "      <td>62</td>\n",
       "      <td>354874</td>\n",
       "      <td>1845</td>\n",
       "    </tr>\n",
       "  </tbody>\n",
       "</table>\n",
       "</div>"
      ],
      "text/plain": [
       "        date group  orders  buyers  revenue  visitors\n",
       "0 2019-08-01  A     24      20      148579   719     \n",
       "1 2019-08-01  B     21      20      101217   713     \n",
       "2 2019-08-02  A     44      38      242401   1338    \n",
       "3 2019-08-02  B     45      43      266748   1294    \n",
       "4 2019-08-03  A     68      62      354874   1845    "
      ]
     },
     "execution_count": 35,
     "metadata": {},
     "output_type": "execute_result"
    }
   ],
   "source": [
    "# объединяем кумулятивные данные в одной таблице и присваиваем ее столбцам понятные названия\n",
    "cumulativeData = ordersAggregated.merge(\n",
    "    visitorsAggregated, left_on=['date', 'group'], right_on=['date', 'group']\n",
    ")\n",
    "cumulativeData.columns = [\n",
    "    'date',\n",
    "    'group',\n",
    "    'orders',\n",
    "    'buyers',\n",
    "    'revenue',\n",
    "    'visitors',\n",
    "]\n",
    "cumulativeData.head()"
   ]
  },
  {
   "cell_type": "markdown",
   "metadata": {},
   "source": [
    "<div class=\"alert alert-success\">\n",
    "<b>Комментарий с комплиментом ревьюера:</b>\n",
    "    \n",
    "Здорово, что создан объединенный датафрейм и корректно отображены названия столбцов.\n",
    "</div>\n"
   ]
  },
  {
   "cell_type": "code",
   "execution_count": 36,
   "metadata": {},
   "outputs": [
    {
     "data": {
      "text/plain": [
       "Text(0, 0.5, 'Выручка')"
      ]
     },
     "execution_count": 36,
     "metadata": {},
     "output_type": "execute_result"
    },
    {
     "data": {
      "image/png": "[encoded data removed]",
      "text/plain": [
       "<Figure size 432x288 with 1 Axes>"
      ]
     },
     "metadata": {
      "needs_background": "light"
     },
     "output_type": "display_data"
    }
   ],
   "source": [
    "# датафрейм с кумулятивным количеством заказов и кумулятивной выручкой по дням в группе А\n",
    "cumulativeRevenueA = cumulativeData[cumulativeData['group']=='A'][['date','revenue', 'orders']]\n",
    "\n",
    "# датафрейм с кумулятивным количеством заказов и кумулятивной выручкой по дням в группе B\n",
    "cumulativeRevenueB = cumulativeData[cumulativeData['group']=='B'][['date','revenue', 'orders']]\n",
    "\n",
    "# Строим график выручки группы А\n",
    "plt.plot(cumulativeRevenueA['date'], cumulativeRevenueA['revenue'], label='A')\n",
    "\n",
    "# Строим график выручки группы B\n",
    "plt.plot(cumulativeRevenueB['date'], cumulativeRevenueB['revenue'], label='B')\n",
    "\n",
    "plt.xticks(rotation=45)\n",
    "plt.legend() \n",
    "plt.title('График кумулятивной выручки по группам')\n",
    "plt.xlabel('Период')\n",
    "plt.ylabel('Выручка')"
   ]
  },
  {
   "cell_type": "markdown",
   "metadata": {},
   "source": [
    "Комментарий: выручка группы B после 13 августа вырывается вперед и стабильно превышает выручку группы А до конца наблюдений.\n",
    "В отличие от выручки группы А выручка группы В меняется скачкообразно, можно предположить, что резкие скачки связаны с большими единичными заказами."
   ]
  },
  {
   "cell_type": "markdown",
   "metadata": {},
   "source": [
    "<div class=\"alert alert-success\">\n",
    "<b>Комментарий с комплиментом ревьюера:</b>\n",
    "    \n",
    "График интерпретирован верно, здорово, что выдвинуто предположение природы появления всплеска.\n",
    "</div>\n"
   ]
  },
  {
   "cell_type": "markdown",
   "metadata": {},
   "source": [
    "<b> 2.2 Анализ графика кумулятивного среднего чека по группам. "
   ]
  },
  {
   "cell_type": "code",
   "execution_count": 37,
   "metadata": {},
   "outputs": [
    {
     "data": {
      "text/plain": [
       "Text(0, 0.5, 'Средний чек')"
      ]
     },
     "execution_count": 37,
     "metadata": {},
     "output_type": "execute_result"
    },
    {
     "data": {
      "image/png": "[encoded data removed]",
      "text/plain": [
       "<Figure size 432x288 with 1 Axes>"
      ]
     },
     "metadata": {
      "needs_background": "light"
     },
     "output_type": "display_data"
    }
   ],
   "source": [
    "plt.plot(cumulativeRevenueA['date'], cumulativeRevenueA['revenue']/cumulativeRevenueA['orders'], label='A')\n",
    "plt.plot(cumulativeRevenueB['date'], cumulativeRevenueB['revenue']/cumulativeRevenueB['orders'], label='B')\n",
    "plt.xticks(rotation=45)\n",
    "plt.legend() \n",
    "plt.title('График кумулятивного среднего чека по группам')\n",
    "plt.xlabel('Период')\n",
    "plt.ylabel('Средний чек')"
   ]
  },
  {
   "cell_type": "markdown",
   "metadata": {},
   "source": [
    "Комментарий: кумулятивное значение среднего чека колеблется. После 17 августа кумулятивное значение среднего чека по группе В превышает значение среднего чека по группе А, возможно были выбросы по выручке из группы В. Принимать решение по данной метрике рано."
   ]
  },
  {
   "cell_type": "markdown",
   "metadata": {},
   "source": [
    "<div class=\"alert alert-success\">\n",
    "<b>Комментарий с комплиментом ревьюера:</b>\n",
    "    \n",
    "Согласен с выводом по графику.\n",
    "</div>\n"
   ]
  },
  {
   "cell_type": "markdown",
   "metadata": {},
   "source": [
    "<b> 2.3 Анализ графика относительного среднего чека по группам. "
   ]
  },
  {
   "cell_type": "code",
   "execution_count": 38,
   "metadata": {},
   "outputs": [
    {
     "data": {
      "text/plain": [
       "(array([18109., 18113., 18117., 18121., 18125., 18129., 18133., 18137.,\n",
       "        18140.]),\n",
       " [Text(0, 0, ''),\n",
       "  Text(0, 0, ''),\n",
       "  Text(0, 0, ''),\n",
       "  Text(0, 0, ''),\n",
       "  Text(0, 0, ''),\n",
       "  Text(0, 0, ''),\n",
       "  Text(0, 0, ''),\n",
       "  Text(0, 0, ''),\n",
       "  Text(0, 0, '')])"
      ]
     },
     "execution_count": 38,
     "metadata": {},
     "output_type": "execute_result"
    },
    {
     "data": {
      "image/png": "[encoded data removed]",
      "text/plain": [
       "<Figure size 432x288 with 1 Axes>"
      ]
     },
     "metadata": {
      "needs_background": "light"
     },
     "output_type": "display_data"
    }
   ],
   "source": [
    "# собираем данные в одном датафрейме\n",
    "mergedCumulativeRevenue = cumulativeRevenueA.merge(cumulativeRevenueB, left_on='date', right_on='date', how='left', suffixes=['A', 'B'])\n",
    "\n",
    "# cтроим отношение средних чеков\n",
    "plt.plot(mergedCumulativeRevenue['date'], (mergedCumulativeRevenue['revenueB']/mergedCumulativeRevenue['ordersB'])/(mergedCumulativeRevenue['revenueA']/mergedCumulativeRevenue['ordersA'])-1)\n",
    "plt.title('График кумулятивного среднего чека по группам')\n",
    "plt.xlabel('Период')\n",
    "plt.ylabel('Средний чек')\n",
    "\n",
    "# добавляем ось X\n",
    "plt.axhline(y=0, color='black', linestyle='--')\n",
    "plt.xticks(rotation=45)"
   ]
  },
  {
   "cell_type": "markdown",
   "metadata": {},
   "source": [
    "Комментарий: построены различия в средних чеках между группами А и В. Результаты теста менялись несколько раз. В основном на наблюдаемом интервале средний размер чека из группы В превышает средний размер чека группы А, кроме двух дат 1 и 13 августа, вероятно, в эти даты были аномально большие чеки  группы А."
   ]
  },
  {
   "cell_type": "markdown",
   "metadata": {},
   "source": [
    "<div class=\"alert alert-success\">\n",
    "<b>Комментарий с комплиментом ревьюера:</b>\n",
    "    \n",
    "Сначала средний чек группы B стабильно растет, потом резко падает и снова растет. Согласен, влияние крупных заказов.   \n",
    "</div>\n"
   ]
  },
  {
   "cell_type": "markdown",
   "metadata": {},
   "source": [
    "<b> 2.4. Анализ графика кумулятивного среднего количества заказов на посетителя по группам "
   ]
  },
  {
   "cell_type": "code",
   "execution_count": 39,
   "metadata": {},
   "outputs": [
    {
     "data": {
      "text/plain": [
       "(array([18109., 18113., 18117., 18121., 18125., 18129., 18133., 18137.]),\n",
       " [Text(0, 0, ''),\n",
       "  Text(0, 0, ''),\n",
       "  Text(0, 0, ''),\n",
       "  Text(0, 0, ''),\n",
       "  Text(0, 0, ''),\n",
       "  Text(0, 0, ''),\n",
       "  Text(0, 0, ''),\n",
       "  Text(0, 0, '')])"
      ]
     },
     "execution_count": 39,
     "metadata": {},
     "output_type": "execute_result"
    },
    {
     "data": {
      "image/png": "[encoded data removed]",
      "text/plain": [
       "<Figure size 432x288 with 1 Axes>"
      ]
     },
     "metadata": {
      "needs_background": "light"
     },
     "output_type": "display_data"
    }
   ],
   "source": [
    "#Добавляем столбец конверсии \n",
    "cumulativeData['conversion'] = cumulativeData['orders']/cumulativeData['visitors']\n",
    "# отделяем данные по группе A\n",
    "cumulativeDataA = cumulativeData[cumulativeData['group']=='A']\n",
    "\n",
    "# отделяем данные по группе B\n",
    "cumulativeDataB = cumulativeData[cumulativeData['group']=='B']\n",
    "\n",
    "# строим графики\n",
    "plt.plot(cumulativeDataA['date'], cumulativeDataA['conversion'], label='A')\n",
    "plt.plot(cumulativeDataB['date'], cumulativeDataB['conversion'], label='B')\n",
    "plt.legend()\n",
    "plt.title('График кумулятивного среднего количества заказов на посетителя по группам')\n",
    "plt.xlabel('Период')\n",
    "plt.ylabel('Количество заказов')\n",
    "\n",
    "# задаем масштаб осей\n",
    "plt.axis([dt.datetime(2019, 8, 1), dt.datetime(2019, 8, 31), 0.025, 0.04]) \n",
    "plt.xticks(rotation=45)\n"
   ]
  },
  {
   "cell_type": "markdown",
   "metadata": {},
   "source": [
    "Комментарий: в начале теста конверсии групп сильно колебались и нельзя было сделать однозначный вывод о соотношении конверси групп. Далее конверсии стабилизировались и выяснилось, что конверсия группы В лидирует."
   ]
  },
  {
   "cell_type": "markdown",
   "metadata": {},
   "source": [
    "<div class=\"alert alert-success\">\n",
    "<b>Комментарий с комплиментом ревьюера:</b>\n",
    "    \n",
    "Все верно, среднее количество заказов группы В продолжает выигрывать до конца.  \n",
    "</div>\n"
   ]
  },
  {
   "cell_type": "markdown",
   "metadata": {},
   "source": [
    "<b> 2.5. Анализ графика относительного изменения кумулятивного среднего количества заказов на посетителя группы B к группе A."
   ]
  },
  {
   "cell_type": "code",
   "execution_count": 40,
   "metadata": {},
   "outputs": [
    {
     "data": {
      "text/plain": [
       "(array([18109., 18113., 18117., 18121., 18125., 18129., 18133., 18137.]),\n",
       " [Text(0, 0, ''),\n",
       "  Text(0, 0, ''),\n",
       "  Text(0, 0, ''),\n",
       "  Text(0, 0, ''),\n",
       "  Text(0, 0, ''),\n",
       "  Text(0, 0, ''),\n",
       "  Text(0, 0, ''),\n",
       "  Text(0, 0, '')])"
      ]
     },
     "execution_count": 40,
     "metadata": {},
     "output_type": "execute_result"
    },
    {
     "data": {
      "image/png": "[encoded data removed]",
      "text/plain": [
       "<Figure size 432x288 with 1 Axes>"
      ]
     },
     "metadata": {
      "needs_background": "light"
     },
     "output_type": "display_data"
    }
   ],
   "source": [
    "mergedCumulativeConversions = cumulativeDataA[['date','conversion']].merge(cumulativeDataB[['date','conversion']], left_on='date', right_on='date', how='left', suffixes=['A', 'B'])\n",
    "\n",
    "plt.plot(mergedCumulativeConversions['date'], mergedCumulativeConversions['conversionB']/mergedCumulativeConversions['conversionA']-1, \n",
    "         label=\"Относительный прирост конверсии группы B относительно группы A\")\n",
    "plt.title('График относительного изменения кумулятивного среднего количества заказов на посетителя группы B к группе A')\n",
    "plt.xlabel('Период')\n",
    "plt.ylabel('Количество заказов')\n",
    "\n",
    "# задаем масштаб осей\n",
    "plt.axhline(y=0, color='black', linestyle='--')\n",
    "plt.axhline(y=0.2, color='grey', linestyle='--')\n",
    "plt.axis([dt.datetime(2019, 8, 1), dt.datetime(2019, 8, 31), -0.5, 0.4]) \n",
    "plt.xticks(rotation=45)\n"
   ]
  },
  {
   "cell_type": "markdown",
   "metadata": {},
   "source": [
    "Комментарий: построены различия в средних количествах заказов между группами А и В. Результаты теста менялись несколько раз. В основном на наблюдаемом интервале среднее количество заказов группы В превышает количество заказов группы А, за исключением периода до 05.08.2019."
   ]
  },
  {
   "cell_type": "markdown",
   "metadata": {},
   "source": [
    "<div class=\"alert alert-success\">\n",
    "<b>Комментарий с комплиментом ревьюера:</b>\n",
    "    \n",
    "Все верно, здорово, что была использована axhline.\n"
   ]
  },
  {
   "cell_type": "markdown",
   "metadata": {},
   "source": [
    "<b> 2.6. Анализируем точечный график количества заказов по пользователям. "
   ]
  },
  {
   "cell_type": "code",
   "execution_count": 41,
   "metadata": {},
   "outputs": [
    {
     "data": {
      "text/plain": [
       "Text(0, 0.5, 'Количество заказов')"
      ]
     },
     "execution_count": 41,
     "metadata": {},
     "output_type": "execute_result"
    },
    {
     "data": {
      "image/png": "[encoded data removed]",
      "text/plain": [
       "<Figure size 432x288 with 1 Axes>"
      ]
     },
     "metadata": {
      "needs_background": "light"
     },
     "output_type": "display_data"
    }
   ],
   "source": [
    "#Найдем сначала число заказов по пользователям\n",
    "ordersByUsers = (orders.groupby('visitorId',as_index = False).agg({'transactionId':'nunique'}))\n",
    "\n",
    "#Переименуем названия колонок\n",
    "ordersByUsers.columns = ['userId','orders']\n",
    "#Делаем серию из чисел от  0  до количества наблюдений в заказах пользователей (ordersByUsers):\n",
    "x_value = pd.Series(range(0,len(ordersByUsers)))\n",
    "plt.scatter(x_value,ordersByUsers['orders'])\n",
    "plt.title('График количества заказов по пользователям')\n",
    "plt.xlabel('Пользователи')\n",
    "plt.ylabel('Количество заказов')"
   ]
  },
  {
   "cell_type": "markdown",
   "metadata": {},
   "source": [
    "Комментарий: преимущественное большинство пользователей делают 1 заказ, чуть реже два. "
   ]
  },
  {
   "cell_type": "markdown",
   "metadata": {},
   "source": [
    "<div class=\"alert alert-success\">\n",
    "<b>Комментарий с комплиментом ревьюера:</b>\n",
    "    \n",
    "Все верно\n"
   ]
  },
  {
   "cell_type": "markdown",
   "metadata": {},
   "source": [
    "<b> 2.7. Рассчитываем 95-й и 99-й перцентиль заказов, определяем границу аномальных заказов."
   ]
  },
  {
   "cell_type": "code",
   "execution_count": 42,
   "metadata": {},
   "outputs": [
    {
     "data": {
      "text/plain": [
       "array([2., 4.])"
      ]
     },
     "execution_count": 42,
     "metadata": {},
     "output_type": "execute_result"
    }
   ],
   "source": [
    "#Рассчитаем 95-й и 99-й перцентили заказов\n",
    "np.percentile(ordersByUsers['orders'],[95,99])"
   ]
  },
  {
   "cell_type": "markdown",
   "metadata": {},
   "source": [
    "Комментарий: не более 5% пользователей сделали 2 заказа, не более 1% пользователей сделали 4 заказа. Принимая во внимание расчет перцентилей и график распределения заказов, будем считать количество заказов больше 2 аномальным."
   ]
  },
  {
   "cell_type": "markdown",
   "metadata": {},
   "source": [
    "<div class=\"alert alert-success\">\n",
    "<b>Комментарий с комплиментом ревьюера:</b>\n",
    "\n",
    "95-й и 99-й перцентили определены верно, нижняя граница числа заказов выбрана корректно, молодец.</div>\n"
   ]
  },
  {
   "cell_type": "markdown",
   "metadata": {},
   "source": [
    "<b> 2.8. Анализируем точечный график стоимости заказов. "
   ]
  },
  {
   "cell_type": "code",
   "execution_count": 43,
   "metadata": {},
   "outputs": [
    {
     "data": {
      "text/plain": [
       "Text(0, 0.5, 'Стоимость заказов')"
      ]
     },
     "execution_count": 43,
     "metadata": {},
     "output_type": "execute_result"
    },
    {
     "data": {
      "image/png": "[encoded data removed]",
      "text/plain": [
       "<Figure size 432x288 with 1 Axes>"
      ]
     },
     "metadata": {
      "needs_background": "light"
     },
     "output_type": "display_data"
    }
   ],
   "source": [
    "#Делаем серию из чисел от  0  до количества наблюдений в заказах пользователей (orders):\n",
    "y_value = pd.Series(range(0,len(orders)))\n",
    "plt.scatter(y_value,orders['revenue'])\n",
    "plt.title('Точечный график стоимости заказов')\n",
    "plt.xlabel('Пользователи')\n",
    "plt.ylabel('Стоимость заказов')"
   ]
  },
  {
   "cell_type": "markdown",
   "metadata": {},
   "source": [
    "<div class=\"alert alert-danger\">\n",
    "<b>Комментарий с замечанием:</b> \n",
    "    \n",
    "Добавь, пожалуйста, заголовок для графика.\n",
    " \n",
    "</div>\n"
   ]
  },
  {
   "cell_type": "markdown",
   "metadata": {},
   "source": [
    "<div class=\"alert alert-info\"> <b>Комментарий студента:</b> заголовок графика добавлен. </div>"
   ]
  },
  {
   "cell_type": "markdown",
   "metadata": {},
   "source": [
    "<div class=\"alert alert-success\">\n",
    "<b>Комментарий с комплиментом ревьюера в2:</b> \n",
    "    \n",
    "Отлично"
   ]
  },
  {
   "cell_type": "code",
   "execution_count": 44,
   "metadata": {},
   "outputs": [
    {
     "data": {
      "text/html": [
       "<div>\n",
       "<style scoped>\n",
       "    .dataframe tbody tr th:only-of-type {\n",
       "        vertical-align: middle;\n",
       "    }\n",
       "\n",
       "    .dataframe tbody tr th {\n",
       "        vertical-align: top;\n",
       "    }\n",
       "\n",
       "    .dataframe thead th {\n",
       "        text-align: right;\n",
       "    }\n",
       "</style>\n",
       "<table border=\"1\" class=\"dataframe\">\n",
       "  <thead>\n",
       "    <tr style=\"text-align: right;\">\n",
       "      <th></th>\n",
       "      <th>transactionId</th>\n",
       "      <th>visitorId</th>\n",
       "      <th>date</th>\n",
       "      <th>revenue</th>\n",
       "      <th>group</th>\n",
       "    </tr>\n",
       "  </thead>\n",
       "  <tbody>\n",
       "    <tr>\n",
       "      <th>425</th>\n",
       "      <td>590470918</td>\n",
       "      <td>1920142716</td>\n",
       "      <td>2019-08-19</td>\n",
       "      <td>1294500</td>\n",
       "      <td>B</td>\n",
       "    </tr>\n",
       "    <tr>\n",
       "      <th>1196</th>\n",
       "      <td>3936777065</td>\n",
       "      <td>2108080724</td>\n",
       "      <td>2019-08-15</td>\n",
       "      <td>202740</td>\n",
       "      <td>B</td>\n",
       "    </tr>\n",
       "    <tr>\n",
       "      <th>858</th>\n",
       "      <td>192721366</td>\n",
       "      <td>1316129916</td>\n",
       "      <td>2019-08-27</td>\n",
       "      <td>93940</td>\n",
       "      <td>A</td>\n",
       "    </tr>\n",
       "    <tr>\n",
       "      <th>1136</th>\n",
       "      <td>666610489</td>\n",
       "      <td>1307669133</td>\n",
       "      <td>2019-08-13</td>\n",
       "      <td>92550</td>\n",
       "      <td>A</td>\n",
       "    </tr>\n",
       "    <tr>\n",
       "      <th>744</th>\n",
       "      <td>3668308183</td>\n",
       "      <td>888512513</td>\n",
       "      <td>2019-08-27</td>\n",
       "      <td>86620</td>\n",
       "      <td>B</td>\n",
       "    </tr>\n",
       "    <tr>\n",
       "      <th>682</th>\n",
       "      <td>1216533772</td>\n",
       "      <td>4266935830</td>\n",
       "      <td>2019-08-29</td>\n",
       "      <td>78990</td>\n",
       "      <td>B</td>\n",
       "    </tr>\n",
       "    <tr>\n",
       "      <th>662</th>\n",
       "      <td>1811671147</td>\n",
       "      <td>4266935830</td>\n",
       "      <td>2019-08-29</td>\n",
       "      <td>78990</td>\n",
       "      <td>A</td>\n",
       "    </tr>\n",
       "    <tr>\n",
       "      <th>743</th>\n",
       "      <td>3603576309</td>\n",
       "      <td>4133034833</td>\n",
       "      <td>2019-08-09</td>\n",
       "      <td>67990</td>\n",
       "      <td>A</td>\n",
       "    </tr>\n",
       "    <tr>\n",
       "      <th>1103</th>\n",
       "      <td>1348774318</td>\n",
       "      <td>1164614297</td>\n",
       "      <td>2019-08-12</td>\n",
       "      <td>66350</td>\n",
       "      <td>A</td>\n",
       "    </tr>\n",
       "    <tr>\n",
       "      <th>1099</th>\n",
       "      <td>316924019</td>\n",
       "      <td>148427295</td>\n",
       "      <td>2019-08-12</td>\n",
       "      <td>65710</td>\n",
       "      <td>A</td>\n",
       "    </tr>\n",
       "    <tr>\n",
       "      <th>949</th>\n",
       "      <td>1347999392</td>\n",
       "      <td>887908475</td>\n",
       "      <td>2019-08-21</td>\n",
       "      <td>60450</td>\n",
       "      <td>A</td>\n",
       "    </tr>\n",
       "    <tr>\n",
       "      <th>940</th>\n",
       "      <td>2420050534</td>\n",
       "      <td>4003628586</td>\n",
       "      <td>2019-08-08</td>\n",
       "      <td>58550</td>\n",
       "      <td>B</td>\n",
       "    </tr>\n",
       "    <tr>\n",
       "      <th>1029</th>\n",
       "      <td>469609643</td>\n",
       "      <td>2378935119</td>\n",
       "      <td>2019-08-10</td>\n",
       "      <td>58220</td>\n",
       "      <td>A</td>\n",
       "    </tr>\n",
       "    <tr>\n",
       "      <th>873</th>\n",
       "      <td>2519737434</td>\n",
       "      <td>4256040402</td>\n",
       "      <td>2019-08-08</td>\n",
       "      <td>58220</td>\n",
       "      <td>B</td>\n",
       "    </tr>\n",
       "    <tr>\n",
       "      <th>60</th>\n",
       "      <td>1421016313</td>\n",
       "      <td>4256040402</td>\n",
       "      <td>2019-08-16</td>\n",
       "      <td>56650</td>\n",
       "      <td>B</td>\n",
       "    </tr>\n",
       "  </tbody>\n",
       "</table>\n",
       "</div>"
      ],
      "text/plain": [
       "      transactionId   visitorId       date  revenue group\n",
       "425   590470918      1920142716 2019-08-19  1294500  B   \n",
       "1196  3936777065     2108080724 2019-08-15  202740   B   \n",
       "858   192721366      1316129916 2019-08-27  93940    A   \n",
       "1136  666610489      1307669133 2019-08-13  92550    A   \n",
       "744   3668308183     888512513  2019-08-27  86620    B   \n",
       "682   1216533772     4266935830 2019-08-29  78990    B   \n",
       "662   1811671147     4266935830 2019-08-29  78990    A   \n",
       "743   3603576309     4133034833 2019-08-09  67990    A   \n",
       "1103  1348774318     1164614297 2019-08-12  66350    A   \n",
       "1099  316924019      148427295  2019-08-12  65710    A   \n",
       "949   1347999392     887908475  2019-08-21  60450    A   \n",
       "940   2420050534     4003628586 2019-08-08  58550    B   \n",
       "1029  469609643      2378935119 2019-08-10  58220    A   \n",
       "873   2519737434     4256040402 2019-08-08  58220    B   \n",
       "60    1421016313     4256040402 2019-08-16  56650    B   "
      ]
     },
     "execution_count": 44,
     "metadata": {},
     "output_type": "execute_result"
    }
   ],
   "source": [
    "#Рассмотрим в тибличном виде распределение стоимостей заказов\n",
    "orders.sort_values(by='revenue',ascending=False).head(15)"
   ]
  },
  {
   "cell_type": "markdown",
   "metadata": {},
   "source": [
    "Комментарий: все заказы, за исключением двух аномалий не превышают 100 тыс. руб., кроме того заказы свыше 60 тыс. руб. тоже встречаются достаточно редко. Необходимо проанализировать перцентили заказов для определения границ стоимости аномальных заказов."
   ]
  },
  {
   "cell_type": "markdown",
   "metadata": {},
   "source": [
    "<b> 2.9. Рассчитываем 95-й и 99-й перцентили стоимости заказов. Выбираем границу для определения аномальных заказов."
   ]
  },
  {
   "cell_type": "code",
   "execution_count": 45,
   "metadata": {},
   "outputs": [
    {
     "data": {
      "text/plain": [
       "array([28000. , 58233.2])"
      ]
     },
     "execution_count": 45,
     "metadata": {},
     "output_type": "execute_result"
    }
   ],
   "source": [
    "np.percentile(orders['revenue'],[95,99])"
   ]
  },
  {
   "cell_type": "markdown",
   "metadata": {},
   "source": [
    "Коментарий: с вероятностью 99% стоимость заказа не превысит 58,2 тыс. руб., с вероятностью 95% стоимость заказов не превысит 28 тыс. руб. Учитывая существенность разницы стоимости аномальных заказов при 95 и 99% перцентилях, будем считать границу аномальных заказов на уровне 95%, т.е. заказы свыше 28 тыс. руб.будем считать аномальными."
   ]
  },
  {
   "cell_type": "markdown",
   "metadata": {},
   "source": [
    "\n",
    "<div class=\"alert alert-success\">\n",
    "<b>Комментарий с комплиментом ревьюера:</b>\n",
    "\n",
    "95-й и 99-й перцентили определены верно, нижняя граница стоимости заказов выбрана корректно, молодец.</div>\n"
   ]
  },
  {
   "cell_type": "markdown",
   "metadata": {},
   "source": [
    "<b> 2.10 Рассчитываем статистическую значимость различий в среднем количестве заказов на посетителя между группами по «сырым» данным. "
   ]
  },
  {
   "cell_type": "markdown",
   "metadata": {},
   "source": [
    "Сформулируем гипотезы. \n",
    "- Нулевая: различий в среднем количестве заказов между группами нет. \n",
    "- Альтернативная: различия в среднем между группами есть.\n",
    "\n",
    "Критический уровень статистической значимости:\n",
    "alpha = 0.05 \n",
    "\n",
    "В связи с наличием в данных больших выбросов, будем использовать непараметрический тест Уилкоксона-Манна-Уитни, позволяющий проранжировать данные и не учитывать алгебраические критерии выборки."
   ]
  },
  {
   "cell_type": "markdown",
   "metadata": {},
   "source": [
    "<div class=\"alert alert-success\">\n",
    "<b>Комментарий с комплиментом ревьюера:</b> \n",
    "\n",
    "Гипотезы сформулированы верно, молодец.\n",
    "</div>\n"
   ]
  },
  {
   "cell_type": "markdown",
   "metadata": {},
   "source": [
    "<div class=\"alert alert-danger\">\n",
    "<b>Комментарий с замечанием:</b> \n",
    "    \n",
    "Вместе с формулировкой гипотез необходимо задать значение alpha и указать какой метод будешь использовать для проверки гипотез.\n",
    "</div>\n"
   ]
  },
  {
   "cell_type": "markdown",
   "metadata": {},
   "source": [
    "<div class=\"alert alert-info\"> <b>Комментарий студента:</b> значение alpha задано, комментарий по выбору метода добавлен. </div>"
   ]
  },
  {
   "cell_type": "markdown",
   "metadata": {},
   "source": [
    "<div class=\"alert alert-success\">\n",
    "<b>Комментарий с комплиментом ревьюера в2:</b> \n",
    "    \n",
    "Отлично"
   ]
  },
  {
   "cell_type": "code",
   "execution_count": 46,
   "metadata": {},
   "outputs": [
    {
     "name": "stdout",
     "output_type": "stream",
     "text": [
      "        date  ordersPerDateA  revenuePerDateA  ordersPerDateB  \\\n",
      "0 2019-08-01  24              148579           21               \n",
      "1 2019-08-02  20              93822            24               \n",
      "2 2019-08-03  24              112473           16               \n",
      "3 2019-08-04  16              70825            17               \n",
      "4 2019-08-05  25              124218           23               \n",
      "\n",
      "   revenuePerDateB  ordersCummulativeA  revenueCummulativeA  \\\n",
      "0  101217           24                  148579                \n",
      "1  165531           44                  242401                \n",
      "2  114248           68                  354874                \n",
      "3  108571           84                  425699                \n",
      "4  92428            109                 549917                \n",
      "\n",
      "   ordersCummulativeB  revenueCummulativeB  visitorsPerDateA  \\\n",
      "0  21                  101217               719                \n",
      "1  45                  266748               619                \n",
      "2  61                  380996               507                \n",
      "3  78                  489567               717                \n",
      "4  101                 581995               756                \n",
      "\n",
      "   visitorsPerDateB  visitorsCummulativeA  visitorsCummulativeB  \n",
      "0  713               719                   713                   \n",
      "1  581               1338                  1294                  \n",
      "2  509               1845                  1803                  \n",
      "3  770               2562                  2573                  \n",
      "4  707               3318                  3280                  \n"
     ]
    }
   ],
   "source": [
    "# Готовим данные для расчетов\n",
    "visitorsADaily = visitors[visitors['group'] == 'A'][['date', 'visitors']]\n",
    "visitorsADaily.columns = ['date', 'visitorsPerDateA']\n",
    "\n",
    "visitorsACummulative = visitorsADaily.apply(\n",
    "    lambda x: visitorsADaily[visitorsADaily['date'] <= x['date']].agg(\n",
    "        {'date': 'max', 'visitorsPerDateA': 'sum'}\n",
    "    ),\n",
    "    axis=1,\n",
    ")\n",
    "visitorsACummulative.columns = ['date', 'visitorsCummulativeA']\n",
    "\n",
    "visitorsBDaily = visitors[visitors['group'] == 'B'][['date', 'visitors']]\n",
    "visitorsBDaily.columns = ['date', 'visitorsPerDateB']\n",
    "\n",
    "visitorsBCummulative = visitorsBDaily.apply(\n",
    "    lambda x: visitorsBDaily[visitorsBDaily['date'] <= x['date']].agg(\n",
    "        {'date': 'max', 'visitorsPerDateB': 'sum'}\n",
    "    ),\n",
    "    axis=1,\n",
    ")\n",
    "visitorsBCummulative.columns = ['date', 'visitorsCummulativeB']\n",
    "\n",
    "ordersADaily = (\n",
    "    orders[orders['group'] == 'A'][['date', 'transactionId', 'visitorId', 'revenue']]\n",
    "    .groupby('date', as_index=False)\n",
    "    .agg({'transactionId': pd.Series.nunique, 'revenue': 'sum'})\n",
    ")\n",
    "ordersADaily.columns = ['date', 'ordersPerDateA', 'revenuePerDateA']\n",
    "\n",
    "ordersACummulative = ordersADaily.apply(\n",
    "    lambda x: ordersADaily[ordersADaily['date'] <= x['date']].agg(\n",
    "        {'date': 'max', 'ordersPerDateA': 'sum', 'revenuePerDateA': 'sum'}\n",
    "    ),\n",
    "    axis=1,\n",
    ").sort_values(by=['date'])\n",
    "ordersACummulative.columns = [\n",
    "    'date',\n",
    "    'ordersCummulativeA',\n",
    "    'revenueCummulativeA',\n",
    "]\n",
    "\n",
    "ordersBDaily = (\n",
    "    orders[orders['group'] == 'B'][['date', 'transactionId', 'visitorId', 'revenue']]\n",
    "    .groupby('date', as_index=False)\n",
    "    .agg({'transactionId': pd.Series.nunique, 'revenue': 'sum'})\n",
    ")\n",
    "ordersBDaily.columns = ['date', 'ordersPerDateB', 'revenuePerDateB']\n",
    "\n",
    "ordersBCummulative = ordersBDaily.apply(\n",
    "    lambda x: ordersBDaily[ordersBDaily['date'] <= x['date']].agg(\n",
    "        {'date': 'max', 'ordersPerDateB': 'sum', 'revenuePerDateB': 'sum'}\n",
    "    ),\n",
    "    axis=1,\n",
    ").sort_values(by=['date'])\n",
    "ordersBCummulative.columns = [\n",
    "    'date',\n",
    "    'ordersCummulativeB',\n",
    "    'revenueCummulativeB',\n",
    "]\n",
    "\n",
    "data = (\n",
    "    ordersADaily.merge(\n",
    "        ordersBDaily, left_on='date', right_on='date', how='left'\n",
    "    )\n",
    "    .merge(ordersACummulative, left_on='date', right_on='date', how='left')\n",
    "    .merge(ordersBCummulative, left_on='date', right_on='date', how='left')\n",
    "    .merge(visitorsADaily, left_on='date', right_on='date', how='left')\n",
    "    .merge(visitorsBDaily, left_on='date', right_on='date', how='left')\n",
    "    .merge(visitorsACummulative, left_on='date', right_on='date', how='left')\n",
    "    .merge(visitorsBCummulative, left_on='date', right_on='date', how='left')\n",
    ")\n",
    "\n",
    "print(data.head(5))"
   ]
  },
  {
   "cell_type": "markdown",
   "metadata": {},
   "source": [
    "Названия столбцов\n",
    "- date — дата;\n",
    "- ordersPerDateA — количество заказов в выбранную дату в группе A;\n",
    "- revenuePerDateA — суммарная выручка в выбранную дату в группе A;\n",
    "- ordersPerDateB — количество заказов в выбранную дату в группе B;\n",
    "- revenuePerDateB — суммарная выручка в выбранную дату в группе B;\n",
    "- ordersCummulativeA — суммарное число заказов до выбранной даты включительно в группе A;\n",
    "- revenueCummulativeA — суммарная выручка до выбранной даты включительно в группе A;\n",
    "- ordersCummulativeB — суммарное количество заказов до выбранной даты включительно в группе B;\n",
    "- revenueCummulativeB — суммарная выручка до выбранной даты включительно в группе B;\n",
    "- visitorsPerDateA — количество пользователей в выбранную дату в группе A;\n",
    "- visitorsPerDateB — количество пользователей в выбранную дату в группе B;\n",
    "- visitorsCummulativeA — количество пользователей до выбранной даты включительно в группе A;\n",
    "- visitorsCummulativeB — количество пользователей до выбранной даты включительно в группе B."
   ]
  },
  {
   "cell_type": "code",
   "execution_count": 47,
   "metadata": {},
   "outputs": [],
   "source": [
    "#Создадим переменные ordersByUsersA и ordersByUsersB со столбцами ['userId', 'orders']. \n",
    "#В них для пользователей, которые заказывали хотя бы 1 раз, укажем число совершённых заказов. \n",
    "ordersByUsersA = (\n",
    "    orders[orders['group'] == 'A']\n",
    "    .groupby('visitorId', as_index=False)\n",
    "    .agg({'transactionId': pd.Series.nunique})\n",
    ")\n",
    "ordersByUsersA.columns = ['visitorId', 'orders']\n",
    "\n",
    "ordersByUsersB = (\n",
    "    orders[orders['group'] == 'B']\n",
    "    .groupby('visitorId', as_index=False)\n",
    "    .agg({'transactionId': pd.Series.nunique})\n",
    ")\n",
    "ordersByUsersB.columns = ['visitorId', 'orders']"
   ]
  },
  {
   "cell_type": "code",
   "execution_count": 48,
   "metadata": {},
   "outputs": [],
   "source": [
    "#Объявим переменные sampleA и sampleB, в которых пользователям из разных групп будет соответствовать количество заказов. \n",
    "#Тем, кто ничего не заказал, будут соответствовать нули. Это нужно, чтобы подготовить выборки к проверке критерием Манна-Уитни.\n",
    "sampleA = pd.concat([ordersByUsersA['orders'],pd.Series(0, index=np.arange(data['visitorsPerDateA'].sum() - len(ordersByUsersA['orders'])), name='orders')],axis=0)\n",
    "sampleB = pd.concat([ordersByUsersB['orders'],pd.Series(0, index=np.arange(data['visitorsPerDateB'].sum() - len(ordersByUsersB['orders'])), name='orders')],axis=0) "
   ]
  },
  {
   "cell_type": "code",
   "execution_count": 49,
   "metadata": {},
   "outputs": [
    {
     "name": "stdout",
     "output_type": "stream",
     "text": [
      "p-value: 0.017\n",
      "Прирост группы В по отношению к группе А: 0.138\n"
     ]
    }
   ],
   "source": [
    "# Применим критерий Манна-Уитни и отформатируем p-value, округлив его до трёх знаков после запятой. \n",
    "# Выведем относительный прирост среднего числа заказов группы B: среднее число заказов группы B / среднее число заказов группы A - 1.  \n",
    "# Округлим до трёх знаков после запятой.\n",
    "ordersByUsersA = (\n",
    "    orders[orders['group'] == 'A']\n",
    "    .groupby('visitorId', as_index=False)\n",
    "    .agg({'transactionId': pd.Series.nunique})\n",
    ")\n",
    "ordersByUsersA.columns = ['userId', 'orders']\n",
    "\n",
    "ordersByUsersB = (\n",
    "    orders[orders['group'] == 'B']\n",
    "    .groupby('visitorId', as_index=False)\n",
    "    .agg({'transactionId': pd.Series.nunique})\n",
    ")\n",
    "ordersByUsersB.columns = ['userId', 'orders']\n",
    "\n",
    "sampleA = pd.concat(\n",
    "    [\n",
    "        ordersByUsersA['orders'],\n",
    "        pd.Series(\n",
    "            0,\n",
    "            index=np.arange(\n",
    "                data['visitorsPerDateA'].sum() - len(ordersByUsersA['orders'])\n",
    "            ),\n",
    "            name='orders',\n",
    "        ),\n",
    "    ],\n",
    "    axis=0,\n",
    ")\n",
    "\n",
    "sampleB = pd.concat(\n",
    "    [\n",
    "        ordersByUsersB['orders'],\n",
    "        pd.Series(\n",
    "            0,\n",
    "            index=np.arange(\n",
    "                data['visitorsPerDateB'].sum() - len(ordersByUsersB['orders'])\n",
    "            ),\n",
    "            name='orders',\n",
    "        ),\n",
    "    ],\n",
    "    axis=0,\n",
    ")\n",
    "\n",
    "\n",
    "print('p-value:',\"{0:.3f}\".format(st.mannwhitneyu(sampleA, sampleB)[1]))\n",
    "print('Прирост группы В по отношению к группе А:',\"{0:.3f}\".format(sampleB.mean() / sampleA.mean() - 1))"
   ]
  },
  {
   "cell_type": "markdown",
   "metadata": {},
   "source": [
    "<div class=\"alert alert-warning\">\n",
    "<b>Комментарий с советом ревьюера:</b>\n",
    "    \n",
    "Для того, чтобы твой проект стал еще лучше я бы порекомендовал подправить оформление вывода - сейчас не ясно, что означает та или иная цифра, подпиши, пожалуйста, какое число  - p-value, а какое - различие в средних\n",
    "\n",
    "</div>\n"
   ]
  },
  {
   "cell_type": "markdown",
   "metadata": {},
   "source": [
    "<div class=\"alert alert-success\">\n",
    "<b>Комментарий с комплиментом ревьюера в2:</b> \n",
    "    \n",
    "Отлично"
   ]
  },
  {
   "cell_type": "markdown",
   "metadata": {},
   "source": [
    "<div class=\"alert alert-info\"> <b>Комментарий студента:</b> оформление вывода скорректировано. </div>"
   ]
  },
  {
   "cell_type": "markdown",
   "metadata": {},
   "source": [
    "Вывод: P-value меньше 0,05, значит нулевую гипотезу не отвергаем, по «сырым» данным различия в среднем числе заказов групп A и B отсутствуют. Относительный прирост группы В к конверсии группы А составил 13,8%."
   ]
  },
  {
   "cell_type": "markdown",
   "metadata": {},
   "source": [
    "<div class=\"alert alert-success\">\n",
    "<b>Комментарий с комплиментом ревьюера:</b> \n",
    "\n",
    "Гипотеза проверена верно.\n",
    "</div>\n"
   ]
  },
  {
   "cell_type": "markdown",
   "metadata": {},
   "source": [
    "<b> 2.11 Рассчитываем статистическую значимость различий в среднем чеке заказов между группами по «сырым» данным. "
   ]
  },
  {
   "cell_type": "code",
   "execution_count": 50,
   "metadata": {},
   "outputs": [
    {
     "name": "stdout",
     "output_type": "stream",
     "text": [
      "0.729\n",
      "0.259\n"
     ]
    }
   ],
   "source": [
    "print('{0:.3f}'.format(st.mannwhitneyu(orders[orders['group']=='A']['revenue'], orders[orders['group']=='B']['revenue'])[1]))\n",
    "print('{0:.3f}'.format(orders[orders['group']=='B']['revenue'].mean()/orders[orders['group']=='A']['revenue'].mean()-1)) "
   ]
  },
  {
   "cell_type": "markdown",
   "metadata": {},
   "source": [
    "Вывод: P-value больше 0,05, статистическая значимость отсутствует, значит нулевую гипотезу отвергаем, по «сырым» данным наблюдаются различия в среднем чеке заказов групп A и B. Относительный прирост группы B к конверсии группы A составил 25%. "
   ]
  },
  {
   "cell_type": "markdown",
   "metadata": {},
   "source": [
    "<div class=\"alert alert-success\">\n",
    "<b>Комментарий с комплиментом ревьюера:</b> \n",
    "\n",
    "Все верно. \n",
    "\n",
    "Если p-value > alpha значит средний чек группы B **равен** среднему чеку группы A (или не отличается). Наблюдаемое различие не значимо, получено случайно из-за единичных выбросов.\n",
    "\n",
    "</div>\n"
   ]
  },
  {
   "cell_type": "markdown",
   "metadata": {},
   "source": [
    "<b> 2.12 Рассчитываем статистическую значимость различий в среднем количестве заказов на посетителя между группами по «очищенным» данным. "
   ]
  },
  {
   "cell_type": "code",
   "execution_count": 51,
   "metadata": {},
   "outputs": [
    {
     "data": {
      "text/html": [
       "<div>\n",
       "<style scoped>\n",
       "    .dataframe tbody tr th:only-of-type {\n",
       "        vertical-align: middle;\n",
       "    }\n",
       "\n",
       "    .dataframe tbody tr th {\n",
       "        vertical-align: top;\n",
       "    }\n",
       "\n",
       "    .dataframe thead th {\n",
       "        text-align: right;\n",
       "    }\n",
       "</style>\n",
       "<table border=\"1\" class=\"dataframe\">\n",
       "  <thead>\n",
       "    <tr style=\"text-align: right;\">\n",
       "      <th></th>\n",
       "      <th>transactionId</th>\n",
       "      <th>visitorId</th>\n",
       "      <th>date</th>\n",
       "      <th>revenue</th>\n",
       "      <th>group</th>\n",
       "    </tr>\n",
       "  </thead>\n",
       "  <tbody>\n",
       "    <tr>\n",
       "      <th>0</th>\n",
       "      <td>3667963787</td>\n",
       "      <td>3312258926</td>\n",
       "      <td>2019-08-15</td>\n",
       "      <td>1650</td>\n",
       "      <td>B</td>\n",
       "    </tr>\n",
       "    <tr>\n",
       "      <th>1</th>\n",
       "      <td>2804400009</td>\n",
       "      <td>3642806036</td>\n",
       "      <td>2019-08-15</td>\n",
       "      <td>730</td>\n",
       "      <td>B</td>\n",
       "    </tr>\n",
       "    <tr>\n",
       "      <th>2</th>\n",
       "      <td>2961555356</td>\n",
       "      <td>4069496402</td>\n",
       "      <td>2019-08-15</td>\n",
       "      <td>400</td>\n",
       "      <td>A</td>\n",
       "    </tr>\n",
       "    <tr>\n",
       "      <th>3</th>\n",
       "      <td>3797467345</td>\n",
       "      <td>1196621759</td>\n",
       "      <td>2019-08-15</td>\n",
       "      <td>9759</td>\n",
       "      <td>B</td>\n",
       "    </tr>\n",
       "    <tr>\n",
       "      <th>4</th>\n",
       "      <td>2282983706</td>\n",
       "      <td>2322279887</td>\n",
       "      <td>2019-08-15</td>\n",
       "      <td>2308</td>\n",
       "      <td>B</td>\n",
       "    </tr>\n",
       "  </tbody>\n",
       "</table>\n",
       "</div>"
      ],
      "text/plain": [
       "   transactionId   visitorId       date  revenue group\n",
       "0  3667963787     3312258926 2019-08-15  1650     B   \n",
       "1  2804400009     3642806036 2019-08-15  730      B   \n",
       "2  2961555356     4069496402 2019-08-15  400      A   \n",
       "3  3797467345     1196621759 2019-08-15  9759     B   \n",
       "4  2282983706     2322279887 2019-08-15  2308     B   "
      ]
     },
     "execution_count": 51,
     "metadata": {},
     "output_type": "execute_result"
    }
   ],
   "source": [
    "orders.head()"
   ]
  },
  {
   "cell_type": "code",
   "execution_count": 52,
   "metadata": {
    "scrolled": true
   },
   "outputs": [
    {
     "data": {
      "text/plain": [
       "74"
      ]
     },
     "execution_count": 52,
     "metadata": {},
     "output_type": "execute_result"
    }
   ],
   "source": [
    "#Ранее мы рассчитали и приняли, что количество заказов более 2 и стимостью более 28 тыс. руб будет являться аномальным\n",
    "#(составляют менее 5% заказов).\n",
    "#Сделаем срезы пользователей с числом заказов больше 2 — usersWithManyOrders и пользователей, совершивших заказы \n",
    "#дороже 28 тыс.руб. - usersWithExpensiveOrders. Объединим их в таблице abnormalUsers. \n",
    "#Узнаем, сколько всего аномальных пользователей атрибутом shape.\n",
    "usersWithManyOrders = pd.concat(\n",
    "    [\n",
    "        ordersByUsersA[ordersByUsersA['orders']>np.percentile(ordersByUsers['orders'],95)]['userId'],                        \n",
    "        ordersByUsersB[ordersByUsersB['orders']>np.percentile(ordersByUsers['orders'],95)]['userId'],\n",
    "                                \n",
    "    ],\n",
    "    axis=0\n",
    ")\n",
    "\n",
    "usersWithExpensiveOrders = orders[orders['revenue']>np.percentile(orders['revenue'],95)]['visitorId']\n",
    "\n",
    "abnormalUsers = (pd.concat([usersWithManyOrders,usersWithExpensiveOrders],axis=0)).drop_duplicates().sort_values()\n",
    "\n",
    "abnormalUsers.head(5)\n",
    "abnormalUsers.shape[0]"
   ]
  },
  {
   "cell_type": "markdown",
   "metadata": {},
   "source": [
    "\n",
    "<div class=\"alert alert-warning\">\n",
    "<b>Комментарий с советом ревьюера:</b> \n",
    "\n",
    "Лучше использовать код (расчет перцентиля) вместо ручного ввода аномальных значений. \n",
    "Это снизит возможные ошибки при повторном использовании кода.\n"
   ]
  },
  {
   "cell_type": "markdown",
   "metadata": {},
   "source": [
    "<div class=\"alert alert-info\"> <b>Комментарий студента:</b> вместо ручного ввода аномальный значений добавлен код. </div>"
   ]
  },
  {
   "cell_type": "markdown",
   "metadata": {},
   "source": [
    "<div class=\"alert alert-success\">\n",
    "<b>Комментарий с комплиментом ревьюера в2:</b> \n",
    "    \n",
    "Отлично"
   ]
  },
  {
   "cell_type": "markdown",
   "metadata": {},
   "source": [
    "Комментарий: всего получилось 74 заказа с аномальными количеством заказов и суммой. Далее узнаем как это количество заказов повлияло на результаты теста. Посчитаем статистическую значимость различий в среднем количестве заказов по очищенным данным."
   ]
  },
  {
   "cell_type": "code",
   "execution_count": 53,
   "metadata": {},
   "outputs": [],
   "source": [
    "sampleAFiltered = pd.concat(\n",
    "    [\n",
    "        ordersByUsersA[\n",
    "            np.logical_not(ordersByUsersA['userId'].isin(abnormalUsers))\n",
    "        ]['orders'],\n",
    "        pd.Series(\n",
    "            0,\n",
    "            index=np.arange(\n",
    "                data['visitorsPerDateA'].sum() - len(ordersByUsersA['orders'])\n",
    "            ),\n",
    "            name='orders',\n",
    "        ),\n",
    "    ],\n",
    "    axis=0,\n",
    ")\n",
    "\n",
    "sampleBFiltered = pd.concat(\n",
    "    [\n",
    "        ordersByUsersB[\n",
    "            np.logical_not(ordersByUsersB['userId'].isin(abnormalUsers))\n",
    "        ]['orders'],\n",
    "        pd.Series(\n",
    "            0,\n",
    "            index=np.arange(\n",
    "                data['visitorsPerDateB'].sum() - len(ordersByUsersB['orders'])\n",
    "            ),\n",
    "            name='orders',\n",
    "        ),\n",
    "    ],\n",
    "    axis=0,\n",
    ") "
   ]
  },
  {
   "cell_type": "code",
   "execution_count": 54,
   "metadata": {},
   "outputs": [
    {
     "name": "stdout",
     "output_type": "stream",
     "text": [
      "0.013\n",
      "0.173\n"
     ]
    }
   ],
   "source": [
    "print('{0:.3f}'.format(st.mannwhitneyu(sampleAFiltered, sampleBFiltered)[1]))\n",
    "print('{0:.3f}'.format(sampleBFiltered.mean()/sampleAFiltered.mean()-1))"
   ]
  },
  {
   "cell_type": "markdown",
   "metadata": {},
   "source": [
    "Комментарий: статическая значимость различий в среднем количестве заказов после исключения аномальных заказов практически не изменилась, нулевую гипотезу по \"очищенным\" данным также не отвергаем, по \"очищенным\" данным не наблюдаются различия в среднем числе заказов групп A и B. Относительный прирост группы В к конверсии группы А составил 17,3%. Осталось проанализировать есть ли статическая значимость различий в среднем чеке заказа по \"очищенным\" данным."
   ]
  },
  {
   "cell_type": "markdown",
   "metadata": {},
   "source": [
    "\n",
    "<div class=\"alert alert-success\">\n",
    "<b>Комментарий с комплиментом ревьюера:</b> \n",
    "    \n",
    "Проверка проведена корректно, согласен группа B лучше группы A на 17.3%.\n"
   ]
  },
  {
   "cell_type": "markdown",
   "metadata": {},
   "source": [
    "<b> 2.13 Рассчитываем статистическую значимость различий в среднем чеке заказов на посетителя между группами по «очищенным» данным. "
   ]
  },
  {
   "cell_type": "code",
   "execution_count": 55,
   "metadata": {},
   "outputs": [
    {
     "name": "stdout",
     "output_type": "stream",
     "text": [
      "0.738\n",
      "-0.020\n"
     ]
    }
   ],
   "source": [
    "print(\n",
    "    '{0:.3f}'.format(\n",
    "        st.mannwhitneyu(\n",
    "            orders[\n",
    "                np.logical_and(\n",
    "                    orders['group'] == 'A',\n",
    "                    np.logical_not(orders['visitorId'].isin(abnormalUsers)),\n",
    "                )\n",
    "            ]['revenue'],\n",
    "            orders[\n",
    "                np.logical_and(\n",
    "                    orders['group'] == 'B',\n",
    "                    np.logical_not(orders['visitorId'].isin(abnormalUsers)),\n",
    "                )\n",
    "            ]['revenue'],\n",
    "        )[1]\n",
    "    )\n",
    ")\n",
    "\n",
    "print(\n",
    "    \"{0:.3f}\".format(\n",
    "        orders[\n",
    "            np.logical_and(\n",
    "                orders['group'] == 'B',\n",
    "                np.logical_not(orders['visitorId'].isin(abnormalUsers)),\n",
    "            )\n",
    "        ]['revenue'].mean()\n",
    "        / orders[\n",
    "            np.logical_and(\n",
    "                orders['group'] == 'A',\n",
    "                np.logical_not(orders['visitorId'].isin(abnormalUsers)),\n",
    "            )\n",
    "        ]['revenue'].mean()\n",
    "        - 1\n",
    "    )\n",
    ") "
   ]
  },
  {
   "cell_type": "markdown",
   "metadata": {},
   "source": [
    "Вывод: P-value больше 0,05, статистическая значимость не появилась, значит нулевую гипотезу отвергаем, по «очищенным» данным наблюдаются различия в среднем чеке заказов групп A и B. Относительный прирост группы А к конверсии группы B составил 2%. \n",
    "Таким образом у групп А и В не наблюдается различий в количестве заказов, при этом гипотезу о том, что различия в среднем чеке отсутствуют нельзя подтвердить."
   ]
  },
  {
   "cell_type": "markdown",
   "metadata": {},
   "source": [
    "<div class=\"alert alert-success\">\n",
    "<b>Комментарий с комплиментом ревьюера:</b> \n",
    " \n",
    "Верно, наблюдаем сильное влияние аномалий.\n"
   ]
  },
  {
   "cell_type": "markdown",
   "metadata": {},
   "source": [
    "<b> 14. Принятие решения по результатам теста.\n",
    "\n",
    "   По результатам теста зафиксировать победу одной из групп нельзя, т.к. исследование различий среднего количества заказов показало отсутствие различий в среднем количестве заказов между группами, при этом с учетом статистической значимости нельзя судить об отсутствии различий в среднем количестве заказов между группами. Однако, принимая во внимание, прирост среднего чека заказа группы А по отношению к группе В всего 2% (по очищенным данным), смысл продолжать тестирование, отсутствует. Тест останавливаем."
   ]
  },
  {
   "cell_type": "markdown",
   "metadata": {},
   "source": [
    "\n",
    "<div class=\"alert alert-success\">\n",
    "<b>Комментарий с комплиментом ревьюера:</b> \n",
    "    \n",
    "Решение верное.\n",
    "    \n",
    "Хороший аналитический вывод, вынесены основные показатели, которые получены в результате анализа.\n",
    "\n",
    "Действительно группы равны по среднему чеку, а по среднему количеству заказов группа В лучше группы А.  \n"
   ]
  },
  {
   "cell_type": "markdown",
   "metadata": {},
   "source": [
    "<b> Итоги исследования <b>"
   ]
  },
  {
   "cell_type": "markdown",
   "metadata": {},
   "source": [
    "***Проведено исследование анализа данных интернет-магазина, включающее следующие этапы:***\n",
    "1. приоритизированы гипотезы, выбранана наиболее опитимальная гипотеза, \n",
    "2. построены и проанализированы графики кумулятивной и относительной выручки и среднего чека по группам, \n",
    "3. построен и проанализирован точечный график количества заказов по пользователям,\n",
    "4. рассчитаны перцентили количества и стоимости заказов, определены границы аномальных заказов,\n",
    "5. рассчитана статистическая значимость различий в среднем количестве и стоимости заказов по \"сырым\" и \"очищенным\" от аномальных значений заказов,\n",
    "6. принято решение по результатам теста."
   ]
  },
  {
   "cell_type": "markdown",
   "metadata": {},
   "source": [
    "***Выявлены следующие особенности:***\n",
    "\n",
    "1. наиболее оптимальной гипотезой, учитывающей одновременно охват, влияние, уверенность, затраты, является 7-я гипотеза о добавлении формы подписки на все основные страницы,\n",
    "\n",
    "2. особенности \"сырых\" данных:\n",
    "- выручка группы B после 13 августа вырывается вперед и стабильно превышает выручку группы А до конца наблюдений. В отличие от выручки группы А выручка группы В меняется скачкообразно, \n",
    "- кумулятивное значение среднего чека по группе В колеблется: после 17 августа кумулятивное значение среднего чека по группе В превышает значение среднего чека по группе А, \n",
    "- различия в средних чеках между группами А и В менялись несколько раз, основном на наблюдаемом интервале средний размер чека из группы В превышает средний размер чека группы А, кроме двух дат 1 и 13 августа, \n",
    "- в начале теста конверсии групп сильно колебались и нельзя было сделать однозначный вывод о соотношении конверсий групп, далее конверсии стабилизировались и выяснилось, что конверсия группы В лидирует,\n",
    "- построены различия в средних количества заказов между группами А и В, результаты теста менялись несколько раз. В основном на наблюдаемом интервале среднее количество заказов группы В превышает количество заказов группы А, за исключением периода до 05.08.2019.\n",
    "- преимущественное большинство пользователей делают 1 заказ, не более 5% пользователей сделали 2 заказа, не более 1% пользователей сделали 4 заказа,\n",
    "- все заказы, за исключением двух аномалий не превышают 100 тыс. руб., кроме того заказы свыше 60 тыс. руб. тоже встречаются достаточно редко,\n",
    "- с вероятностью 99% стоимость заказа не превысит 58,2 тыс. руб., с вероятностью 95% стоимость заказов не превысит 28 тыс. руб. \n",
    "- всего получилось 74 заказа с аномальными количеством заказов и суммой."
   ]
  },
  {
   "cell_type": "markdown",
   "metadata": {},
   "source": [
    "***Выводы исследования***\n",
    "1. Тестирование \"сырых\" данных с помощью критерия Манна-Уитни показало:\n",
    "- различия в среднем числе заказов групп A и B отсутствуют, относительный прирост группы В к конверсии группы А составил 13,8%,\n",
    "- по «сырым» данным наблюдаются различия в среднем чеке заказов групп A и B, относительный прирост группы B к конверсии группы A составил 25%,\n",
    "2. Тестирование \"очищенных\" данных с помощью критерия Манна-Уитни показало:\n",
    "- статическая значимость различий в среднем количестве заказов после исключения аномальных заказов практически не изменилась, по \"очищенным\" данным не наблюдаются различия в среднем числе заказов групп A и B, относительный прирост группы В к конверсии группы А составил 17,3%. \n",
    "- по «очищенным» данным наблюдаются различия в среднем чеке заказов групп A и B, относительный прирост группы А к конверсии группы B составил 2%. \n",
    "\n",
    "По результатам теста зафиксировать победу одной из групп нельзя, т.к. исследование различий среднего количества заказов показало отсутствие различий в среднем количестве заказов между группами, при этом с учетом статистической значимости нельзя судить об отсутствии различий в средней стоимости заказов между группами. Однако, принимая во внимание, прирост среднего чека заказа группы А по отношению к группе В всего 2% (по очищенным данным), смысл продолжать тестирование, отсутствует. Тест останавливаем."
   ]
  },
  {
   "cell_type": "markdown",
   "metadata": {},
   "source": [
    "***Рекомендации***\n",
    "\n",
    "В связи с отсутствием подтвержденной информации о том, что группа В дает более статистически значимое количество заказов или увеличение средней стоимости заказов, с целью недопущения увеличения экономически не обоснованных расходов, не дающих стастически значимое увеличение выручки, предлагаем не тратить бюджет компании на внедрение изменений, и продолжить поиск нововведений, дающих статистически значимое увеличением составляющих выручки. "
   ]
  },
  {
   "cell_type": "markdown",
   "metadata": {},
   "source": [
    "<div class=\"alert alert-success\">\n",
    "<b>Комментарий с комплиментом ревьюера:</b> \n",
    "    \n",
    "\n",
    "Молодец, что дала рекомендацию.\n",
    "</div>\n"
   ]
  },
  {
   "cell_type": "markdown",
   "metadata": {},
   "source": [
    "<div style=\"border:solid Chocolate 2px; padding: 40px\">\n",
    "\n",
    "# Общий вывод ревьюера\n",
    "\n",
    "<div class=\"alert alert-success\">\n",
    "\n",
    "Проделана хорошая аналитическая работа. Код написан чисто, соблюдена структура проекта, графики оформлены корректно и написаны логичные и обоснованные выводы. Проект выполнен на хорошем аналитическом уровне, поэтому замечаний не много. Я отметил в проекте моменты, на которые необходимо обратить внимание, исправь их и проект будет принят.\n",
    "\n",
    "- по ссылкам ниже интересные материалы по А/В тестам\n",
    "  \n",
    "    \n",
    "https://habr.com/ru/company/avito/blog/571094/\n",
    "\n",
    "https://habr.com/ru/company/yandex/blog/476826/\n",
    "\n",
    "https://academy.yandex.ru/journal/kak-provesti-a-b-testirovanie-6-prostykh-shagov\n",
    "\n",
    "https://habr.com/ru/company/yandex/blog/342704/\n",
    "\n",
    "https://r-analytics.blogspot.com/2013/10/blog-post_13.html \n",
    "\n",
    "</div>\n",
    "\n",
    "<div class=\"alert alert-danger\">\n",
    "\n",
    "- добавь, пожалуйста, заголовок для графика\n",
    "</div>\n",
    "\n",
    "\n"
   ]
  },
  {
   "cell_type": "markdown",
   "metadata": {},
   "source": [
    "<div class=\"alert alert-info\"> <b>Комментарий студента:</b> спасибо за корректировки и материалы! </div>"
   ]
  },
  {
   "cell_type": "markdown",
   "metadata": {},
   "source": [
    "<div style=\"border:solid Chocolate 2px; padding: 40px\">\n",
    "\n",
    "# Общий вывод ревьюера в2\n",
    "\n",
    "<div class=\"alert alert-success\">\n",
    "Отлично, спасибо за доработку проекта, желаю тебе успеха в следующих работах."
   ]
  },
  {
   "cell_type": "code",
   "execution_count": null,
   "metadata": {},
   "outputs": [],
   "source": []
  }
 ],
 "metadata": {
  "ExecuteTimeLog": [
   {
    "duration": 1564,
    "start_time": "2023-10-23T04:38:08.119Z"
   },
   {
    "duration": 60,
    "start_time": "2023-10-23T04:42:43.231Z"
   },
   {
    "duration": 12,
    "start_time": "2023-10-23T04:42:51.886Z"
   },
   {
    "duration": 111,
    "start_time": "2023-10-23T05:00:31.126Z"
   },
   {
    "duration": 4,
    "start_time": "2023-10-23T05:00:51.258Z"
   },
   {
    "duration": 11,
    "start_time": "2023-10-23T05:02:35.146Z"
   },
   {
    "duration": 12,
    "start_time": "2023-10-23T05:02:59.627Z"
   },
   {
    "duration": 10,
    "start_time": "2023-10-23T05:03:08.459Z"
   },
   {
    "duration": 11,
    "start_time": "2023-10-23T05:03:47.042Z"
   },
   {
    "duration": 24,
    "start_time": "2023-10-23T05:04:49.299Z"
   },
   {
    "duration": 102,
    "start_time": "2023-10-23T05:28:28.160Z"
   },
   {
    "duration": 67,
    "start_time": "2023-10-23T05:29:16.726Z"
   },
   {
    "duration": 6,
    "start_time": "2023-10-23T05:30:34.872Z"
   },
   {
    "duration": 12,
    "start_time": "2023-10-23T05:30:46.533Z"
   },
   {
    "duration": 1440,
    "start_time": "2023-10-24T05:26:59.382Z"
   },
   {
    "duration": 62,
    "start_time": "2023-10-24T05:27:00.824Z"
   },
   {
    "duration": 12,
    "start_time": "2023-10-24T05:27:00.888Z"
   },
   {
    "duration": 46,
    "start_time": "2023-10-24T05:27:00.902Z"
   },
   {
    "duration": 87,
    "start_time": "2023-10-24T05:27:00.949Z"
   },
   {
    "duration": 98,
    "start_time": "2023-10-24T05:27:01.038Z"
   },
   {
    "duration": 232,
    "start_time": "2023-10-24T05:27:01.138Z"
   },
   {
    "duration": 108,
    "start_time": "2023-10-24T05:27:01.371Z"
   },
   {
    "duration": 11,
    "start_time": "2023-10-24T06:01:00.005Z"
   },
   {
    "duration": 47,
    "start_time": "2023-10-24T14:46:00.812Z"
   },
   {
    "duration": 1358,
    "start_time": "2023-10-24T14:46:07.224Z"
   },
   {
    "duration": 61,
    "start_time": "2023-10-24T14:46:08.584Z"
   },
   {
    "duration": 12,
    "start_time": "2023-10-24T14:46:08.646Z"
   },
   {
    "duration": 14,
    "start_time": "2023-10-24T14:46:08.660Z"
   },
   {
    "duration": 15,
    "start_time": "2023-10-24T14:46:08.676Z"
   },
   {
    "duration": 13,
    "start_time": "2023-10-24T14:46:08.692Z"
   },
   {
    "duration": 98,
    "start_time": "2023-10-24T14:46:08.707Z"
   },
   {
    "duration": 14,
    "start_time": "2023-10-24T14:46:08.807Z"
   },
   {
    "duration": 12,
    "start_time": "2023-10-24T14:46:12.983Z"
   },
   {
    "duration": 13,
    "start_time": "2023-10-24T14:46:14.435Z"
   },
   {
    "duration": 6,
    "start_time": "2023-10-24T14:47:14.050Z"
   },
   {
    "duration": 8,
    "start_time": "2023-10-24T14:48:27.035Z"
   },
   {
    "duration": 6,
    "start_time": "2023-10-24T14:50:23.354Z"
   },
   {
    "duration": 8,
    "start_time": "2023-10-24T15:33:15.611Z"
   },
   {
    "duration": 62,
    "start_time": "2023-10-24T15:41:22.657Z"
   },
   {
    "duration": 3,
    "start_time": "2023-10-24T15:41:35.515Z"
   },
   {
    "duration": 54,
    "start_time": "2023-10-24T15:41:35.519Z"
   },
   {
    "duration": 19,
    "start_time": "2023-10-24T15:41:35.575Z"
   },
   {
    "duration": 63,
    "start_time": "2023-10-24T15:41:35.596Z"
   },
   {
    "duration": 45,
    "start_time": "2023-10-24T15:41:35.661Z"
   },
   {
    "duration": 25,
    "start_time": "2023-10-24T15:41:35.708Z"
   },
   {
    "duration": 57,
    "start_time": "2023-10-24T15:41:35.734Z"
   },
   {
    "duration": 9,
    "start_time": "2023-10-24T15:41:35.792Z"
   },
   {
    "duration": 36,
    "start_time": "2023-10-24T15:41:35.803Z"
   },
   {
    "duration": 15,
    "start_time": "2023-10-24T15:41:35.841Z"
   },
   {
    "duration": 28,
    "start_time": "2023-10-24T15:41:35.858Z"
   },
   {
    "duration": 30,
    "start_time": "2023-10-24T15:41:35.887Z"
   },
   {
    "duration": 28,
    "start_time": "2023-10-24T15:41:35.918Z"
   },
   {
    "duration": 80,
    "start_time": "2023-10-24T15:41:35.948Z"
   },
   {
    "duration": 9,
    "start_time": "2023-10-24T15:41:36.030Z"
   },
   {
    "duration": 26,
    "start_time": "2023-10-24T15:41:36.041Z"
   },
   {
    "duration": 26,
    "start_time": "2023-10-24T15:41:36.069Z"
   },
   {
    "duration": 4,
    "start_time": "2023-10-24T15:43:18.132Z"
   },
   {
    "duration": 11,
    "start_time": "2023-10-24T15:43:32.378Z"
   },
   {
    "duration": 8,
    "start_time": "2023-10-24T15:46:21.686Z"
   },
   {
    "duration": 8,
    "start_time": "2023-10-24T15:47:46.460Z"
   },
   {
    "duration": 10,
    "start_time": "2023-10-24T15:49:15.219Z"
   },
   {
    "duration": 31,
    "start_time": "2023-10-24T15:52:00.213Z"
   },
   {
    "duration": 12,
    "start_time": "2023-10-24T15:52:24.609Z"
   },
   {
    "duration": 11,
    "start_time": "2023-10-24T15:53:55.795Z"
   },
   {
    "duration": 8,
    "start_time": "2023-10-24T16:15:58.059Z"
   },
   {
    "duration": 5,
    "start_time": "2023-10-24T16:16:32.420Z"
   },
   {
    "duration": 8,
    "start_time": "2023-10-24T16:32:27.587Z"
   },
   {
    "duration": 128,
    "start_time": "2023-10-24T16:32:53.337Z"
   },
   {
    "duration": 17,
    "start_time": "2023-10-24T16:33:20.335Z"
   },
   {
    "duration": 13,
    "start_time": "2023-10-24T16:33:27.169Z"
   },
   {
    "duration": 6,
    "start_time": "2023-10-24T16:43:30.549Z"
   },
   {
    "duration": 5,
    "start_time": "2023-10-24T16:43:31.393Z"
   },
   {
    "duration": 131,
    "start_time": "2023-10-24T16:43:32.135Z"
   },
   {
    "duration": 164,
    "start_time": "2023-10-24T16:43:33.160Z"
   },
   {
    "duration": 19,
    "start_time": "2023-10-24T16:44:51.598Z"
   },
   {
    "duration": 7,
    "start_time": "2023-10-24T16:44:52.775Z"
   },
   {
    "duration": 7,
    "start_time": "2023-10-24T16:44:53.635Z"
   },
   {
    "duration": 158,
    "start_time": "2023-10-24T16:44:54.413Z"
   },
   {
    "duration": 129,
    "start_time": "2023-10-24T16:44:56.280Z"
   },
   {
    "duration": 3,
    "start_time": "2023-10-24T16:45:22.374Z"
   },
   {
    "duration": 37,
    "start_time": "2023-10-24T16:45:22.379Z"
   },
   {
    "duration": 8,
    "start_time": "2023-10-24T16:45:22.417Z"
   },
   {
    "duration": 17,
    "start_time": "2023-10-24T16:45:22.426Z"
   },
   {
    "duration": 31,
    "start_time": "2023-10-24T16:45:22.444Z"
   },
   {
    "duration": 15,
    "start_time": "2023-10-24T16:45:22.477Z"
   },
   {
    "duration": 56,
    "start_time": "2023-10-24T16:45:22.494Z"
   },
   {
    "duration": 10,
    "start_time": "2023-10-24T16:45:22.552Z"
   },
   {
    "duration": 45,
    "start_time": "2023-10-24T16:45:22.564Z"
   },
   {
    "duration": 28,
    "start_time": "2023-10-24T16:45:22.611Z"
   },
   {
    "duration": 28,
    "start_time": "2023-10-24T16:45:22.643Z"
   },
   {
    "duration": 19,
    "start_time": "2023-10-24T16:45:22.673Z"
   },
   {
    "duration": 22,
    "start_time": "2023-10-24T16:45:22.694Z"
   },
   {
    "duration": 30,
    "start_time": "2023-10-24T16:45:22.718Z"
   },
   {
    "duration": 13,
    "start_time": "2023-10-24T16:45:22.750Z"
   },
   {
    "duration": 26,
    "start_time": "2023-10-24T16:45:22.766Z"
   },
   {
    "duration": 26,
    "start_time": "2023-10-24T16:45:22.794Z"
   },
   {
    "duration": 17,
    "start_time": "2023-10-24T16:45:22.822Z"
   },
   {
    "duration": 16,
    "start_time": "2023-10-24T16:45:22.841Z"
   },
   {
    "duration": 19,
    "start_time": "2023-10-24T16:45:22.859Z"
   },
   {
    "duration": 25,
    "start_time": "2023-10-24T16:45:22.880Z"
   },
   {
    "duration": 37,
    "start_time": "2023-10-24T16:45:22.908Z"
   },
   {
    "duration": 9,
    "start_time": "2023-10-24T16:45:22.948Z"
   },
   {
    "duration": 21,
    "start_time": "2023-10-24T16:45:22.959Z"
   },
   {
    "duration": 174,
    "start_time": "2023-10-24T16:45:22.982Z"
   },
   {
    "duration": 192,
    "start_time": "2023-10-24T16:45:23.159Z"
   },
   {
    "duration": 3,
    "start_time": "2023-10-24T16:47:08.118Z"
   },
   {
    "duration": 66,
    "start_time": "2023-10-24T16:47:08.124Z"
   },
   {
    "duration": 7,
    "start_time": "2023-10-24T16:47:08.192Z"
   },
   {
    "duration": 27,
    "start_time": "2023-10-24T16:47:08.201Z"
   },
   {
    "duration": 16,
    "start_time": "2023-10-24T16:47:08.230Z"
   },
   {
    "duration": 18,
    "start_time": "2023-10-24T16:47:08.247Z"
   },
   {
    "duration": 46,
    "start_time": "2023-10-24T16:47:08.266Z"
   },
   {
    "duration": 10,
    "start_time": "2023-10-24T16:47:08.313Z"
   },
   {
    "duration": 93,
    "start_time": "2023-10-24T16:47:08.325Z"
   },
   {
    "duration": 0,
    "start_time": "2023-10-24T16:47:08.421Z"
   },
   {
    "duration": 0,
    "start_time": "2023-10-24T16:47:08.422Z"
   },
   {
    "duration": 0,
    "start_time": "2023-10-24T16:47:08.423Z"
   },
   {
    "duration": 0,
    "start_time": "2023-10-24T16:47:08.425Z"
   },
   {
    "duration": 0,
    "start_time": "2023-10-24T16:47:08.427Z"
   },
   {
    "duration": 0,
    "start_time": "2023-10-24T16:47:08.428Z"
   },
   {
    "duration": 0,
    "start_time": "2023-10-24T16:47:08.430Z"
   },
   {
    "duration": 0,
    "start_time": "2023-10-24T16:47:08.431Z"
   },
   {
    "duration": 0,
    "start_time": "2023-10-24T16:47:08.433Z"
   },
   {
    "duration": 0,
    "start_time": "2023-10-24T16:47:08.434Z"
   },
   {
    "duration": 0,
    "start_time": "2023-10-24T16:47:08.435Z"
   },
   {
    "duration": 0,
    "start_time": "2023-10-24T16:47:08.436Z"
   },
   {
    "duration": 0,
    "start_time": "2023-10-24T16:47:08.438Z"
   },
   {
    "duration": 0,
    "start_time": "2023-10-24T16:47:08.439Z"
   },
   {
    "duration": 0,
    "start_time": "2023-10-24T16:47:08.440Z"
   },
   {
    "duration": 0,
    "start_time": "2023-10-24T16:47:08.442Z"
   },
   {
    "duration": 0,
    "start_time": "2023-10-24T16:47:08.443Z"
   },
   {
    "duration": 3,
    "start_time": "2023-10-24T16:48:09.595Z"
   },
   {
    "duration": 45,
    "start_time": "2023-10-24T16:48:09.601Z"
   },
   {
    "duration": 8,
    "start_time": "2023-10-24T16:48:09.647Z"
   },
   {
    "duration": 23,
    "start_time": "2023-10-24T16:48:09.657Z"
   },
   {
    "duration": 37,
    "start_time": "2023-10-24T16:48:09.683Z"
   },
   {
    "duration": 46,
    "start_time": "2023-10-24T16:48:09.721Z"
   },
   {
    "duration": 49,
    "start_time": "2023-10-24T16:48:09.769Z"
   },
   {
    "duration": 10,
    "start_time": "2023-10-24T16:48:09.819Z"
   },
   {
    "duration": 364,
    "start_time": "2023-10-24T16:48:09.831Z"
   },
   {
    "duration": 0,
    "start_time": "2023-10-24T16:48:10.197Z"
   },
   {
    "duration": 0,
    "start_time": "2023-10-24T16:48:10.198Z"
   },
   {
    "duration": 0,
    "start_time": "2023-10-24T16:48:10.200Z"
   },
   {
    "duration": 0,
    "start_time": "2023-10-24T16:48:10.201Z"
   },
   {
    "duration": 0,
    "start_time": "2023-10-24T16:48:10.201Z"
   },
   {
    "duration": 0,
    "start_time": "2023-10-24T16:48:10.202Z"
   },
   {
    "duration": 0,
    "start_time": "2023-10-24T16:48:10.203Z"
   },
   {
    "duration": 0,
    "start_time": "2023-10-24T16:48:10.204Z"
   },
   {
    "duration": 0,
    "start_time": "2023-10-24T16:48:10.205Z"
   },
   {
    "duration": 0,
    "start_time": "2023-10-24T16:48:10.206Z"
   },
   {
    "duration": 0,
    "start_time": "2023-10-24T16:48:10.207Z"
   },
   {
    "duration": 0,
    "start_time": "2023-10-24T16:48:10.208Z"
   },
   {
    "duration": 0,
    "start_time": "2023-10-24T16:48:10.209Z"
   },
   {
    "duration": 0,
    "start_time": "2023-10-24T16:48:10.210Z"
   },
   {
    "duration": 0,
    "start_time": "2023-10-24T16:48:10.211Z"
   },
   {
    "duration": 0,
    "start_time": "2023-10-24T16:48:10.212Z"
   },
   {
    "duration": 0,
    "start_time": "2023-10-24T16:48:10.212Z"
   },
   {
    "duration": 3,
    "start_time": "2023-10-24T16:48:49.962Z"
   },
   {
    "duration": 34,
    "start_time": "2023-10-24T16:48:49.967Z"
   },
   {
    "duration": 8,
    "start_time": "2023-10-24T16:48:50.003Z"
   },
   {
    "duration": 53,
    "start_time": "2023-10-24T16:48:50.013Z"
   },
   {
    "duration": 26,
    "start_time": "2023-10-24T16:48:50.068Z"
   },
   {
    "duration": 24,
    "start_time": "2023-10-24T16:48:50.095Z"
   },
   {
    "duration": 90,
    "start_time": "2023-10-24T16:48:50.121Z"
   },
   {
    "duration": 10,
    "start_time": "2023-10-24T16:48:50.213Z"
   },
   {
    "duration": 46,
    "start_time": "2023-10-24T16:48:50.225Z"
   },
   {
    "duration": 19,
    "start_time": "2023-10-24T16:48:50.273Z"
   },
   {
    "duration": 17,
    "start_time": "2023-10-24T16:48:50.294Z"
   },
   {
    "duration": 19,
    "start_time": "2023-10-24T16:48:50.312Z"
   },
   {
    "duration": 22,
    "start_time": "2023-10-24T16:48:50.333Z"
   },
   {
    "duration": 47,
    "start_time": "2023-10-24T16:48:50.357Z"
   },
   {
    "duration": 10,
    "start_time": "2023-10-24T16:48:50.406Z"
   },
   {
    "duration": 24,
    "start_time": "2023-10-24T16:48:50.417Z"
   },
   {
    "duration": 32,
    "start_time": "2023-10-24T16:48:50.443Z"
   },
   {
    "duration": 10,
    "start_time": "2023-10-24T16:48:50.476Z"
   },
   {
    "duration": 13,
    "start_time": "2023-10-24T16:48:50.488Z"
   },
   {
    "duration": 26,
    "start_time": "2023-10-24T16:48:50.503Z"
   },
   {
    "duration": 30,
    "start_time": "2023-10-24T16:48:50.531Z"
   },
   {
    "duration": 20,
    "start_time": "2023-10-24T16:48:50.563Z"
   },
   {
    "duration": 8,
    "start_time": "2023-10-24T16:48:50.585Z"
   },
   {
    "duration": 56,
    "start_time": "2023-10-24T16:48:50.595Z"
   },
   {
    "duration": 132,
    "start_time": "2023-10-24T16:48:50.652Z"
   },
   {
    "duration": 130,
    "start_time": "2023-10-24T16:48:50.785Z"
   },
   {
    "duration": 4,
    "start_time": "2023-10-24T16:49:56.413Z"
   },
   {
    "duration": 65,
    "start_time": "2023-10-24T16:49:56.419Z"
   },
   {
    "duration": 23,
    "start_time": "2023-10-24T16:49:56.486Z"
   },
   {
    "duration": 61,
    "start_time": "2023-10-24T16:49:56.511Z"
   },
   {
    "duration": 42,
    "start_time": "2023-10-24T16:49:56.575Z"
   },
   {
    "duration": 49,
    "start_time": "2023-10-24T16:49:56.619Z"
   },
   {
    "duration": 80,
    "start_time": "2023-10-24T16:49:56.670Z"
   },
   {
    "duration": 10,
    "start_time": "2023-10-24T16:49:56.752Z"
   },
   {
    "duration": 66,
    "start_time": "2023-10-24T16:49:56.764Z"
   },
   {
    "duration": 35,
    "start_time": "2023-10-24T16:49:56.831Z"
   },
   {
    "duration": 17,
    "start_time": "2023-10-24T16:49:56.869Z"
   },
   {
    "duration": 69,
    "start_time": "2023-10-24T16:49:56.887Z"
   },
   {
    "duration": 104,
    "start_time": "2023-10-24T16:49:56.958Z"
   },
   {
    "duration": 175,
    "start_time": "2023-10-24T16:49:57.064Z"
   },
   {
    "duration": 46,
    "start_time": "2023-10-24T16:49:57.240Z"
   },
   {
    "duration": 357,
    "start_time": "2023-10-24T16:49:57.288Z"
   },
   {
    "duration": 0,
    "start_time": "2023-10-24T16:49:57.648Z"
   },
   {
    "duration": 0,
    "start_time": "2023-10-24T16:49:57.649Z"
   },
   {
    "duration": 0,
    "start_time": "2023-10-24T16:49:57.650Z"
   },
   {
    "duration": 0,
    "start_time": "2023-10-24T16:49:57.652Z"
   },
   {
    "duration": 0,
    "start_time": "2023-10-24T16:49:57.654Z"
   },
   {
    "duration": 0,
    "start_time": "2023-10-24T16:49:57.655Z"
   },
   {
    "duration": 0,
    "start_time": "2023-10-24T16:49:57.660Z"
   },
   {
    "duration": 0,
    "start_time": "2023-10-24T16:49:57.661Z"
   },
   {
    "duration": 0,
    "start_time": "2023-10-24T16:49:57.663Z"
   },
   {
    "duration": 0,
    "start_time": "2023-10-24T16:49:57.664Z"
   },
   {
    "duration": 311,
    "start_time": "2023-10-24T16:50:45.415Z"
   },
   {
    "duration": 12,
    "start_time": "2023-10-24T16:51:05.763Z"
   },
   {
    "duration": 3,
    "start_time": "2023-10-24T16:51:26.291Z"
   },
   {
    "duration": 30,
    "start_time": "2023-10-24T16:51:26.298Z"
   },
   {
    "duration": 7,
    "start_time": "2023-10-24T16:51:26.330Z"
   },
   {
    "duration": 16,
    "start_time": "2023-10-24T16:51:26.339Z"
   },
   {
    "duration": 24,
    "start_time": "2023-10-24T16:51:26.358Z"
   },
   {
    "duration": 19,
    "start_time": "2023-10-24T16:51:26.383Z"
   },
   {
    "duration": 45,
    "start_time": "2023-10-24T16:51:26.404Z"
   },
   {
    "duration": 12,
    "start_time": "2023-10-24T16:51:26.450Z"
   },
   {
    "duration": 33,
    "start_time": "2023-10-24T16:51:26.463Z"
   },
   {
    "duration": 49,
    "start_time": "2023-10-24T16:51:26.498Z"
   },
   {
    "duration": 30,
    "start_time": "2023-10-24T16:51:26.550Z"
   },
   {
    "duration": 19,
    "start_time": "2023-10-24T16:51:26.582Z"
   },
   {
    "duration": 27,
    "start_time": "2023-10-24T16:51:26.602Z"
   },
   {
    "duration": 53,
    "start_time": "2023-10-24T16:51:26.631Z"
   },
   {
    "duration": 9,
    "start_time": "2023-10-24T16:51:26.686Z"
   },
   {
    "duration": 13,
    "start_time": "2023-10-24T16:51:26.697Z"
   },
   {
    "duration": 22,
    "start_time": "2023-10-24T16:51:26.711Z"
   },
   {
    "duration": 18,
    "start_time": "2023-10-24T16:51:26.734Z"
   },
   {
    "duration": 40,
    "start_time": "2023-10-24T16:51:26.754Z"
   },
   {
    "duration": 17,
    "start_time": "2023-10-24T16:51:26.796Z"
   },
   {
    "duration": 18,
    "start_time": "2023-10-24T16:51:26.815Z"
   },
   {
    "duration": 24,
    "start_time": "2023-10-24T16:51:26.835Z"
   },
   {
    "duration": 16,
    "start_time": "2023-10-24T16:51:26.861Z"
   },
   {
    "duration": 9,
    "start_time": "2023-10-24T16:51:26.879Z"
   },
   {
    "duration": 160,
    "start_time": "2023-10-24T16:51:26.889Z"
   },
   {
    "duration": 171,
    "start_time": "2023-10-24T16:51:27.051Z"
   },
   {
    "duration": 22,
    "start_time": "2023-10-24T16:58:10.230Z"
   },
   {
    "duration": 1308,
    "start_time": "2023-10-27T04:57:01.445Z"
   },
   {
    "duration": 64,
    "start_time": "2023-10-27T04:57:02.755Z"
   },
   {
    "duration": 11,
    "start_time": "2023-10-27T04:57:02.821Z"
   },
   {
    "duration": 28,
    "start_time": "2023-10-27T04:57:02.833Z"
   },
   {
    "duration": 8,
    "start_time": "2023-10-27T04:57:09.215Z"
   },
   {
    "duration": 3,
    "start_time": "2023-10-27T04:58:10.890Z"
   },
   {
    "duration": 32,
    "start_time": "2023-10-27T04:58:10.895Z"
   },
   {
    "duration": 7,
    "start_time": "2023-10-27T04:58:10.929Z"
   },
   {
    "duration": 11,
    "start_time": "2023-10-27T04:58:10.937Z"
   },
   {
    "duration": 14,
    "start_time": "2023-10-27T04:58:10.950Z"
   },
   {
    "duration": 6,
    "start_time": "2023-10-27T04:58:19.035Z"
   },
   {
    "duration": 7,
    "start_time": "2023-10-27T05:00:50.282Z"
   },
   {
    "duration": 101,
    "start_time": "2023-10-27T05:39:53.525Z"
   },
   {
    "duration": 3,
    "start_time": "2023-10-27T05:40:01.919Z"
   },
   {
    "duration": 73,
    "start_time": "2023-10-27T05:40:01.926Z"
   },
   {
    "duration": 80,
    "start_time": "2023-10-27T05:40:02.001Z"
   },
   {
    "duration": 76,
    "start_time": "2023-10-27T05:40:02.083Z"
   },
   {
    "duration": 41,
    "start_time": "2023-10-27T05:40:02.161Z"
   },
   {
    "duration": 54,
    "start_time": "2023-10-27T05:40:02.204Z"
   },
   {
    "duration": 86,
    "start_time": "2023-10-27T05:40:02.260Z"
   },
   {
    "duration": 46,
    "start_time": "2023-10-27T05:40:02.348Z"
   },
   {
    "duration": 60,
    "start_time": "2023-10-27T05:40:02.396Z"
   },
   {
    "duration": 145,
    "start_time": "2023-10-27T05:40:02.457Z"
   },
   {
    "duration": 10,
    "start_time": "2023-10-27T05:40:02.604Z"
   },
   {
    "duration": 43,
    "start_time": "2023-10-27T05:40:02.616Z"
   },
   {
    "duration": 99,
    "start_time": "2023-10-27T05:40:02.660Z"
   },
   {
    "duration": 162,
    "start_time": "2023-10-27T05:40:02.760Z"
   },
   {
    "duration": 62,
    "start_time": "2023-10-27T05:40:02.924Z"
   },
   {
    "duration": 48,
    "start_time": "2023-10-27T05:40:02.988Z"
   },
   {
    "duration": 135,
    "start_time": "2023-10-27T05:40:03.037Z"
   },
   {
    "duration": 41,
    "start_time": "2023-10-27T05:40:03.174Z"
   },
   {
    "duration": 33,
    "start_time": "2023-10-27T05:40:03.217Z"
   },
   {
    "duration": 53,
    "start_time": "2023-10-27T05:40:03.251Z"
   },
   {
    "duration": 47,
    "start_time": "2023-10-27T05:40:03.305Z"
   },
   {
    "duration": 64,
    "start_time": "2023-10-27T05:40:03.353Z"
   },
   {
    "duration": 35,
    "start_time": "2023-10-27T05:40:03.419Z"
   },
   {
    "duration": 51,
    "start_time": "2023-10-27T05:40:03.456Z"
   },
   {
    "duration": 44,
    "start_time": "2023-10-27T05:40:03.509Z"
   },
   {
    "duration": 20,
    "start_time": "2023-10-27T05:40:03.554Z"
   },
   {
    "duration": 56,
    "start_time": "2023-10-27T05:40:03.576Z"
   },
   {
    "duration": 23,
    "start_time": "2023-10-27T05:40:07.603Z"
   },
   {
    "duration": 21,
    "start_time": "2023-10-27T05:40:18.401Z"
   },
   {
    "duration": 159,
    "start_time": "2023-10-27T05:47:26.377Z"
   },
   {
    "duration": 124,
    "start_time": "2023-10-27T05:47:36.583Z"
   },
   {
    "duration": 126,
    "start_time": "2023-10-27T05:47:39.080Z"
   },
   {
    "duration": 6,
    "start_time": "2023-10-27T05:48:30.202Z"
   },
   {
    "duration": 6,
    "start_time": "2023-10-27T05:48:43.683Z"
   },
   {
    "duration": 5,
    "start_time": "2023-10-27T05:48:52.889Z"
   },
   {
    "duration": 8,
    "start_time": "2023-10-27T05:52:21.581Z"
   },
   {
    "duration": 7,
    "start_time": "2023-10-27T05:52:54.286Z"
   },
   {
    "duration": 7,
    "start_time": "2023-10-27T05:53:00.511Z"
   },
   {
    "duration": 4,
    "start_time": "2023-10-27T05:53:06.120Z"
   },
   {
    "duration": 80,
    "start_time": "2023-10-27T05:53:06.128Z"
   },
   {
    "duration": 8,
    "start_time": "2023-10-27T05:53:06.210Z"
   },
   {
    "duration": 58,
    "start_time": "2023-10-27T05:53:06.219Z"
   },
   {
    "duration": 38,
    "start_time": "2023-10-27T05:53:06.279Z"
   },
   {
    "duration": 26,
    "start_time": "2023-10-27T05:53:06.319Z"
   },
   {
    "duration": 38,
    "start_time": "2023-10-27T05:53:06.346Z"
   },
   {
    "duration": 17,
    "start_time": "2023-10-27T05:53:06.386Z"
   },
   {
    "duration": 16,
    "start_time": "2023-10-27T05:53:06.404Z"
   },
   {
    "duration": 62,
    "start_time": "2023-10-27T05:53:06.421Z"
   },
   {
    "duration": 12,
    "start_time": "2023-10-27T05:53:06.485Z"
   },
   {
    "duration": 21,
    "start_time": "2023-10-27T05:53:06.498Z"
   },
   {
    "duration": 18,
    "start_time": "2023-10-27T05:53:06.520Z"
   },
   {
    "duration": 29,
    "start_time": "2023-10-27T05:53:06.540Z"
   },
   {
    "duration": 29,
    "start_time": "2023-10-27T05:53:06.571Z"
   },
   {
    "duration": 17,
    "start_time": "2023-10-27T05:53:06.602Z"
   },
   {
    "duration": 44,
    "start_time": "2023-10-27T05:53:06.620Z"
   },
   {
    "duration": 16,
    "start_time": "2023-10-27T05:53:06.666Z"
   },
   {
    "duration": 14,
    "start_time": "2023-10-27T05:53:06.684Z"
   },
   {
    "duration": 22,
    "start_time": "2023-10-27T05:53:06.700Z"
   },
   {
    "duration": 46,
    "start_time": "2023-10-27T05:53:06.724Z"
   },
   {
    "duration": 33,
    "start_time": "2023-10-27T05:53:06.772Z"
   },
   {
    "duration": 35,
    "start_time": "2023-10-27T05:53:06.806Z"
   },
   {
    "duration": 31,
    "start_time": "2023-10-27T05:53:06.842Z"
   },
   {
    "duration": 8,
    "start_time": "2023-10-27T05:53:11.972Z"
   },
   {
    "duration": 8,
    "start_time": "2023-10-27T05:53:15.703Z"
   },
   {
    "duration": 27,
    "start_time": "2023-10-27T06:02:03.882Z"
   },
   {
    "duration": 1457,
    "start_time": "2023-11-09T05:50:16.109Z"
   },
   {
    "duration": 63,
    "start_time": "2023-11-09T05:50:17.568Z"
   },
   {
    "duration": 12,
    "start_time": "2023-11-09T05:50:17.633Z"
   },
   {
    "duration": 11,
    "start_time": "2023-11-09T05:50:17.647Z"
   },
   {
    "duration": 9,
    "start_time": "2023-11-09T05:50:17.660Z"
   },
   {
    "duration": 23,
    "start_time": "2023-11-09T05:50:17.670Z"
   },
   {
    "duration": 16,
    "start_time": "2023-11-09T05:50:17.695Z"
   },
   {
    "duration": 19,
    "start_time": "2023-11-09T05:50:17.713Z"
   },
   {
    "duration": 13,
    "start_time": "2023-11-09T05:50:17.734Z"
   },
   {
    "duration": 91,
    "start_time": "2023-11-09T05:50:17.750Z"
   },
   {
    "duration": 10,
    "start_time": "2023-11-09T05:50:17.842Z"
   },
   {
    "duration": 26,
    "start_time": "2023-11-09T05:50:17.853Z"
   },
   {
    "duration": 7,
    "start_time": "2023-11-09T05:50:17.880Z"
   },
   {
    "duration": 8,
    "start_time": "2023-11-09T05:50:17.889Z"
   },
   {
    "duration": 9,
    "start_time": "2023-11-09T05:50:17.898Z"
   },
   {
    "duration": 8,
    "start_time": "2023-11-09T05:50:17.908Z"
   },
   {
    "duration": 69,
    "start_time": "2023-11-09T05:50:17.917Z"
   },
   {
    "duration": 14,
    "start_time": "2023-11-09T05:50:17.988Z"
   },
   {
    "duration": 14,
    "start_time": "2023-11-09T05:50:18.004Z"
   },
   {
    "duration": 9,
    "start_time": "2023-11-09T05:50:18.020Z"
   },
   {
    "duration": 13,
    "start_time": "2023-11-09T05:50:18.030Z"
   },
   {
    "duration": 10,
    "start_time": "2023-11-09T05:50:18.045Z"
   },
   {
    "duration": 10,
    "start_time": "2023-11-09T05:50:18.056Z"
   },
   {
    "duration": 6,
    "start_time": "2023-11-09T05:50:18.068Z"
   },
   {
    "duration": 8,
    "start_time": "2023-11-09T05:50:18.076Z"
   },
   {
    "duration": 33,
    "start_time": "2023-11-09T05:50:18.086Z"
   },
   {
    "duration": 10,
    "start_time": "2023-11-09T05:50:18.120Z"
   },
   {
    "duration": 220,
    "start_time": "2023-11-09T05:50:18.133Z"
   },
   {
    "duration": 146,
    "start_time": "2023-11-09T05:50:18.355Z"
   },
   {
    "duration": 134,
    "start_time": "2023-11-09T05:50:18.502Z"
   },
   {
    "duration": 0,
    "start_time": "2023-11-09T05:50:18.638Z"
   },
   {
    "duration": 1,
    "start_time": "2023-11-09T05:50:18.639Z"
   },
   {
    "duration": 0,
    "start_time": "2023-11-09T05:50:18.641Z"
   },
   {
    "duration": 27,
    "start_time": "2023-11-09T05:53:09.276Z"
   },
   {
    "duration": 162,
    "start_time": "2023-11-09T05:54:39.251Z"
   },
   {
    "duration": 264,
    "start_time": "2023-11-09T05:55:14.834Z"
   },
   {
    "duration": 13,
    "start_time": "2023-11-09T05:55:19.030Z"
   },
   {
    "duration": 8,
    "start_time": "2023-11-09T05:55:20.476Z"
   },
   {
    "duration": 7,
    "start_time": "2023-11-09T05:55:39.358Z"
   },
   {
    "duration": 152,
    "start_time": "2023-11-09T05:55:53.410Z"
   },
   {
    "duration": 1287,
    "start_time": "2023-11-10T04:07:46.232Z"
   },
   {
    "duration": 62,
    "start_time": "2023-11-10T04:07:47.521Z"
   },
   {
    "duration": 12,
    "start_time": "2023-11-10T04:07:47.585Z"
   },
   {
    "duration": 25,
    "start_time": "2023-11-10T04:07:47.599Z"
   },
   {
    "duration": 25,
    "start_time": "2023-11-10T04:07:47.626Z"
   },
   {
    "duration": 5,
    "start_time": "2023-11-10T04:07:47.653Z"
   },
   {
    "duration": 19,
    "start_time": "2023-11-10T04:07:47.659Z"
   },
   {
    "duration": 34,
    "start_time": "2023-11-10T04:07:47.679Z"
   },
   {
    "duration": 15,
    "start_time": "2023-11-10T04:07:47.714Z"
   },
   {
    "duration": 90,
    "start_time": "2023-11-10T04:07:47.731Z"
   },
   {
    "duration": 10,
    "start_time": "2023-11-10T04:07:47.823Z"
   },
   {
    "duration": 20,
    "start_time": "2023-11-10T04:07:47.834Z"
   },
   {
    "duration": 8,
    "start_time": "2023-11-10T04:07:47.855Z"
   },
   {
    "duration": 19,
    "start_time": "2023-11-10T04:07:47.865Z"
   },
   {
    "duration": 16,
    "start_time": "2023-11-10T04:07:47.886Z"
   },
   {
    "duration": 15,
    "start_time": "2023-11-10T04:07:47.903Z"
   },
   {
    "duration": 75,
    "start_time": "2023-11-10T04:07:47.919Z"
   },
   {
    "duration": 10,
    "start_time": "2023-11-10T04:07:47.996Z"
   },
   {
    "duration": 13,
    "start_time": "2023-11-10T04:07:48.008Z"
   },
   {
    "duration": 13,
    "start_time": "2023-11-10T04:07:48.023Z"
   },
   {
    "duration": 7,
    "start_time": "2023-11-10T04:07:48.037Z"
   },
   {
    "duration": 13,
    "start_time": "2023-11-10T04:07:48.045Z"
   },
   {
    "duration": 11,
    "start_time": "2023-11-10T04:07:48.060Z"
   },
   {
    "duration": 8,
    "start_time": "2023-11-10T04:07:48.073Z"
   },
   {
    "duration": 28,
    "start_time": "2023-11-10T04:07:48.082Z"
   },
   {
    "duration": 19,
    "start_time": "2023-11-10T04:07:48.111Z"
   },
   {
    "duration": 12,
    "start_time": "2023-11-10T04:07:48.132Z"
   },
   {
    "duration": 155,
    "start_time": "2023-11-10T04:07:48.147Z"
   },
   {
    "duration": 122,
    "start_time": "2023-11-10T04:07:48.303Z"
   },
   {
    "duration": 271,
    "start_time": "2023-11-10T04:07:48.427Z"
   },
   {
    "duration": 16,
    "start_time": "2023-11-10T04:07:48.699Z"
   },
   {
    "duration": 2,
    "start_time": "2023-11-10T04:07:48.717Z"
   },
   {
    "duration": 155,
    "start_time": "2023-11-10T04:07:48.721Z"
   },
   {
    "duration": 1263,
    "start_time": "2023-11-11T04:29:39.649Z"
   },
   {
    "duration": 59,
    "start_time": "2023-11-11T04:29:40.914Z"
   },
   {
    "duration": 10,
    "start_time": "2023-11-11T04:29:40.975Z"
   },
   {
    "duration": 10,
    "start_time": "2023-11-11T04:29:40.987Z"
   },
   {
    "duration": 7,
    "start_time": "2023-11-11T04:29:40.998Z"
   },
   {
    "duration": 4,
    "start_time": "2023-11-11T04:29:41.006Z"
   },
   {
    "duration": 5,
    "start_time": "2023-11-11T04:29:41.011Z"
   },
   {
    "duration": 9,
    "start_time": "2023-11-11T04:29:41.017Z"
   },
   {
    "duration": 12,
    "start_time": "2023-11-11T04:29:41.028Z"
   },
   {
    "duration": 84,
    "start_time": "2023-11-11T04:29:41.051Z"
   },
   {
    "duration": 9,
    "start_time": "2023-11-11T04:29:41.137Z"
   },
   {
    "duration": 19,
    "start_time": "2023-11-11T04:29:41.148Z"
   },
   {
    "duration": 4,
    "start_time": "2023-11-11T04:29:41.169Z"
   },
   {
    "duration": 6,
    "start_time": "2023-11-11T04:29:41.174Z"
   },
   {
    "duration": 7,
    "start_time": "2023-11-11T04:29:41.181Z"
   },
   {
    "duration": 6,
    "start_time": "2023-11-11T04:29:41.189Z"
   },
   {
    "duration": 57,
    "start_time": "2023-11-11T04:29:41.196Z"
   },
   {
    "duration": 8,
    "start_time": "2023-11-11T04:29:41.254Z"
   },
   {
    "duration": 11,
    "start_time": "2023-11-11T04:29:41.263Z"
   },
   {
    "duration": 5,
    "start_time": "2023-11-11T04:29:41.275Z"
   },
   {
    "duration": 4,
    "start_time": "2023-11-11T04:29:41.282Z"
   },
   {
    "duration": 8,
    "start_time": "2023-11-11T04:29:41.287Z"
   },
   {
    "duration": 12,
    "start_time": "2023-11-11T04:29:41.297Z"
   },
   {
    "duration": 6,
    "start_time": "2023-11-11T04:29:41.310Z"
   },
   {
    "duration": 37,
    "start_time": "2023-11-11T04:29:41.317Z"
   },
   {
    "duration": 11,
    "start_time": "2023-11-11T04:29:41.355Z"
   },
   {
    "duration": 7,
    "start_time": "2023-11-11T04:29:41.368Z"
   },
   {
    "duration": 153,
    "start_time": "2023-11-11T04:29:41.378Z"
   },
   {
    "duration": 108,
    "start_time": "2023-11-11T04:29:41.533Z"
   },
   {
    "duration": 249,
    "start_time": "2023-11-11T04:29:41.652Z"
   },
   {
    "duration": 16,
    "start_time": "2023-11-11T04:29:41.903Z"
   },
   {
    "duration": 13,
    "start_time": "2023-11-11T04:29:41.921Z"
   },
   {
    "duration": 121,
    "start_time": "2023-11-11T04:29:41.935Z"
   },
   {
    "duration": 1327,
    "start_time": "2023-11-11T14:57:31.234Z"
   },
   {
    "duration": 64,
    "start_time": "2023-11-11T14:57:32.562Z"
   },
   {
    "duration": 11,
    "start_time": "2023-11-11T14:57:32.627Z"
   },
   {
    "duration": 10,
    "start_time": "2023-11-11T14:57:32.640Z"
   },
   {
    "duration": 9,
    "start_time": "2023-11-11T14:57:32.651Z"
   },
   {
    "duration": 7,
    "start_time": "2023-11-11T14:57:32.662Z"
   },
   {
    "duration": 13,
    "start_time": "2023-11-11T14:57:32.671Z"
   },
   {
    "duration": 12,
    "start_time": "2023-11-11T14:57:32.686Z"
   },
   {
    "duration": 21,
    "start_time": "2023-11-11T14:57:32.699Z"
   },
   {
    "duration": 91,
    "start_time": "2023-11-11T14:57:32.722Z"
   },
   {
    "duration": 10,
    "start_time": "2023-11-11T14:57:32.815Z"
   },
   {
    "duration": 20,
    "start_time": "2023-11-11T14:57:32.826Z"
   },
   {
    "duration": 7,
    "start_time": "2023-11-11T14:57:32.847Z"
   },
   {
    "duration": 7,
    "start_time": "2023-11-11T14:57:32.856Z"
   },
   {
    "duration": 5,
    "start_time": "2023-11-11T14:57:32.865Z"
   },
   {
    "duration": 6,
    "start_time": "2023-11-11T14:57:32.872Z"
   },
   {
    "duration": 58,
    "start_time": "2023-11-11T14:57:32.911Z"
   },
   {
    "duration": 9,
    "start_time": "2023-11-11T14:57:32.971Z"
   },
   {
    "duration": 18,
    "start_time": "2023-11-11T14:57:32.982Z"
   },
   {
    "duration": 7,
    "start_time": "2023-11-11T14:57:33.001Z"
   },
   {
    "duration": 6,
    "start_time": "2023-11-11T14:57:33.010Z"
   },
   {
    "duration": 9,
    "start_time": "2023-11-11T14:57:33.017Z"
   },
   {
    "duration": 8,
    "start_time": "2023-11-11T14:57:33.027Z"
   },
   {
    "duration": 5,
    "start_time": "2023-11-11T14:57:33.037Z"
   },
   {
    "duration": 9,
    "start_time": "2023-11-11T14:57:33.043Z"
   },
   {
    "duration": 7,
    "start_time": "2023-11-11T14:57:33.053Z"
   },
   {
    "duration": 6,
    "start_time": "2023-11-11T14:57:33.062Z"
   },
   {
    "duration": 211,
    "start_time": "2023-11-11T14:57:33.070Z"
   },
   {
    "duration": 118,
    "start_time": "2023-11-11T14:57:33.282Z"
   },
   {
    "duration": 13,
    "start_time": "2023-11-11T14:57:33.410Z"
   },
   {
    "duration": 525,
    "start_time": "2023-11-11T14:57:39.622Z"
   },
   {
    "duration": 268,
    "start_time": "2023-11-11T14:58:04.550Z"
   },
   {
    "duration": 13,
    "start_time": "2023-11-11T15:08:34.716Z"
   },
   {
    "duration": 179,
    "start_time": "2023-11-11T15:09:26.936Z"
   },
   {
    "duration": 179,
    "start_time": "2023-11-11T15:10:05.461Z"
   },
   {
    "duration": 213,
    "start_time": "2023-11-11T15:11:42.000Z"
   },
   {
    "duration": 201,
    "start_time": "2023-11-11T15:12:23.410Z"
   },
   {
    "duration": 186,
    "start_time": "2023-11-11T15:12:35.940Z"
   },
   {
    "duration": 224,
    "start_time": "2023-11-11T15:47:43.951Z"
   },
   {
    "duration": 257,
    "start_time": "2023-11-11T15:47:52.987Z"
   },
   {
    "duration": 274,
    "start_time": "2023-11-11T17:17:47.874Z"
   },
   {
    "duration": 289,
    "start_time": "2023-11-11T17:18:53.524Z"
   },
   {
    "duration": 75,
    "start_time": "2023-11-11T17:30:12.874Z"
   },
   {
    "duration": 184,
    "start_time": "2023-11-11T17:41:44.194Z"
   },
   {
    "duration": 199,
    "start_time": "2023-11-11T17:42:17.457Z"
   },
   {
    "duration": 173,
    "start_time": "2023-11-11T17:42:32.096Z"
   },
   {
    "duration": 168,
    "start_time": "2023-11-11T17:42:54.084Z"
   },
   {
    "duration": 190,
    "start_time": "2023-11-11T17:43:16.208Z"
   },
   {
    "duration": 193,
    "start_time": "2023-11-11T17:43:32.969Z"
   },
   {
    "duration": 47,
    "start_time": "2023-11-13T04:40:57.263Z"
   },
   {
    "duration": 1226,
    "start_time": "2023-11-13T04:41:02.388Z"
   },
   {
    "duration": 59,
    "start_time": "2023-11-13T04:41:03.616Z"
   },
   {
    "duration": 11,
    "start_time": "2023-11-13T04:41:03.677Z"
   },
   {
    "duration": 22,
    "start_time": "2023-11-13T04:41:03.690Z"
   },
   {
    "duration": 14,
    "start_time": "2023-11-13T04:41:03.713Z"
   },
   {
    "duration": 4,
    "start_time": "2023-11-13T04:41:03.728Z"
   },
   {
    "duration": 7,
    "start_time": "2023-11-13T04:41:03.733Z"
   },
   {
    "duration": 10,
    "start_time": "2023-11-13T04:41:03.741Z"
   },
   {
    "duration": 15,
    "start_time": "2023-11-13T04:41:03.752Z"
   },
   {
    "duration": 85,
    "start_time": "2023-11-13T04:41:03.769Z"
   },
   {
    "duration": 9,
    "start_time": "2023-11-13T04:41:03.855Z"
   },
   {
    "duration": 20,
    "start_time": "2023-11-13T04:41:03.866Z"
   },
   {
    "duration": 21,
    "start_time": "2023-11-13T04:41:03.887Z"
   },
   {
    "duration": 6,
    "start_time": "2023-11-13T04:41:03.910Z"
   },
   {
    "duration": 6,
    "start_time": "2023-11-13T04:41:03.917Z"
   },
   {
    "duration": 6,
    "start_time": "2023-11-13T04:41:03.924Z"
   },
   {
    "duration": 60,
    "start_time": "2023-11-13T04:41:03.932Z"
   },
   {
    "duration": 9,
    "start_time": "2023-11-13T04:41:03.994Z"
   },
   {
    "duration": 18,
    "start_time": "2023-11-13T04:41:04.005Z"
   },
   {
    "duration": 23,
    "start_time": "2023-11-13T04:41:04.024Z"
   },
   {
    "duration": 5,
    "start_time": "2023-11-13T04:41:04.049Z"
   },
   {
    "duration": 34,
    "start_time": "2023-11-13T04:41:04.056Z"
   },
   {
    "duration": 9,
    "start_time": "2023-11-13T04:41:04.091Z"
   },
   {
    "duration": 17,
    "start_time": "2023-11-13T04:41:04.102Z"
   },
   {
    "duration": 10,
    "start_time": "2023-11-13T04:41:04.121Z"
   },
   {
    "duration": 7,
    "start_time": "2023-11-13T04:41:04.132Z"
   },
   {
    "duration": 6,
    "start_time": "2023-11-13T04:41:04.141Z"
   },
   {
    "duration": 156,
    "start_time": "2023-11-13T04:41:04.150Z"
   },
   {
    "duration": 111,
    "start_time": "2023-11-13T04:41:04.307Z"
   },
   {
    "duration": 11,
    "start_time": "2023-11-13T04:41:04.419Z"
   },
   {
    "duration": 270,
    "start_time": "2023-11-13T04:41:04.432Z"
   },
   {
    "duration": 368,
    "start_time": "2023-11-13T04:41:04.703Z"
   },
   {
    "duration": 193,
    "start_time": "2023-11-13T04:41:05.072Z"
   },
   {
    "duration": 186,
    "start_time": "2023-11-13T04:41:05.266Z"
   },
   {
    "duration": 170,
    "start_time": "2023-11-13T04:42:17.304Z"
   },
   {
    "duration": 226,
    "start_time": "2023-11-13T04:42:34.554Z"
   },
   {
    "duration": 310,
    "start_time": "2023-11-13T04:44:06.942Z"
   },
   {
    "duration": 290,
    "start_time": "2023-11-13T04:45:07.750Z"
   },
   {
    "duration": 314,
    "start_time": "2023-11-13T04:46:04.240Z"
   },
   {
    "duration": 250,
    "start_time": "2023-11-13T04:55:29.674Z"
   },
   {
    "duration": 248,
    "start_time": "2023-11-13T04:55:54.998Z"
   },
   {
    "duration": 127,
    "start_time": "2023-11-13T04:56:24.819Z"
   },
   {
    "duration": 150,
    "start_time": "2023-11-13T04:56:34.549Z"
   },
   {
    "duration": 270,
    "start_time": "2023-11-13T04:57:32.315Z"
   },
   {
    "duration": 295,
    "start_time": "2023-11-13T04:58:54.093Z"
   },
   {
    "duration": 248,
    "start_time": "2023-11-13T04:59:14.695Z"
   },
   {
    "duration": 181,
    "start_time": "2023-11-13T05:01:13.297Z"
   },
   {
    "duration": 278,
    "start_time": "2023-11-13T05:02:13.546Z"
   },
   {
    "duration": 175,
    "start_time": "2023-11-13T05:06:09.847Z"
   },
   {
    "duration": 3,
    "start_time": "2023-11-13T05:29:53.760Z"
   },
   {
    "duration": 61,
    "start_time": "2023-11-13T05:29:53.764Z"
   },
   {
    "duration": 7,
    "start_time": "2023-11-13T05:29:53.827Z"
   },
   {
    "duration": 10,
    "start_time": "2023-11-13T05:29:53.836Z"
   },
   {
    "duration": 60,
    "start_time": "2023-11-13T05:29:53.848Z"
   },
   {
    "duration": 11,
    "start_time": "2023-11-13T05:29:53.909Z"
   },
   {
    "duration": 8,
    "start_time": "2023-11-13T05:29:53.922Z"
   },
   {
    "duration": 10,
    "start_time": "2023-11-13T05:29:53.931Z"
   },
   {
    "duration": 11,
    "start_time": "2023-11-13T05:29:53.943Z"
   },
   {
    "duration": 47,
    "start_time": "2023-11-13T05:29:53.955Z"
   },
   {
    "duration": 9,
    "start_time": "2023-11-13T05:29:54.004Z"
   },
   {
    "duration": 18,
    "start_time": "2023-11-13T05:29:54.015Z"
   },
   {
    "duration": 4,
    "start_time": "2023-11-13T05:29:54.035Z"
   },
   {
    "duration": 7,
    "start_time": "2023-11-13T05:29:54.040Z"
   },
   {
    "duration": 5,
    "start_time": "2023-11-13T05:29:54.048Z"
   },
   {
    "duration": 6,
    "start_time": "2023-11-13T05:29:54.054Z"
   },
   {
    "duration": 23,
    "start_time": "2023-11-13T05:29:54.061Z"
   },
   {
    "duration": 9,
    "start_time": "2023-11-13T05:29:54.086Z"
   },
   {
    "duration": 18,
    "start_time": "2023-11-13T05:29:54.096Z"
   },
   {
    "duration": 5,
    "start_time": "2023-11-13T05:29:54.116Z"
   },
   {
    "duration": 4,
    "start_time": "2023-11-13T05:29:54.123Z"
   },
   {
    "duration": 28,
    "start_time": "2023-11-13T05:29:54.129Z"
   },
   {
    "duration": 7,
    "start_time": "2023-11-13T05:29:54.158Z"
   },
   {
    "duration": 12,
    "start_time": "2023-11-13T05:29:54.166Z"
   },
   {
    "duration": 9,
    "start_time": "2023-11-13T05:29:54.179Z"
   },
   {
    "duration": 20,
    "start_time": "2023-11-13T05:29:54.189Z"
   },
   {
    "duration": 4,
    "start_time": "2023-11-13T05:29:54.212Z"
   },
   {
    "duration": 163,
    "start_time": "2023-11-13T05:29:54.217Z"
   },
   {
    "duration": 111,
    "start_time": "2023-11-13T05:29:54.381Z"
   },
   {
    "duration": 10,
    "start_time": "2023-11-13T05:29:54.493Z"
   },
   {
    "duration": 183,
    "start_time": "2023-11-13T05:29:54.505Z"
   },
   {
    "duration": 236,
    "start_time": "2023-11-13T05:29:58.428Z"
   },
   {
    "duration": 157,
    "start_time": "2023-11-13T05:31:27.644Z"
   },
   {
    "duration": 1419,
    "start_time": "2023-11-14T03:40:02.046Z"
   },
   {
    "duration": 63,
    "start_time": "2023-11-14T03:40:03.467Z"
   },
   {
    "duration": 11,
    "start_time": "2023-11-14T03:40:03.531Z"
   },
   {
    "duration": 22,
    "start_time": "2023-11-14T03:40:03.544Z"
   },
   {
    "duration": 16,
    "start_time": "2023-11-14T03:40:03.567Z"
   },
   {
    "duration": 19,
    "start_time": "2023-11-14T03:40:03.585Z"
   },
   {
    "duration": 21,
    "start_time": "2023-11-14T03:40:03.606Z"
   },
   {
    "duration": 34,
    "start_time": "2023-11-14T03:40:03.628Z"
   },
   {
    "duration": 26,
    "start_time": "2023-11-14T03:40:03.664Z"
   },
   {
    "duration": 106,
    "start_time": "2023-11-14T03:40:03.692Z"
   },
   {
    "duration": 10,
    "start_time": "2023-11-14T03:40:03.799Z"
   },
   {
    "duration": 20,
    "start_time": "2023-11-14T03:40:03.810Z"
   },
   {
    "duration": 16,
    "start_time": "2023-11-14T03:40:03.832Z"
   },
   {
    "duration": 8,
    "start_time": "2023-11-14T03:40:03.850Z"
   },
   {
    "duration": 9,
    "start_time": "2023-11-14T03:40:03.860Z"
   },
   {
    "duration": 10,
    "start_time": "2023-11-14T03:40:03.871Z"
   },
   {
    "duration": 68,
    "start_time": "2023-11-14T03:40:03.882Z"
   },
   {
    "duration": 9,
    "start_time": "2023-11-14T03:40:03.951Z"
   },
   {
    "duration": 15,
    "start_time": "2023-11-14T03:40:03.961Z"
   },
   {
    "duration": 5,
    "start_time": "2023-11-14T03:40:03.978Z"
   },
   {
    "duration": 13,
    "start_time": "2023-11-14T03:40:03.984Z"
   },
   {
    "duration": 30,
    "start_time": "2023-11-14T03:40:03.998Z"
   },
   {
    "duration": 16,
    "start_time": "2023-11-14T03:40:04.029Z"
   },
   {
    "duration": 4,
    "start_time": "2023-11-14T03:40:04.046Z"
   },
   {
    "duration": 8,
    "start_time": "2023-11-14T03:40:04.052Z"
   },
   {
    "duration": 8,
    "start_time": "2023-11-14T03:40:04.061Z"
   },
   {
    "duration": 13,
    "start_time": "2023-11-14T03:40:04.070Z"
   },
   {
    "duration": 152,
    "start_time": "2023-11-14T03:40:04.086Z"
   },
   {
    "duration": 125,
    "start_time": "2023-11-14T03:40:04.240Z"
   },
   {
    "duration": 12,
    "start_time": "2023-11-14T03:40:04.367Z"
   },
   {
    "duration": 408,
    "start_time": "2023-11-14T03:40:04.381Z"
   },
   {
    "duration": 187,
    "start_time": "2023-11-14T03:40:04.790Z"
   },
   {
    "duration": 319,
    "start_time": "2023-11-14T03:40:04.979Z"
   },
   {
    "duration": 194,
    "start_time": "2023-11-14T03:40:05.300Z"
   },
   {
    "duration": 306,
    "start_time": "2023-11-14T03:40:05.496Z"
   },
   {
    "duration": 94,
    "start_time": "2023-11-14T03:40:05.803Z"
   },
   {
    "duration": 113,
    "start_time": "2023-11-14T03:40:48.998Z"
   },
   {
    "duration": 15,
    "start_time": "2023-11-14T03:41:56.844Z"
   },
   {
    "duration": 15,
    "start_time": "2023-11-14T03:44:15.654Z"
   },
   {
    "duration": 13,
    "start_time": "2023-11-14T03:44:32.564Z"
   },
   {
    "duration": 126,
    "start_time": "2023-11-14T03:45:07.894Z"
   },
   {
    "duration": 1327,
    "start_time": "2023-11-15T04:38:32.804Z"
   },
   {
    "duration": 59,
    "start_time": "2023-11-15T04:38:34.133Z"
   },
   {
    "duration": 10,
    "start_time": "2023-11-15T04:38:34.194Z"
   },
   {
    "duration": 11,
    "start_time": "2023-11-15T04:38:34.206Z"
   },
   {
    "duration": 10,
    "start_time": "2023-11-15T04:38:34.218Z"
   },
   {
    "duration": 4,
    "start_time": "2023-11-15T04:38:34.229Z"
   },
   {
    "duration": 6,
    "start_time": "2023-11-15T04:38:34.235Z"
   },
   {
    "duration": 13,
    "start_time": "2023-11-15T04:38:34.243Z"
   },
   {
    "duration": 19,
    "start_time": "2023-11-15T04:38:34.257Z"
   },
   {
    "duration": 98,
    "start_time": "2023-11-15T04:38:34.279Z"
   },
   {
    "duration": 11,
    "start_time": "2023-11-15T04:38:34.378Z"
   },
   {
    "duration": 20,
    "start_time": "2023-11-15T04:38:34.391Z"
   },
   {
    "duration": 5,
    "start_time": "2023-11-15T04:38:34.412Z"
   },
   {
    "duration": 10,
    "start_time": "2023-11-15T04:38:34.418Z"
   },
   {
    "duration": 8,
    "start_time": "2023-11-15T04:38:34.430Z"
   },
   {
    "duration": 29,
    "start_time": "2023-11-15T04:38:34.439Z"
   },
   {
    "duration": 57,
    "start_time": "2023-11-15T04:38:34.470Z"
   },
   {
    "duration": 11,
    "start_time": "2023-11-15T04:38:34.528Z"
   },
   {
    "duration": 12,
    "start_time": "2023-11-15T04:38:34.540Z"
   },
   {
    "duration": 17,
    "start_time": "2023-11-15T04:38:34.554Z"
   },
   {
    "duration": 6,
    "start_time": "2023-11-15T04:38:34.573Z"
   },
   {
    "duration": 12,
    "start_time": "2023-11-15T04:38:34.580Z"
   },
   {
    "duration": 9,
    "start_time": "2023-11-15T04:38:34.593Z"
   },
   {
    "duration": 6,
    "start_time": "2023-11-15T04:38:34.605Z"
   },
   {
    "duration": 16,
    "start_time": "2023-11-15T04:38:34.613Z"
   },
   {
    "duration": 36,
    "start_time": "2023-11-15T04:38:34.631Z"
   },
   {
    "duration": 5,
    "start_time": "2023-11-15T04:38:34.668Z"
   },
   {
    "duration": 177,
    "start_time": "2023-11-15T04:38:34.677Z"
   },
   {
    "duration": 132,
    "start_time": "2023-11-15T04:38:34.856Z"
   },
   {
    "duration": 13,
    "start_time": "2023-11-15T04:38:34.990Z"
   },
   {
    "duration": 309,
    "start_time": "2023-11-15T04:38:35.004Z"
   },
   {
    "duration": 226,
    "start_time": "2023-11-15T04:38:35.315Z"
   },
   {
    "duration": 353,
    "start_time": "2023-11-15T04:38:35.543Z"
   },
   {
    "duration": 215,
    "start_time": "2023-11-15T04:38:35.898Z"
   },
   {
    "duration": 305,
    "start_time": "2023-11-15T04:38:36.115Z"
   },
   {
    "duration": 118,
    "start_time": "2023-11-15T04:38:42.842Z"
   },
   {
    "duration": 7,
    "start_time": "2023-11-15T04:42:39.833Z"
   },
   {
    "duration": 97,
    "start_time": "2023-11-15T05:05:05.108Z"
   },
   {
    "duration": 127,
    "start_time": "2023-11-15T05:05:26.723Z"
   },
   {
    "duration": 1290,
    "start_time": "2023-11-16T05:43:49.523Z"
   },
   {
    "duration": 68,
    "start_time": "2023-11-16T05:43:50.815Z"
   },
   {
    "duration": 10,
    "start_time": "2023-11-16T05:43:50.885Z"
   },
   {
    "duration": 15,
    "start_time": "2023-11-16T05:43:50.897Z"
   },
   {
    "duration": 31,
    "start_time": "2023-11-16T05:43:50.914Z"
   },
   {
    "duration": 12,
    "start_time": "2023-11-16T05:43:50.947Z"
   },
   {
    "duration": 14,
    "start_time": "2023-11-16T05:43:50.960Z"
   },
   {
    "duration": 14,
    "start_time": "2023-11-16T05:43:50.976Z"
   },
   {
    "duration": 16,
    "start_time": "2023-11-16T05:43:50.992Z"
   },
   {
    "duration": 87,
    "start_time": "2023-11-16T05:43:51.011Z"
   },
   {
    "duration": 11,
    "start_time": "2023-11-16T05:43:51.099Z"
   },
   {
    "duration": 28,
    "start_time": "2023-11-16T05:43:51.112Z"
   },
   {
    "duration": 18,
    "start_time": "2023-11-16T05:43:51.142Z"
   },
   {
    "duration": 11,
    "start_time": "2023-11-16T05:43:51.162Z"
   },
   {
    "duration": 7,
    "start_time": "2023-11-16T05:43:51.175Z"
   },
   {
    "duration": 9,
    "start_time": "2023-11-16T05:43:51.184Z"
   },
   {
    "duration": 60,
    "start_time": "2023-11-16T05:43:51.195Z"
   },
   {
    "duration": 10,
    "start_time": "2023-11-16T05:43:51.257Z"
   },
   {
    "duration": 14,
    "start_time": "2023-11-16T05:43:51.268Z"
   },
   {
    "duration": 10,
    "start_time": "2023-11-16T05:43:51.284Z"
   },
   {
    "duration": 9,
    "start_time": "2023-11-16T05:43:51.296Z"
   },
   {
    "duration": 12,
    "start_time": "2023-11-16T05:43:51.306Z"
   },
   {
    "duration": 14,
    "start_time": "2023-11-16T05:43:51.319Z"
   },
   {
    "duration": 12,
    "start_time": "2023-11-16T05:43:51.335Z"
   },
   {
    "duration": 8,
    "start_time": "2023-11-16T05:43:51.349Z"
   },
   {
    "duration": 23,
    "start_time": "2023-11-16T05:43:51.359Z"
   },
   {
    "duration": 14,
    "start_time": "2023-11-16T05:43:51.384Z"
   },
   {
    "duration": 187,
    "start_time": "2023-11-16T05:43:51.401Z"
   },
   {
    "duration": 141,
    "start_time": "2023-11-16T05:43:51.590Z"
   },
   {
    "duration": 14,
    "start_time": "2023-11-16T05:43:51.732Z"
   },
   {
    "duration": 274,
    "start_time": "2023-11-16T05:43:51.747Z"
   },
   {
    "duration": 183,
    "start_time": "2023-11-16T05:43:52.023Z"
   },
   {
    "duration": 360,
    "start_time": "2023-11-16T05:43:52.208Z"
   },
   {
    "duration": 191,
    "start_time": "2023-11-16T05:43:52.570Z"
   },
   {
    "duration": 295,
    "start_time": "2023-11-16T05:43:52.763Z"
   },
   {
    "duration": 126,
    "start_time": "2023-11-16T05:43:53.060Z"
   },
   {
    "duration": 6,
    "start_time": "2023-11-16T05:43:53.188Z"
   },
   {
    "duration": 10,
    "start_time": "2023-11-16T05:43:57.319Z"
   },
   {
    "duration": 103,
    "start_time": "2023-11-16T05:45:00.910Z"
   },
   {
    "duration": 12,
    "start_time": "2023-11-16T05:45:14.772Z"
   },
   {
    "duration": 100,
    "start_time": "2023-11-16T05:46:18.109Z"
   },
   {
    "duration": 113,
    "start_time": "2023-11-16T05:47:51.911Z"
   },
   {
    "duration": 10,
    "start_time": "2023-11-16T05:53:17.191Z"
   },
   {
    "duration": 191,
    "start_time": "2023-11-16T05:54:12.433Z"
   },
   {
    "duration": 10,
    "start_time": "2023-11-16T05:54:54.087Z"
   },
   {
    "duration": 10,
    "start_time": "2023-11-16T05:56:03.332Z"
   },
   {
    "duration": 1476,
    "start_time": "2023-11-20T07:29:44.175Z"
   },
   {
    "duration": 61,
    "start_time": "2023-11-20T07:29:45.653Z"
   },
   {
    "duration": 11,
    "start_time": "2023-11-20T07:29:45.716Z"
   },
   {
    "duration": 15,
    "start_time": "2023-11-20T07:29:45.729Z"
   },
   {
    "duration": 36,
    "start_time": "2023-11-20T07:29:45.745Z"
   },
   {
    "duration": 22,
    "start_time": "2023-11-20T07:29:45.782Z"
   },
   {
    "duration": 49,
    "start_time": "2023-11-20T07:29:45.806Z"
   },
   {
    "duration": 15,
    "start_time": "2023-11-20T07:29:45.857Z"
   },
   {
    "duration": 37,
    "start_time": "2023-11-20T07:29:45.875Z"
   },
   {
    "duration": 95,
    "start_time": "2023-11-20T07:29:45.915Z"
   },
   {
    "duration": 10,
    "start_time": "2023-11-20T07:29:46.012Z"
   },
   {
    "duration": 64,
    "start_time": "2023-11-20T07:29:46.024Z"
   },
   {
    "duration": 9,
    "start_time": "2023-11-20T07:29:46.089Z"
   },
   {
    "duration": 11,
    "start_time": "2023-11-20T07:29:46.100Z"
   },
   {
    "duration": 7,
    "start_time": "2023-11-20T07:29:46.112Z"
   },
   {
    "duration": 22,
    "start_time": "2023-11-20T07:29:46.120Z"
   },
   {
    "duration": 59,
    "start_time": "2023-11-20T07:29:46.144Z"
   },
   {
    "duration": 10,
    "start_time": "2023-11-20T07:29:46.204Z"
   },
   {
    "duration": 13,
    "start_time": "2023-11-20T07:29:46.216Z"
   },
   {
    "duration": 7,
    "start_time": "2023-11-20T07:29:46.230Z"
   },
   {
    "duration": 7,
    "start_time": "2023-11-20T07:29:46.239Z"
   },
   {
    "duration": 18,
    "start_time": "2023-11-20T07:29:46.248Z"
   },
   {
    "duration": 17,
    "start_time": "2023-11-20T07:29:46.268Z"
   },
   {
    "duration": 11,
    "start_time": "2023-11-20T07:29:46.287Z"
   },
   {
    "duration": 11,
    "start_time": "2023-11-20T07:29:46.299Z"
   },
   {
    "duration": 11,
    "start_time": "2023-11-20T07:29:46.311Z"
   },
   {
    "duration": 20,
    "start_time": "2023-11-20T07:29:46.323Z"
   },
   {
    "duration": 174,
    "start_time": "2023-11-20T07:29:46.346Z"
   },
   {
    "duration": 118,
    "start_time": "2023-11-20T07:29:46.521Z"
   },
   {
    "duration": 12,
    "start_time": "2023-11-20T07:29:46.641Z"
   },
   {
    "duration": 294,
    "start_time": "2023-11-20T07:29:46.665Z"
   },
   {
    "duration": 215,
    "start_time": "2023-11-20T07:29:46.961Z"
   },
   {
    "duration": 331,
    "start_time": "2023-11-20T07:29:47.177Z"
   },
   {
    "duration": 214,
    "start_time": "2023-11-20T07:29:47.509Z"
   },
   {
    "duration": 343,
    "start_time": "2023-11-20T07:29:47.725Z"
   },
   {
    "duration": 154,
    "start_time": "2023-11-20T07:29:48.070Z"
   },
   {
    "duration": 4,
    "start_time": "2023-11-20T07:29:48.226Z"
   },
   {
    "duration": 146,
    "start_time": "2023-11-20T07:29:48.232Z"
   },
   {
    "duration": 10,
    "start_time": "2023-11-20T07:29:48.379Z"
   },
   {
    "duration": 5,
    "start_time": "2023-11-20T07:30:25.021Z"
   },
   {
    "duration": 1234,
    "start_time": "2023-12-22T04:38:36.214Z"
   },
   {
    "duration": 59,
    "start_time": "2023-12-22T04:38:37.450Z"
   },
   {
    "duration": 11,
    "start_time": "2023-12-22T04:38:37.510Z"
   },
   {
    "duration": 10,
    "start_time": "2023-12-22T04:38:37.523Z"
   },
   {
    "duration": 12,
    "start_time": "2023-12-22T04:38:37.534Z"
   },
   {
    "duration": 5,
    "start_time": "2023-12-22T04:38:37.547Z"
   },
   {
    "duration": 10,
    "start_time": "2023-12-22T04:38:37.554Z"
   },
   {
    "duration": 11,
    "start_time": "2023-12-22T04:38:37.565Z"
   },
   {
    "duration": 12,
    "start_time": "2023-12-22T04:38:37.578Z"
   },
   {
    "duration": 83,
    "start_time": "2023-12-22T04:38:37.594Z"
   },
   {
    "duration": 10,
    "start_time": "2023-12-22T04:38:37.679Z"
   },
   {
    "duration": 18,
    "start_time": "2023-12-22T04:38:37.691Z"
   },
   {
    "duration": 6,
    "start_time": "2023-12-22T04:38:37.710Z"
   },
   {
    "duration": 8,
    "start_time": "2023-12-22T04:38:37.717Z"
   },
   {
    "duration": 6,
    "start_time": "2023-12-22T04:38:37.726Z"
   },
   {
    "duration": 35,
    "start_time": "2023-12-22T04:38:37.733Z"
   },
   {
    "duration": 55,
    "start_time": "2023-12-22T04:38:37.769Z"
   },
   {
    "duration": 9,
    "start_time": "2023-12-22T04:38:37.826Z"
   },
   {
    "duration": 10,
    "start_time": "2023-12-22T04:38:37.836Z"
   },
   {
    "duration": 8,
    "start_time": "2023-12-22T04:38:37.848Z"
   },
   {
    "duration": 7,
    "start_time": "2023-12-22T04:38:37.857Z"
   },
   {
    "duration": 10,
    "start_time": "2023-12-22T04:38:37.866Z"
   },
   {
    "duration": 8,
    "start_time": "2023-12-22T04:38:37.878Z"
   },
   {
    "duration": 7,
    "start_time": "2023-12-22T04:38:37.887Z"
   },
   {
    "duration": 21,
    "start_time": "2023-12-22T04:38:37.895Z"
   },
   {
    "duration": 28,
    "start_time": "2023-12-22T04:38:37.917Z"
   },
   {
    "duration": 6,
    "start_time": "2023-12-22T04:38:37.946Z"
   },
   {
    "duration": 151,
    "start_time": "2023-12-22T04:38:37.956Z"
   },
   {
    "duration": 109,
    "start_time": "2023-12-22T04:38:38.109Z"
   },
   {
    "duration": 12,
    "start_time": "2023-12-22T04:38:38.220Z"
   },
   {
    "duration": 272,
    "start_time": "2023-12-22T04:38:38.233Z"
   },
   {
    "duration": 183,
    "start_time": "2023-12-22T04:38:38.506Z"
   },
   {
    "duration": 330,
    "start_time": "2023-12-22T04:38:38.690Z"
   },
   {
    "duration": 182,
    "start_time": "2023-12-22T04:38:39.022Z"
   },
   {
    "duration": 275,
    "start_time": "2023-12-22T04:38:39.206Z"
   },
   {
    "duration": 137,
    "start_time": "2023-12-22T04:38:39.483Z"
   },
   {
    "duration": 5,
    "start_time": "2023-12-22T04:38:39.621Z"
   },
   {
    "duration": 131,
    "start_time": "2023-12-22T04:38:39.628Z"
   },
   {
    "duration": 13,
    "start_time": "2023-12-22T04:38:39.761Z"
   },
   {
    "duration": 4,
    "start_time": "2023-12-22T04:38:39.775Z"
   },
   {
    "duration": 112,
    "start_time": "2023-12-22T04:38:39.780Z"
   },
   {
    "duration": 14,
    "start_time": "2023-12-22T04:40:37.517Z"
   },
   {
    "duration": 13,
    "start_time": "2023-12-22T04:41:11.626Z"
   },
   {
    "duration": 137,
    "start_time": "2023-12-22T04:42:47.337Z"
   },
   {
    "duration": 12,
    "start_time": "2023-12-22T05:04:28.497Z"
   },
   {
    "duration": 1238,
    "start_time": "2023-12-22T05:04:48.449Z"
   },
   {
    "duration": 140,
    "start_time": "2023-12-22T05:05:47.983Z"
   },
   {
    "duration": 9,
    "start_time": "2023-12-22T05:05:49.350Z"
   },
   {
    "duration": 169,
    "start_time": "2023-12-22T05:13:45.458Z"
   },
   {
    "duration": 108,
    "start_time": "2023-12-22T05:23:47.527Z"
   },
   {
    "duration": 111,
    "start_time": "2023-12-22T05:26:37.582Z"
   },
   {
    "duration": 169,
    "start_time": "2023-12-22T05:30:00.753Z"
   },
   {
    "duration": 231,
    "start_time": "2023-12-22T05:30:26.079Z"
   },
   {
    "duration": 122,
    "start_time": "2023-12-22T05:37:00.999Z"
   },
   {
    "duration": 3,
    "start_time": "2023-12-22T05:37:08.151Z"
   },
   {
    "duration": 63,
    "start_time": "2023-12-22T05:37:08.156Z"
   },
   {
    "duration": 7,
    "start_time": "2023-12-22T05:37:08.220Z"
   },
   {
    "duration": 11,
    "start_time": "2023-12-22T05:37:08.229Z"
   },
   {
    "duration": 11,
    "start_time": "2023-12-22T05:37:08.241Z"
   },
   {
    "duration": 6,
    "start_time": "2023-12-22T05:37:08.253Z"
   },
   {
    "duration": 8,
    "start_time": "2023-12-22T05:37:08.261Z"
   },
   {
    "duration": 52,
    "start_time": "2023-12-22T05:37:08.271Z"
   },
   {
    "duration": 11,
    "start_time": "2023-12-22T05:37:08.326Z"
   },
   {
    "duration": 47,
    "start_time": "2023-12-22T05:37:08.338Z"
   },
   {
    "duration": 12,
    "start_time": "2023-12-22T05:37:08.387Z"
   },
   {
    "duration": 21,
    "start_time": "2023-12-22T05:37:08.400Z"
   },
   {
    "duration": 6,
    "start_time": "2023-12-22T05:37:08.423Z"
   },
   {
    "duration": 17,
    "start_time": "2023-12-22T05:37:08.430Z"
   },
   {
    "duration": 17,
    "start_time": "2023-12-22T05:37:08.449Z"
   },
   {
    "duration": 9,
    "start_time": "2023-12-22T05:37:08.467Z"
   },
   {
    "duration": 22,
    "start_time": "2023-12-22T05:37:08.478Z"
   },
   {
    "duration": 9,
    "start_time": "2023-12-22T05:37:08.501Z"
   },
   {
    "duration": 13,
    "start_time": "2023-12-22T05:37:08.511Z"
   },
   {
    "duration": 14,
    "start_time": "2023-12-22T05:37:08.525Z"
   },
   {
    "duration": 5,
    "start_time": "2023-12-22T05:37:08.540Z"
   },
   {
    "duration": 23,
    "start_time": "2023-12-22T05:37:08.547Z"
   },
   {
    "duration": 10,
    "start_time": "2023-12-22T05:37:08.571Z"
   },
   {
    "duration": 4,
    "start_time": "2023-12-22T05:37:08.584Z"
   },
   {
    "duration": 11,
    "start_time": "2023-12-22T05:37:08.589Z"
   },
   {
    "duration": 9,
    "start_time": "2023-12-22T05:37:08.602Z"
   },
   {
    "duration": 9,
    "start_time": "2023-12-22T05:37:08.612Z"
   },
   {
    "duration": 254,
    "start_time": "2023-12-22T05:37:08.623Z"
   },
   {
    "duration": 139,
    "start_time": "2023-12-22T05:37:08.879Z"
   },
   {
    "duration": 12,
    "start_time": "2023-12-22T05:37:09.019Z"
   },
   {
    "duration": 193,
    "start_time": "2023-12-22T05:37:09.032Z"
   },
   {
    "duration": 184,
    "start_time": "2023-12-22T05:37:09.227Z"
   },
   {
    "duration": 253,
    "start_time": "2023-12-22T05:37:09.412Z"
   },
   {
    "duration": 198,
    "start_time": "2023-12-22T05:37:09.667Z"
   },
   {
    "duration": 301,
    "start_time": "2023-12-22T05:37:09.867Z"
   },
   {
    "duration": 110,
    "start_time": "2023-12-22T05:37:10.170Z"
   },
   {
    "duration": 4,
    "start_time": "2023-12-22T05:37:10.282Z"
   },
   {
    "duration": 122,
    "start_time": "2023-12-22T05:37:10.287Z"
   },
   {
    "duration": 10,
    "start_time": "2023-12-22T05:37:10.410Z"
   },
   {
    "duration": 4,
    "start_time": "2023-12-22T05:37:10.421Z"
   },
   {
    "duration": 219,
    "start_time": "2023-12-22T05:37:10.427Z"
   },
   {
    "duration": 140,
    "start_time": "2023-12-22T05:37:10.647Z"
   },
   {
    "duration": 4,
    "start_time": "2023-12-22T05:37:10.789Z"
   },
   {
    "duration": 1301,
    "start_time": "2023-12-23T04:57:42.549Z"
   },
   {
    "duration": 61,
    "start_time": "2023-12-23T04:57:43.852Z"
   },
   {
    "duration": 10,
    "start_time": "2023-12-23T04:57:43.915Z"
   },
   {
    "duration": 10,
    "start_time": "2023-12-23T04:57:43.927Z"
   },
   {
    "duration": 11,
    "start_time": "2023-12-23T04:57:43.938Z"
   },
   {
    "duration": 4,
    "start_time": "2023-12-23T04:57:43.951Z"
   },
   {
    "duration": 8,
    "start_time": "2023-12-23T04:57:43.957Z"
   },
   {
    "duration": 25,
    "start_time": "2023-12-23T04:57:43.967Z"
   },
   {
    "duration": 24,
    "start_time": "2023-12-23T04:57:43.994Z"
   },
   {
    "duration": 91,
    "start_time": "2023-12-23T04:57:44.021Z"
   },
   {
    "duration": 12,
    "start_time": "2023-12-23T04:57:44.114Z"
   },
   {
    "duration": 18,
    "start_time": "2023-12-23T04:57:44.127Z"
   },
   {
    "duration": 10,
    "start_time": "2023-12-23T04:57:44.147Z"
   },
   {
    "duration": 15,
    "start_time": "2023-12-23T04:57:44.158Z"
   },
   {
    "duration": 20,
    "start_time": "2023-12-23T04:57:44.174Z"
   },
   {
    "duration": 16,
    "start_time": "2023-12-23T04:57:44.196Z"
   },
   {
    "duration": 60,
    "start_time": "2023-12-23T04:57:44.214Z"
   },
   {
    "duration": 10,
    "start_time": "2023-12-23T04:57:44.276Z"
   },
   {
    "duration": 16,
    "start_time": "2023-12-23T04:57:44.287Z"
   },
   {
    "duration": 6,
    "start_time": "2023-12-23T04:57:44.304Z"
   },
   {
    "duration": 5,
    "start_time": "2023-12-23T04:57:44.311Z"
   },
   {
    "duration": 8,
    "start_time": "2023-12-23T04:57:44.318Z"
   },
   {
    "duration": 11,
    "start_time": "2023-12-23T04:57:44.327Z"
   },
   {
    "duration": 28,
    "start_time": "2023-12-23T04:57:44.339Z"
   },
   {
    "duration": 8,
    "start_time": "2023-12-23T04:57:44.369Z"
   },
   {
    "duration": 12,
    "start_time": "2023-12-23T04:57:44.378Z"
   },
   {
    "duration": 7,
    "start_time": "2023-12-23T04:57:44.391Z"
   },
   {
    "duration": 170,
    "start_time": "2023-12-23T04:57:44.400Z"
   },
   {
    "duration": 127,
    "start_time": "2023-12-23T04:57:44.571Z"
   },
   {
    "duration": 12,
    "start_time": "2023-12-23T04:57:44.699Z"
   },
   {
    "duration": 278,
    "start_time": "2023-12-23T04:57:44.712Z"
   },
   {
    "duration": 187,
    "start_time": "2023-12-23T04:57:44.992Z"
   },
   {
    "duration": 312,
    "start_time": "2023-12-23T04:57:45.181Z"
   },
   {
    "duration": 191,
    "start_time": "2023-12-23T04:57:45.495Z"
   },
   {
    "duration": 327,
    "start_time": "2023-12-23T04:57:45.687Z"
   },
   {
    "duration": 157,
    "start_time": "2023-12-23T04:57:46.015Z"
   },
   {
    "duration": 5,
    "start_time": "2023-12-23T04:57:46.174Z"
   },
   {
    "duration": 190,
    "start_time": "2023-12-23T04:57:46.180Z"
   },
   {
    "duration": 10,
    "start_time": "2023-12-23T04:57:46.371Z"
   },
   {
    "duration": 26,
    "start_time": "2023-12-23T04:57:46.382Z"
   },
   {
    "duration": 203,
    "start_time": "2023-12-23T04:57:46.410Z"
   },
   {
    "duration": 140,
    "start_time": "2023-12-23T04:57:46.615Z"
   },
   {
    "duration": 10,
    "start_time": "2023-12-23T04:57:46.757Z"
   },
   {
    "duration": 10,
    "start_time": "2023-12-23T04:58:15.924Z"
   },
   {
    "duration": 6,
    "start_time": "2023-12-23T05:01:21.611Z"
   },
   {
    "duration": 101,
    "start_time": "2023-12-23T05:19:01.874Z"
   },
   {
    "duration": 174,
    "start_time": "2023-12-23T05:20:41.809Z"
   },
   {
    "duration": 179,
    "start_time": "2023-12-23T05:22:04.746Z"
   },
   {
    "duration": 1346,
    "start_time": "2023-12-23T17:21:04.964Z"
   },
   {
    "duration": 64,
    "start_time": "2023-12-23T17:21:06.312Z"
   },
   {
    "duration": 11,
    "start_time": "2023-12-23T17:21:06.377Z"
   },
   {
    "duration": 34,
    "start_time": "2023-12-23T17:21:06.389Z"
   },
   {
    "duration": 21,
    "start_time": "2023-12-23T17:21:06.424Z"
   },
   {
    "duration": 7,
    "start_time": "2023-12-23T17:21:06.447Z"
   },
   {
    "duration": 24,
    "start_time": "2023-12-23T17:21:06.455Z"
   },
   {
    "duration": 11,
    "start_time": "2023-12-23T17:21:06.480Z"
   },
   {
    "duration": 17,
    "start_time": "2023-12-23T17:21:06.493Z"
   },
   {
    "duration": 71,
    "start_time": "2023-12-23T17:21:06.512Z"
   },
   {
    "duration": 9,
    "start_time": "2023-12-23T17:21:06.585Z"
   },
   {
    "duration": 44,
    "start_time": "2023-12-23T17:21:06.595Z"
   },
   {
    "duration": 19,
    "start_time": "2023-12-23T17:21:06.641Z"
   },
   {
    "duration": 7,
    "start_time": "2023-12-23T17:21:06.662Z"
   },
   {
    "duration": 19,
    "start_time": "2023-12-23T17:21:06.670Z"
   },
   {
    "duration": 9,
    "start_time": "2023-12-23T17:21:06.691Z"
   },
   {
    "duration": 62,
    "start_time": "2023-12-23T17:21:06.701Z"
   },
   {
    "duration": 9,
    "start_time": "2023-12-23T17:21:06.764Z"
   },
   {
    "duration": 14,
    "start_time": "2023-12-23T17:21:06.774Z"
   },
   {
    "duration": 11,
    "start_time": "2023-12-23T17:21:06.790Z"
   },
   {
    "duration": 16,
    "start_time": "2023-12-23T17:21:06.803Z"
   },
   {
    "duration": 26,
    "start_time": "2023-12-23T17:21:06.821Z"
   },
   {
    "duration": 15,
    "start_time": "2023-12-23T17:21:06.848Z"
   },
   {
    "duration": 15,
    "start_time": "2023-12-23T17:21:06.864Z"
   },
   {
    "duration": 9,
    "start_time": "2023-12-23T17:21:06.881Z"
   },
   {
    "duration": 7,
    "start_time": "2023-12-23T17:21:06.891Z"
   },
   {
    "duration": 14,
    "start_time": "2023-12-23T17:21:06.900Z"
   },
   {
    "duration": 153,
    "start_time": "2023-12-23T17:21:06.917Z"
   },
   {
    "duration": 133,
    "start_time": "2023-12-23T17:21:07.072Z"
   },
   {
    "duration": 12,
    "start_time": "2023-12-23T17:21:07.206Z"
   },
   {
    "duration": 273,
    "start_time": "2023-12-23T17:21:07.220Z"
   },
   {
    "duration": 176,
    "start_time": "2023-12-23T17:21:07.494Z"
   },
   {
    "duration": 353,
    "start_time": "2023-12-23T17:21:07.672Z"
   },
   {
    "duration": 192,
    "start_time": "2023-12-23T17:21:08.027Z"
   },
   {
    "duration": 304,
    "start_time": "2023-12-23T17:21:08.221Z"
   },
   {
    "duration": 125,
    "start_time": "2023-12-23T17:21:08.526Z"
   },
   {
    "duration": 4,
    "start_time": "2023-12-23T17:21:08.653Z"
   },
   {
    "duration": 156,
    "start_time": "2023-12-23T17:21:08.659Z"
   },
   {
    "duration": 10,
    "start_time": "2023-12-23T17:21:08.816Z"
   },
   {
    "duration": 16,
    "start_time": "2023-12-23T17:21:08.827Z"
   },
   {
    "duration": 213,
    "start_time": "2023-12-23T17:21:08.845Z"
   },
   {
    "duration": 122,
    "start_time": "2023-12-23T17:21:09.059Z"
   },
   {
    "duration": 6,
    "start_time": "2023-12-23T17:21:09.183Z"
   },
   {
    "duration": 154,
    "start_time": "2023-12-23T17:21:09.190Z"
   },
   {
    "duration": 49,
    "start_time": "2023-12-23T17:21:11.835Z"
   },
   {
    "duration": 92,
    "start_time": "2023-12-23T17:21:35.546Z"
   },
   {
    "duration": 741,
    "start_time": "2023-12-23T17:23:12.632Z"
   },
   {
    "duration": 795,
    "start_time": "2023-12-23T17:23:29.327Z"
   },
   {
    "duration": 713,
    "start_time": "2023-12-23T17:23:46.599Z"
   },
   {
    "duration": 635,
    "start_time": "2023-12-23T17:24:28.217Z"
   },
   {
    "duration": 717,
    "start_time": "2023-12-23T17:24:54.563Z"
   },
   {
    "duration": 682,
    "start_time": "2023-12-23T17:25:18.207Z"
   },
   {
    "duration": 3,
    "start_time": "2023-12-23T17:25:55.394Z"
   },
   {
    "duration": 32,
    "start_time": "2023-12-23T17:25:55.399Z"
   },
   {
    "duration": 7,
    "start_time": "2023-12-23T17:25:55.432Z"
   },
   {
    "duration": 22,
    "start_time": "2023-12-23T17:25:55.440Z"
   },
   {
    "duration": 6,
    "start_time": "2023-12-23T17:25:55.464Z"
   },
   {
    "duration": 5,
    "start_time": "2023-12-23T17:25:55.472Z"
   },
   {
    "duration": 18,
    "start_time": "2023-12-23T17:25:55.478Z"
   },
   {
    "duration": 10,
    "start_time": "2023-12-23T17:25:55.498Z"
   },
   {
    "duration": 11,
    "start_time": "2023-12-23T17:25:55.509Z"
   },
   {
    "duration": 42,
    "start_time": "2023-12-23T17:25:55.522Z"
   },
   {
    "duration": 10,
    "start_time": "2023-12-23T17:25:55.566Z"
   },
   {
    "duration": 26,
    "start_time": "2023-12-23T17:25:55.577Z"
   },
   {
    "duration": 5,
    "start_time": "2023-12-23T17:25:55.605Z"
   },
   {
    "duration": 15,
    "start_time": "2023-12-23T17:25:55.612Z"
   },
   {
    "duration": 6,
    "start_time": "2023-12-23T17:25:55.628Z"
   },
   {
    "duration": 6,
    "start_time": "2023-12-23T17:25:55.636Z"
   },
   {
    "duration": 18,
    "start_time": "2023-12-23T17:25:55.644Z"
   },
   {
    "duration": 9,
    "start_time": "2023-12-23T17:25:55.664Z"
   },
   {
    "duration": 13,
    "start_time": "2023-12-23T17:25:55.699Z"
   },
   {
    "duration": 18,
    "start_time": "2023-12-23T17:25:55.714Z"
   },
   {
    "duration": 11,
    "start_time": "2023-12-23T17:25:55.733Z"
   },
   {
    "duration": 12,
    "start_time": "2023-12-23T17:25:55.746Z"
   },
   {
    "duration": 9,
    "start_time": "2023-12-23T17:25:55.760Z"
   },
   {
    "duration": 6,
    "start_time": "2023-12-23T17:25:55.770Z"
   },
   {
    "duration": 8,
    "start_time": "2023-12-23T17:25:55.777Z"
   },
   {
    "duration": 7,
    "start_time": "2023-12-23T17:25:55.799Z"
   },
   {
    "duration": 18,
    "start_time": "2023-12-23T17:25:55.808Z"
   },
   {
    "duration": 153,
    "start_time": "2023-12-23T17:25:55.828Z"
   },
   {
    "duration": 123,
    "start_time": "2023-12-23T17:25:55.982Z"
   },
   {
    "duration": 11,
    "start_time": "2023-12-23T17:25:56.106Z"
   },
   {
    "duration": 264,
    "start_time": "2023-12-23T17:25:56.118Z"
   },
   {
    "duration": 175,
    "start_time": "2023-12-23T17:25:56.383Z"
   },
   {
    "duration": 272,
    "start_time": "2023-12-23T17:25:56.559Z"
   },
   {
    "duration": 187,
    "start_time": "2023-12-23T17:25:56.833Z"
   },
   {
    "duration": 285,
    "start_time": "2023-12-23T17:25:57.021Z"
   },
   {
    "duration": 120,
    "start_time": "2023-12-23T17:25:57.309Z"
   },
   {
    "duration": 4,
    "start_time": "2023-12-23T17:25:57.431Z"
   },
   {
    "duration": 130,
    "start_time": "2023-12-23T17:25:57.436Z"
   },
   {
    "duration": 9,
    "start_time": "2023-12-23T17:25:57.567Z"
   },
   {
    "duration": 6,
    "start_time": "2023-12-23T17:25:57.577Z"
   },
   {
    "duration": 209,
    "start_time": "2023-12-23T17:25:57.599Z"
   },
   {
    "duration": 121,
    "start_time": "2023-12-23T17:25:57.809Z"
   },
   {
    "duration": 6,
    "start_time": "2023-12-23T17:25:57.931Z"
   },
   {
    "duration": 162,
    "start_time": "2023-12-23T17:25:57.938Z"
   },
   {
    "duration": 10,
    "start_time": "2023-12-23T17:26:04.033Z"
   },
   {
    "duration": 11,
    "start_time": "2023-12-23T17:26:53.352Z"
   },
   {
    "duration": 6,
    "start_time": "2023-12-23T17:27:26.186Z"
   },
   {
    "duration": 6,
    "start_time": "2023-12-23T17:27:34.346Z"
   },
   {
    "duration": 7,
    "start_time": "2023-12-23T17:27:47.856Z"
   },
   {
    "duration": 10,
    "start_time": "2023-12-23T17:27:51.369Z"
   },
   {
    "duration": 7,
    "start_time": "2023-12-23T17:28:19.911Z"
   },
   {
    "duration": 4,
    "start_time": "2023-12-23T17:28:25.877Z"
   },
   {
    "duration": 766,
    "start_time": "2023-12-23T17:28:56.125Z"
   },
   {
    "duration": 4,
    "start_time": "2023-12-23T17:29:31.402Z"
   },
   {
    "duration": 4,
    "start_time": "2023-12-23T17:29:58.405Z"
   },
   {
    "duration": 4,
    "start_time": "2023-12-23T17:30:23.768Z"
   },
   {
    "duration": 10,
    "start_time": "2023-12-23T17:30:32.655Z"
   },
   {
    "duration": 8,
    "start_time": "2023-12-23T17:33:42.041Z"
   },
   {
    "duration": 6,
    "start_time": "2023-12-23T17:33:46.111Z"
   },
   {
    "duration": 10,
    "start_time": "2023-12-23T17:34:27.510Z"
   },
   {
    "duration": 6,
    "start_time": "2023-12-23T17:36:21.288Z"
   },
   {
    "duration": 8,
    "start_time": "2023-12-23T17:36:29.175Z"
   },
   {
    "duration": 9,
    "start_time": "2023-12-23T17:36:50.161Z"
   },
   {
    "duration": 8,
    "start_time": "2023-12-23T17:37:06.316Z"
   },
   {
    "duration": 9,
    "start_time": "2023-12-23T17:37:13.687Z"
   },
   {
    "duration": 8,
    "start_time": "2023-12-23T17:43:06.111Z"
   },
   {
    "duration": 10,
    "start_time": "2023-12-23T17:44:03.798Z"
   },
   {
    "duration": 32,
    "start_time": "2023-12-23T17:44:13.541Z"
   },
   {
    "duration": 23,
    "start_time": "2023-12-23T17:44:46.852Z"
   },
   {
    "duration": 4,
    "start_time": "2023-12-23T17:44:53.664Z"
   },
   {
    "duration": 24,
    "start_time": "2023-12-23T17:45:39.375Z"
   },
   {
    "duration": 12,
    "start_time": "2023-12-23T17:52:52.022Z"
   },
   {
    "duration": 719,
    "start_time": "2023-12-23T17:53:19.842Z"
   },
   {
    "duration": 60,
    "start_time": "2023-12-23T17:54:13.752Z"
   },
   {
    "duration": 15,
    "start_time": "2023-12-23T17:54:35.058Z"
   },
   {
    "duration": 3,
    "start_time": "2023-12-23T18:02:42.360Z"
   },
   {
    "duration": 30,
    "start_time": "2023-12-23T18:02:42.366Z"
   },
   {
    "duration": 7,
    "start_time": "2023-12-23T18:02:42.398Z"
   },
   {
    "duration": 22,
    "start_time": "2023-12-23T18:02:42.407Z"
   },
   {
    "duration": 8,
    "start_time": "2023-12-23T18:02:42.431Z"
   },
   {
    "duration": 6,
    "start_time": "2023-12-23T18:02:42.440Z"
   },
   {
    "duration": 11,
    "start_time": "2023-12-23T18:02:42.448Z"
   },
   {
    "duration": 16,
    "start_time": "2023-12-23T18:02:42.460Z"
   },
   {
    "duration": 13,
    "start_time": "2023-12-23T18:02:42.500Z"
   },
   {
    "duration": 42,
    "start_time": "2023-12-23T18:02:42.515Z"
   },
   {
    "duration": 9,
    "start_time": "2023-12-23T18:02:42.561Z"
   },
   {
    "duration": 21,
    "start_time": "2023-12-23T18:02:42.572Z"
   },
   {
    "duration": 7,
    "start_time": "2023-12-23T18:02:42.599Z"
   },
   {
    "duration": 18,
    "start_time": "2023-12-23T18:02:42.608Z"
   },
   {
    "duration": 5,
    "start_time": "2023-12-23T18:02:42.628Z"
   },
   {
    "duration": 7,
    "start_time": "2023-12-23T18:02:42.635Z"
   },
   {
    "duration": 31,
    "start_time": "2023-12-23T18:02:42.643Z"
   },
   {
    "duration": 9,
    "start_time": "2023-12-23T18:02:42.675Z"
   },
   {
    "duration": 19,
    "start_time": "2023-12-23T18:02:42.686Z"
   },
   {
    "duration": 20,
    "start_time": "2023-12-23T18:02:42.707Z"
   },
   {
    "duration": 5,
    "start_time": "2023-12-23T18:02:42.728Z"
   },
   {
    "duration": 10,
    "start_time": "2023-12-23T18:02:42.735Z"
   },
   {
    "duration": 12,
    "start_time": "2023-12-23T18:02:42.746Z"
   },
   {
    "duration": 5,
    "start_time": "2023-12-23T18:02:42.760Z"
   },
   {
    "duration": 9,
    "start_time": "2023-12-23T18:02:42.767Z"
   },
   {
    "duration": 24,
    "start_time": "2023-12-23T18:02:42.778Z"
   },
   {
    "duration": 6,
    "start_time": "2023-12-23T18:02:42.803Z"
   },
   {
    "duration": 172,
    "start_time": "2023-12-23T18:02:42.811Z"
   },
   {
    "duration": 122,
    "start_time": "2023-12-23T18:02:42.987Z"
   },
   {
    "duration": 12,
    "start_time": "2023-12-23T18:02:43.111Z"
   },
   {
    "duration": 198,
    "start_time": "2023-12-23T18:02:43.125Z"
   },
   {
    "duration": 189,
    "start_time": "2023-12-23T18:02:43.325Z"
   },
   {
    "duration": 276,
    "start_time": "2023-12-23T18:02:43.515Z"
   },
   {
    "duration": 206,
    "start_time": "2023-12-23T18:02:43.793Z"
   },
   {
    "duration": 318,
    "start_time": "2023-12-23T18:02:44.001Z"
   },
   {
    "duration": 229,
    "start_time": "2023-12-23T18:02:44.321Z"
   },
   {
    "duration": 5,
    "start_time": "2023-12-23T18:02:44.551Z"
   },
   {
    "duration": 140,
    "start_time": "2023-12-23T18:02:44.558Z"
   },
   {
    "duration": 10,
    "start_time": "2023-12-23T18:02:44.700Z"
   },
   {
    "duration": 5,
    "start_time": "2023-12-23T18:02:44.711Z"
   },
   {
    "duration": 216,
    "start_time": "2023-12-23T18:02:44.718Z"
   },
   {
    "duration": 128,
    "start_time": "2023-12-23T18:02:44.935Z"
   },
   {
    "duration": 8,
    "start_time": "2023-12-23T18:02:45.064Z"
   },
   {
    "duration": 175,
    "start_time": "2023-12-23T18:02:45.073Z"
   },
   {
    "duration": 9,
    "start_time": "2023-12-23T18:02:45.250Z"
   },
   {
    "duration": 11,
    "start_time": "2023-12-23T18:02:45.260Z"
   },
   {
    "duration": 27,
    "start_time": "2023-12-23T18:02:45.272Z"
   },
   {
    "duration": 26,
    "start_time": "2023-12-23T18:02:45.302Z"
   },
   {
    "duration": 13,
    "start_time": "2023-12-23T18:02:45.330Z"
   },
   {
    "duration": 1269,
    "start_time": "2023-12-24T10:13:16.275Z"
   },
   {
    "duration": 55,
    "start_time": "2023-12-24T10:13:17.545Z"
   },
   {
    "duration": 11,
    "start_time": "2023-12-24T10:13:17.601Z"
   },
   {
    "duration": 14,
    "start_time": "2023-12-24T10:13:17.613Z"
   },
   {
    "duration": 9,
    "start_time": "2023-12-24T10:13:17.628Z"
   },
   {
    "duration": 8,
    "start_time": "2023-12-24T10:13:17.638Z"
   },
   {
    "duration": 7,
    "start_time": "2023-12-24T10:13:17.647Z"
   },
   {
    "duration": 11,
    "start_time": "2023-12-24T10:13:17.655Z"
   },
   {
    "duration": 23,
    "start_time": "2023-12-24T10:13:17.667Z"
   },
   {
    "duration": 81,
    "start_time": "2023-12-24T10:13:17.692Z"
   },
   {
    "duration": 9,
    "start_time": "2023-12-24T10:13:17.775Z"
   },
   {
    "duration": 25,
    "start_time": "2023-12-24T10:13:17.786Z"
   },
   {
    "duration": 16,
    "start_time": "2023-12-24T10:13:17.812Z"
   },
   {
    "duration": 8,
    "start_time": "2023-12-24T10:13:17.830Z"
   },
   {
    "duration": 24,
    "start_time": "2023-12-24T10:13:17.839Z"
   },
   {
    "duration": 17,
    "start_time": "2023-12-24T10:13:17.865Z"
   },
   {
    "duration": 53,
    "start_time": "2023-12-24T10:13:17.884Z"
   },
   {
    "duration": 9,
    "start_time": "2023-12-24T10:13:17.939Z"
   },
   {
    "duration": 27,
    "start_time": "2023-12-24T10:13:17.950Z"
   },
   {
    "duration": 13,
    "start_time": "2023-12-24T10:13:17.979Z"
   },
   {
    "duration": 6,
    "start_time": "2023-12-24T10:13:17.994Z"
   },
   {
    "duration": 15,
    "start_time": "2023-12-24T10:13:18.002Z"
   },
   {
    "duration": 17,
    "start_time": "2023-12-24T10:13:18.019Z"
   },
   {
    "duration": 8,
    "start_time": "2023-12-24T10:13:18.038Z"
   },
   {
    "duration": 32,
    "start_time": "2023-12-24T10:13:18.048Z"
   },
   {
    "duration": 10,
    "start_time": "2023-12-24T10:13:18.082Z"
   },
   {
    "duration": 12,
    "start_time": "2023-12-24T10:13:18.094Z"
   },
   {
    "duration": 153,
    "start_time": "2023-12-24T10:13:18.111Z"
   },
   {
    "duration": 117,
    "start_time": "2023-12-24T10:13:18.265Z"
   },
   {
    "duration": 12,
    "start_time": "2023-12-24T10:13:18.384Z"
   },
   {
    "duration": 267,
    "start_time": "2023-12-24T10:13:18.398Z"
   },
   {
    "duration": 176,
    "start_time": "2023-12-24T10:13:18.667Z"
   },
   {
    "duration": 342,
    "start_time": "2023-12-24T10:13:18.845Z"
   },
   {
    "duration": 188,
    "start_time": "2023-12-24T10:13:19.188Z"
   },
   {
    "duration": 292,
    "start_time": "2023-12-24T10:13:19.377Z"
   },
   {
    "duration": 126,
    "start_time": "2023-12-24T10:13:19.671Z"
   },
   {
    "duration": 4,
    "start_time": "2023-12-24T10:13:19.798Z"
   },
   {
    "duration": 126,
    "start_time": "2023-12-24T10:13:19.803Z"
   },
   {
    "duration": 9,
    "start_time": "2023-12-24T10:13:19.930Z"
   },
   {
    "duration": 4,
    "start_time": "2023-12-24T10:13:19.940Z"
   },
   {
    "duration": 237,
    "start_time": "2023-12-24T10:13:19.946Z"
   },
   {
    "duration": 146,
    "start_time": "2023-12-24T10:13:20.185Z"
   },
   {
    "duration": 6,
    "start_time": "2023-12-24T10:13:20.332Z"
   },
   {
    "duration": 163,
    "start_time": "2023-12-24T10:13:20.340Z"
   },
   {
    "duration": 98,
    "start_time": "2023-12-24T10:13:20.505Z"
   },
   {
    "duration": 0,
    "start_time": "2023-12-24T10:13:20.605Z"
   },
   {
    "duration": 0,
    "start_time": "2023-12-24T10:13:20.606Z"
   },
   {
    "duration": 0,
    "start_time": "2023-12-24T10:13:20.607Z"
   },
   {
    "duration": 0,
    "start_time": "2023-12-24T10:13:20.608Z"
   },
   {
    "duration": 0,
    "start_time": "2023-12-24T10:13:20.609Z"
   },
   {
    "duration": 11,
    "start_time": "2023-12-24T10:16:52.918Z"
   },
   {
    "duration": 8,
    "start_time": "2023-12-24T10:17:13.226Z"
   },
   {
    "duration": 15,
    "start_time": "2023-12-24T10:17:13.236Z"
   },
   {
    "duration": 8,
    "start_time": "2023-12-24T10:17:13.253Z"
   },
   {
    "duration": 32,
    "start_time": "2023-12-24T10:17:13.262Z"
   },
   {
    "duration": 13,
    "start_time": "2023-12-24T10:17:13.296Z"
   },
   {
    "duration": 168,
    "start_time": "2023-12-24T10:44:43.890Z"
   },
   {
    "duration": 357,
    "start_time": "2023-12-24T10:45:43.952Z"
   },
   {
    "duration": 3,
    "start_time": "2023-12-24T10:47:28.191Z"
   },
   {
    "duration": 28,
    "start_time": "2023-12-24T10:47:28.196Z"
   },
   {
    "duration": 7,
    "start_time": "2023-12-24T10:47:28.226Z"
   },
   {
    "duration": 31,
    "start_time": "2023-12-24T10:47:28.235Z"
   },
   {
    "duration": 7,
    "start_time": "2023-12-24T10:47:28.268Z"
   },
   {
    "duration": 9,
    "start_time": "2023-12-24T10:47:28.277Z"
   },
   {
    "duration": 14,
    "start_time": "2023-12-24T10:47:28.287Z"
   },
   {
    "duration": 13,
    "start_time": "2023-12-24T10:47:28.303Z"
   },
   {
    "duration": 16,
    "start_time": "2023-12-24T10:47:28.318Z"
   },
   {
    "duration": 41,
    "start_time": "2023-12-24T10:47:28.393Z"
   },
   {
    "duration": 10,
    "start_time": "2023-12-24T10:47:28.437Z"
   },
   {
    "duration": 18,
    "start_time": "2023-12-24T10:47:28.449Z"
   },
   {
    "duration": 11,
    "start_time": "2023-12-24T10:47:28.468Z"
   },
   {
    "duration": 6,
    "start_time": "2023-12-24T10:47:28.481Z"
   },
   {
    "duration": 6,
    "start_time": "2023-12-24T10:47:28.488Z"
   },
   {
    "duration": 7,
    "start_time": "2023-12-24T10:47:28.495Z"
   },
   {
    "duration": 20,
    "start_time": "2023-12-24T10:47:28.503Z"
   },
   {
    "duration": 9,
    "start_time": "2023-12-24T10:47:28.841Z"
   },
   {
    "duration": 25,
    "start_time": "2023-12-24T10:47:28.852Z"
   },
   {
    "duration": 6,
    "start_time": "2023-12-24T10:47:28.878Z"
   },
   {
    "duration": 15,
    "start_time": "2023-12-24T10:47:28.886Z"
   },
   {
    "duration": 12,
    "start_time": "2023-12-24T10:47:28.903Z"
   },
   {
    "duration": 9,
    "start_time": "2023-12-24T10:47:28.917Z"
   },
   {
    "duration": 7,
    "start_time": "2023-12-24T10:47:28.928Z"
   },
   {
    "duration": 12,
    "start_time": "2023-12-24T10:47:28.936Z"
   },
   {
    "duration": 18,
    "start_time": "2023-12-24T10:47:28.950Z"
   },
   {
    "duration": 16,
    "start_time": "2023-12-24T10:47:28.970Z"
   },
   {
    "duration": 166,
    "start_time": "2023-12-24T10:47:28.988Z"
   },
   {
    "duration": 116,
    "start_time": "2023-12-24T10:47:29.155Z"
   },
   {
    "duration": 12,
    "start_time": "2023-12-24T10:47:29.272Z"
   },
   {
    "duration": 205,
    "start_time": "2023-12-24T10:47:29.286Z"
   },
   {
    "duration": 200,
    "start_time": "2023-12-24T10:47:29.493Z"
   },
   {
    "duration": 274,
    "start_time": "2023-12-24T10:47:29.695Z"
   },
   {
    "duration": 204,
    "start_time": "2023-12-24T10:47:29.970Z"
   },
   {
    "duration": 309,
    "start_time": "2023-12-24T10:47:30.175Z"
   },
   {
    "duration": 125,
    "start_time": "2023-12-24T10:47:30.485Z"
   },
   {
    "duration": 4,
    "start_time": "2023-12-24T10:47:30.612Z"
   },
   {
    "duration": 157,
    "start_time": "2023-12-24T10:47:30.617Z"
   },
   {
    "duration": 10,
    "start_time": "2023-12-24T10:47:30.775Z"
   },
   {
    "duration": 73,
    "start_time": "2023-12-24T10:47:30.787Z"
   },
   {
    "duration": 228,
    "start_time": "2023-12-24T10:47:30.862Z"
   },
   {
    "duration": 138,
    "start_time": "2023-12-24T10:47:31.092Z"
   },
   {
    "duration": 5,
    "start_time": "2023-12-24T10:47:31.232Z"
   },
   {
    "duration": 191,
    "start_time": "2023-12-24T10:47:31.239Z"
   },
   {
    "duration": 10,
    "start_time": "2023-12-24T10:47:31.431Z"
   },
   {
    "duration": 38,
    "start_time": "2023-12-24T10:47:31.442Z"
   },
   {
    "duration": 38,
    "start_time": "2023-12-24T10:47:31.482Z"
   },
   {
    "duration": 105,
    "start_time": "2023-12-24T10:47:31.521Z"
   },
   {
    "duration": 109,
    "start_time": "2023-12-24T10:47:31.628Z"
   },
   {
    "duration": 65,
    "start_time": "2023-12-24T10:47:31.738Z"
   },
   {
    "duration": 0,
    "start_time": "2023-12-24T10:47:31.804Z"
   },
   {
    "duration": 0,
    "start_time": "2023-12-24T10:47:31.806Z"
   },
   {
    "duration": 74,
    "start_time": "2023-12-24T10:48:02.780Z"
   },
   {
    "duration": 14,
    "start_time": "2023-12-24T10:48:33.770Z"
   },
   {
    "duration": 70,
    "start_time": "2023-12-24T10:48:38.024Z"
   },
   {
    "duration": 0,
    "start_time": "2023-12-24T10:48:38.095Z"
   },
   {
    "duration": 72,
    "start_time": "2023-12-24T10:48:47.644Z"
   },
   {
    "duration": 119,
    "start_time": "2023-12-24T10:50:27.207Z"
   },
   {
    "duration": 2,
    "start_time": "2023-12-24T10:50:58.276Z"
   },
   {
    "duration": 39,
    "start_time": "2023-12-24T10:50:58.283Z"
   },
   {
    "duration": 7,
    "start_time": "2023-12-24T10:50:58.323Z"
   },
   {
    "duration": 15,
    "start_time": "2023-12-24T10:50:58.332Z"
   },
   {
    "duration": 19,
    "start_time": "2023-12-24T10:50:58.349Z"
   },
   {
    "duration": 15,
    "start_time": "2023-12-24T10:50:58.369Z"
   },
   {
    "duration": 13,
    "start_time": "2023-12-24T10:50:58.385Z"
   },
   {
    "duration": 12,
    "start_time": "2023-12-24T10:50:58.400Z"
   },
   {
    "duration": 21,
    "start_time": "2023-12-24T10:50:58.414Z"
   },
   {
    "duration": 40,
    "start_time": "2023-12-24T10:50:58.436Z"
   },
   {
    "duration": 9,
    "start_time": "2023-12-24T10:50:58.478Z"
   },
   {
    "duration": 17,
    "start_time": "2023-12-24T10:50:58.489Z"
   },
   {
    "duration": 4,
    "start_time": "2023-12-24T10:50:58.508Z"
   },
   {
    "duration": 12,
    "start_time": "2023-12-24T10:50:58.513Z"
   },
   {
    "duration": 7,
    "start_time": "2023-12-24T10:50:58.527Z"
   },
   {
    "duration": 7,
    "start_time": "2023-12-24T10:50:58.535Z"
   },
   {
    "duration": 39,
    "start_time": "2023-12-24T10:50:58.543Z"
   },
   {
    "duration": 27,
    "start_time": "2023-12-24T10:50:58.584Z"
   },
   {
    "duration": 33,
    "start_time": "2023-12-24T10:50:58.612Z"
   },
   {
    "duration": 31,
    "start_time": "2023-12-24T10:50:58.647Z"
   },
   {
    "duration": 5,
    "start_time": "2023-12-24T10:50:58.680Z"
   },
   {
    "duration": 10,
    "start_time": "2023-12-24T10:50:58.686Z"
   },
   {
    "duration": 10,
    "start_time": "2023-12-24T10:50:58.697Z"
   },
   {
    "duration": 6,
    "start_time": "2023-12-24T10:50:58.708Z"
   },
   {
    "duration": 28,
    "start_time": "2023-12-24T10:50:58.716Z"
   },
   {
    "duration": 10,
    "start_time": "2023-12-24T10:50:58.748Z"
   },
   {
    "duration": 17,
    "start_time": "2023-12-24T10:50:58.765Z"
   },
   {
    "duration": 168,
    "start_time": "2023-12-24T10:50:58.783Z"
   },
   {
    "duration": 126,
    "start_time": "2023-12-24T10:50:58.952Z"
   },
   {
    "duration": 12,
    "start_time": "2023-12-24T10:50:59.080Z"
   },
   {
    "duration": 197,
    "start_time": "2023-12-24T10:50:59.093Z"
   },
   {
    "duration": 194,
    "start_time": "2023-12-24T10:50:59.292Z"
   },
   {
    "duration": 278,
    "start_time": "2023-12-24T10:50:59.487Z"
   },
   {
    "duration": 279,
    "start_time": "2023-12-24T10:50:59.767Z"
   },
   {
    "duration": 329,
    "start_time": "2023-12-24T10:51:00.048Z"
   },
   {
    "duration": 137,
    "start_time": "2023-12-24T10:51:00.379Z"
   },
   {
    "duration": 5,
    "start_time": "2023-12-24T10:51:00.517Z"
   },
   {
    "duration": 208,
    "start_time": "2023-12-24T10:51:00.523Z"
   },
   {
    "duration": 9,
    "start_time": "2023-12-24T10:51:00.733Z"
   },
   {
    "duration": 26,
    "start_time": "2023-12-24T10:51:00.744Z"
   },
   {
    "duration": 234,
    "start_time": "2023-12-24T10:51:00.771Z"
   },
   {
    "duration": 144,
    "start_time": "2023-12-24T10:51:01.008Z"
   },
   {
    "duration": 15,
    "start_time": "2023-12-24T10:51:01.154Z"
   },
   {
    "duration": 189,
    "start_time": "2023-12-24T10:51:01.170Z"
   },
   {
    "duration": 13,
    "start_time": "2023-12-24T10:51:01.361Z"
   },
   {
    "duration": 48,
    "start_time": "2023-12-24T10:51:01.376Z"
   },
   {
    "duration": 47,
    "start_time": "2023-12-24T10:51:01.426Z"
   },
   {
    "duration": 96,
    "start_time": "2023-12-24T10:51:01.475Z"
   },
   {
    "duration": 49,
    "start_time": "2023-12-24T10:51:01.572Z"
   },
   {
    "duration": 31,
    "start_time": "2023-12-24T10:51:01.623Z"
   },
   {
    "duration": 4,
    "start_time": "2023-12-24T11:19:04.100Z"
   },
   {
    "duration": 31,
    "start_time": "2023-12-24T11:19:04.105Z"
   },
   {
    "duration": 7,
    "start_time": "2023-12-24T11:19:04.138Z"
   },
   {
    "duration": 36,
    "start_time": "2023-12-24T11:19:04.146Z"
   },
   {
    "duration": 24,
    "start_time": "2023-12-24T11:19:04.184Z"
   },
   {
    "duration": 8,
    "start_time": "2023-12-24T11:19:04.209Z"
   },
   {
    "duration": 10,
    "start_time": "2023-12-24T11:19:04.218Z"
   },
   {
    "duration": 13,
    "start_time": "2023-12-24T11:19:04.230Z"
   },
   {
    "duration": 27,
    "start_time": "2023-12-24T11:19:04.244Z"
   },
   {
    "duration": 73,
    "start_time": "2023-12-24T11:19:04.273Z"
   },
   {
    "duration": 9,
    "start_time": "2023-12-24T11:19:04.349Z"
   },
   {
    "duration": 51,
    "start_time": "2023-12-24T11:19:04.359Z"
   },
   {
    "duration": 24,
    "start_time": "2023-12-24T11:19:04.411Z"
   },
   {
    "duration": 29,
    "start_time": "2023-12-24T11:19:04.436Z"
   },
   {
    "duration": 29,
    "start_time": "2023-12-24T11:19:04.466Z"
   },
   {
    "duration": 47,
    "start_time": "2023-12-24T11:19:04.496Z"
   },
   {
    "duration": 55,
    "start_time": "2023-12-24T11:19:04.544Z"
   },
   {
    "duration": 24,
    "start_time": "2023-12-24T11:19:04.600Z"
   },
   {
    "duration": 25,
    "start_time": "2023-12-24T11:19:04.626Z"
   },
   {
    "duration": 21,
    "start_time": "2023-12-24T11:19:04.653Z"
   },
   {
    "duration": 9,
    "start_time": "2023-12-24T11:19:04.676Z"
   },
   {
    "duration": 25,
    "start_time": "2023-12-24T11:19:04.686Z"
   },
   {
    "duration": 28,
    "start_time": "2023-12-24T11:19:04.713Z"
   },
   {
    "duration": 26,
    "start_time": "2023-12-24T11:19:04.743Z"
   },
   {
    "duration": 18,
    "start_time": "2023-12-24T11:19:04.770Z"
   },
   {
    "duration": 34,
    "start_time": "2023-12-24T11:19:04.789Z"
   },
   {
    "duration": 21,
    "start_time": "2023-12-24T11:19:04.824Z"
   },
   {
    "duration": 180,
    "start_time": "2023-12-24T11:19:04.848Z"
   },
   {
    "duration": 113,
    "start_time": "2023-12-24T11:19:05.029Z"
   },
   {
    "duration": 22,
    "start_time": "2023-12-24T11:19:05.143Z"
   },
   {
    "duration": 295,
    "start_time": "2023-12-24T11:19:05.166Z"
   },
   {
    "duration": 186,
    "start_time": "2023-12-24T11:19:05.465Z"
   },
   {
    "duration": 314,
    "start_time": "2023-12-24T11:19:05.653Z"
   },
   {
    "duration": 203,
    "start_time": "2023-12-24T11:19:05.969Z"
   },
   {
    "duration": 324,
    "start_time": "2023-12-24T11:19:06.174Z"
   },
   {
    "duration": 119,
    "start_time": "2023-12-24T11:19:06.500Z"
   },
   {
    "duration": 5,
    "start_time": "2023-12-24T11:19:06.620Z"
   },
   {
    "duration": 144,
    "start_time": "2023-12-24T11:19:06.626Z"
   },
   {
    "duration": 9,
    "start_time": "2023-12-24T11:19:06.772Z"
   },
   {
    "duration": 11,
    "start_time": "2023-12-24T11:19:06.783Z"
   },
   {
    "duration": 213,
    "start_time": "2023-12-24T11:19:06.796Z"
   },
   {
    "duration": 126,
    "start_time": "2023-12-24T11:19:07.011Z"
   },
   {
    "duration": 5,
    "start_time": "2023-12-24T11:19:07.139Z"
   },
   {
    "duration": 198,
    "start_time": "2023-12-24T11:19:07.146Z"
   },
   {
    "duration": 9,
    "start_time": "2023-12-24T11:19:07.345Z"
   },
   {
    "duration": 20,
    "start_time": "2023-12-24T11:19:07.365Z"
   },
   {
    "duration": 36,
    "start_time": "2023-12-24T11:19:07.387Z"
   },
   {
    "duration": 39,
    "start_time": "2023-12-24T11:19:07.425Z"
   },
   {
    "duration": 54,
    "start_time": "2023-12-24T11:19:07.465Z"
   },
   {
    "duration": 25,
    "start_time": "2023-12-24T11:19:07.520Z"
   },
   {
    "duration": 1255,
    "start_time": "2023-12-26T03:54:21.821Z"
   },
   {
    "duration": 63,
    "start_time": "2023-12-26T03:54:23.078Z"
   },
   {
    "duration": 13,
    "start_time": "2023-12-26T03:54:23.142Z"
   },
   {
    "duration": 8,
    "start_time": "2023-12-26T03:56:39.110Z"
   },
   {
    "duration": 8,
    "start_time": "2023-12-26T03:56:57.585Z"
   },
   {
    "duration": 68,
    "start_time": "2023-12-26T03:58:35.183Z"
   },
   {
    "duration": 93,
    "start_time": "2023-12-26T04:04:20.994Z"
   },
   {
    "duration": 3,
    "start_time": "2023-12-26T04:04:29.766Z"
   },
   {
    "duration": 34,
    "start_time": "2023-12-26T04:04:29.773Z"
   },
   {
    "duration": 6,
    "start_time": "2023-12-26T04:04:29.809Z"
   },
   {
    "duration": 20,
    "start_time": "2023-12-26T04:04:29.816Z"
   },
   {
    "duration": 8,
    "start_time": "2023-12-26T04:04:29.837Z"
   },
   {
    "duration": 17,
    "start_time": "2023-12-26T04:04:29.847Z"
   },
   {
    "duration": 7,
    "start_time": "2023-12-26T04:04:29.865Z"
   },
   {
    "duration": 13,
    "start_time": "2023-12-26T04:04:35.865Z"
   },
   {
    "duration": 11,
    "start_time": "2023-12-26T04:04:56.602Z"
   },
   {
    "duration": 11,
    "start_time": "2023-12-26T04:05:48.792Z"
   },
   {
    "duration": 11,
    "start_time": "2023-12-26T04:06:04.229Z"
   },
   {
    "duration": 12,
    "start_time": "2023-12-26T04:07:55.236Z"
   },
   {
    "duration": 2,
    "start_time": "2023-12-26T04:08:05.491Z"
   },
   {
    "duration": 41,
    "start_time": "2023-12-26T04:08:05.500Z"
   },
   {
    "duration": 8,
    "start_time": "2023-12-26T04:08:05.542Z"
   },
   {
    "duration": 9,
    "start_time": "2023-12-26T04:08:05.555Z"
   },
   {
    "duration": 8,
    "start_time": "2023-12-26T04:08:05.565Z"
   },
   {
    "duration": 15,
    "start_time": "2023-12-26T04:08:05.574Z"
   },
   {
    "duration": 10,
    "start_time": "2023-12-26T04:08:05.590Z"
   },
   {
    "duration": 13,
    "start_time": "2023-12-26T04:08:05.601Z"
   },
   {
    "duration": 12,
    "start_time": "2023-12-26T04:08:09.970Z"
   },
   {
    "duration": 8,
    "start_time": "2023-12-26T04:15:20.879Z"
   },
   {
    "duration": 3,
    "start_time": "2023-12-26T04:15:28.599Z"
   },
   {
    "duration": 28,
    "start_time": "2023-12-26T04:15:28.605Z"
   },
   {
    "duration": 8,
    "start_time": "2023-12-26T04:15:28.635Z"
   },
   {
    "duration": 21,
    "start_time": "2023-12-26T04:15:28.645Z"
   },
   {
    "duration": 13,
    "start_time": "2023-12-26T04:15:28.668Z"
   },
   {
    "duration": 8,
    "start_time": "2023-12-26T04:15:28.682Z"
   },
   {
    "duration": 27,
    "start_time": "2023-12-26T04:15:28.691Z"
   },
   {
    "duration": 12,
    "start_time": "2023-12-26T04:15:28.720Z"
   },
   {
    "duration": 20,
    "start_time": "2023-12-26T04:15:28.733Z"
   },
   {
    "duration": 91,
    "start_time": "2023-12-26T04:15:28.755Z"
   },
   {
    "duration": 9,
    "start_time": "2023-12-26T04:15:28.848Z"
   },
   {
    "duration": 20,
    "start_time": "2023-12-26T04:15:28.858Z"
   },
   {
    "duration": 6,
    "start_time": "2023-12-26T04:15:28.879Z"
   },
   {
    "duration": 15,
    "start_time": "2023-12-26T04:15:28.887Z"
   },
   {
    "duration": 7,
    "start_time": "2023-12-26T04:15:28.904Z"
   },
   {
    "duration": 9,
    "start_time": "2023-12-26T04:15:28.913Z"
   },
   {
    "duration": 61,
    "start_time": "2023-12-26T04:15:28.923Z"
   },
   {
    "duration": 8,
    "start_time": "2023-12-26T04:15:28.986Z"
   },
   {
    "duration": 17,
    "start_time": "2023-12-26T04:15:28.996Z"
   },
   {
    "duration": 6,
    "start_time": "2023-12-26T04:15:29.015Z"
   },
   {
    "duration": 10,
    "start_time": "2023-12-26T04:15:29.023Z"
   },
   {
    "duration": 9,
    "start_time": "2023-12-26T04:15:29.034Z"
   },
   {
    "duration": 8,
    "start_time": "2023-12-26T04:15:29.045Z"
   },
   {
    "duration": 15,
    "start_time": "2023-12-26T04:15:29.054Z"
   },
   {
    "duration": 16,
    "start_time": "2023-12-26T04:15:29.071Z"
   },
   {
    "duration": 11,
    "start_time": "2023-12-26T04:15:29.088Z"
   },
   {
    "duration": 7,
    "start_time": "2023-12-26T04:15:33.962Z"
   },
   {
    "duration": 8,
    "start_time": "2023-12-26T04:16:04.815Z"
   },
   {
    "duration": 9,
    "start_time": "2023-12-26T04:16:37.289Z"
   },
   {
    "duration": 8,
    "start_time": "2023-12-26T04:17:26.287Z"
   },
   {
    "duration": 8,
    "start_time": "2023-12-26T04:17:39.168Z"
   },
   {
    "duration": 10,
    "start_time": "2023-12-26T04:17:45.658Z"
   },
   {
    "duration": 10,
    "start_time": "2023-12-26T04:17:52.828Z"
   },
   {
    "duration": 7,
    "start_time": "2023-12-26T04:18:23.287Z"
   },
   {
    "duration": 8,
    "start_time": "2023-12-26T04:19:41.322Z"
   },
   {
    "duration": 8,
    "start_time": "2023-12-26T04:19:59.744Z"
   },
   {
    "duration": 8,
    "start_time": "2023-12-26T04:20:14.569Z"
   },
   {
    "duration": 11,
    "start_time": "2023-12-26T04:21:21.107Z"
   },
   {
    "duration": 13,
    "start_time": "2023-12-26T04:21:56.198Z"
   },
   {
    "duration": 9,
    "start_time": "2023-12-26T04:22:15.918Z"
   },
   {
    "duration": 2,
    "start_time": "2023-12-26T04:22:27.417Z"
   },
   {
    "duration": 28,
    "start_time": "2023-12-26T04:22:27.423Z"
   },
   {
    "duration": 9,
    "start_time": "2023-12-26T04:22:27.453Z"
   },
   {
    "duration": 13,
    "start_time": "2023-12-26T04:22:27.466Z"
   },
   {
    "duration": 16,
    "start_time": "2023-12-26T04:22:27.481Z"
   },
   {
    "duration": 15,
    "start_time": "2023-12-26T04:22:27.499Z"
   },
   {
    "duration": 14,
    "start_time": "2023-12-26T04:22:27.516Z"
   },
   {
    "duration": 12,
    "start_time": "2023-12-26T04:22:27.532Z"
   },
   {
    "duration": 13,
    "start_time": "2023-12-26T04:22:27.545Z"
   },
   {
    "duration": 43,
    "start_time": "2023-12-26T04:22:27.566Z"
   },
   {
    "duration": 9,
    "start_time": "2023-12-26T04:22:27.610Z"
   },
   {
    "duration": 20,
    "start_time": "2023-12-26T04:22:27.621Z"
   },
   {
    "duration": 6,
    "start_time": "2023-12-26T04:22:27.642Z"
   },
   {
    "duration": 12,
    "start_time": "2023-12-26T04:22:27.651Z"
   },
   {
    "duration": 6,
    "start_time": "2023-12-26T04:22:27.665Z"
   },
   {
    "duration": 6,
    "start_time": "2023-12-26T04:22:27.672Z"
   },
   {
    "duration": 28,
    "start_time": "2023-12-26T04:22:27.680Z"
   },
   {
    "duration": 9,
    "start_time": "2023-12-26T04:22:27.710Z"
   },
   {
    "duration": 13,
    "start_time": "2023-12-26T04:22:27.720Z"
   },
   {
    "duration": 6,
    "start_time": "2023-12-26T04:22:27.735Z"
   },
   {
    "duration": 7,
    "start_time": "2023-12-26T04:22:27.743Z"
   },
   {
    "duration": 15,
    "start_time": "2023-12-26T04:22:27.752Z"
   },
   {
    "duration": 26,
    "start_time": "2023-12-26T04:22:27.769Z"
   },
   {
    "duration": 5,
    "start_time": "2023-12-26T04:22:27.796Z"
   },
   {
    "duration": 13,
    "start_time": "2023-12-26T04:22:27.803Z"
   },
   {
    "duration": 8,
    "start_time": "2023-12-26T04:22:27.817Z"
   },
   {
    "duration": 4,
    "start_time": "2023-12-26T04:29:17.286Z"
   },
   {
    "duration": 4,
    "start_time": "2023-12-26T04:29:57.641Z"
   },
   {
    "duration": 32,
    "start_time": "2023-12-26T04:35:34.630Z"
   },
   {
    "duration": 82,
    "start_time": "2023-12-26T04:35:44.604Z"
   },
   {
    "duration": 13,
    "start_time": "2023-12-26T04:36:14.439Z"
   },
   {
    "duration": 73,
    "start_time": "2023-12-26T04:37:25.016Z"
   },
   {
    "duration": 7,
    "start_time": "2023-12-26T04:37:34.020Z"
   },
   {
    "duration": 13,
    "start_time": "2023-12-26T04:39:25.216Z"
   },
   {
    "duration": 9,
    "start_time": "2023-12-26T04:42:44.877Z"
   },
   {
    "duration": 6,
    "start_time": "2023-12-26T04:50:52.296Z"
   },
   {
    "duration": 7,
    "start_time": "2023-12-26T04:51:03.654Z"
   },
   {
    "duration": 11,
    "start_time": "2023-12-26T04:53:19.561Z"
   },
   {
    "duration": 8,
    "start_time": "2023-12-26T04:53:34.508Z"
   },
   {
    "duration": 10,
    "start_time": "2023-12-26T04:53:57.052Z"
   },
   {
    "duration": 22,
    "start_time": "2023-12-26T04:54:28.841Z"
   },
   {
    "duration": 114,
    "start_time": "2023-12-26T04:55:02.784Z"
   },
   {
    "duration": 9,
    "start_time": "2023-12-26T04:55:11.196Z"
   },
   {
    "duration": 11,
    "start_time": "2023-12-26T04:56:14.860Z"
   },
   {
    "duration": 11,
    "start_time": "2023-12-26T04:56:28.579Z"
   },
   {
    "duration": 15,
    "start_time": "2023-12-26T04:58:08.839Z"
   },
   {
    "duration": 9,
    "start_time": "2023-12-26T05:01:33.262Z"
   },
   {
    "duration": 3,
    "start_time": "2023-12-26T05:01:44.699Z"
   },
   {
    "duration": 37,
    "start_time": "2023-12-26T05:01:44.707Z"
   },
   {
    "duration": 8,
    "start_time": "2023-12-26T05:01:44.745Z"
   },
   {
    "duration": 17,
    "start_time": "2023-12-26T05:01:44.754Z"
   },
   {
    "duration": 16,
    "start_time": "2023-12-26T05:01:44.773Z"
   },
   {
    "duration": 12,
    "start_time": "2023-12-26T05:01:44.791Z"
   },
   {
    "duration": 11,
    "start_time": "2023-12-26T05:01:44.804Z"
   },
   {
    "duration": 16,
    "start_time": "2023-12-26T05:01:44.816Z"
   },
   {
    "duration": 14,
    "start_time": "2023-12-26T05:01:44.833Z"
   },
   {
    "duration": 45,
    "start_time": "2023-12-26T05:01:44.849Z"
   },
   {
    "duration": 10,
    "start_time": "2023-12-26T05:01:44.895Z"
   },
   {
    "duration": 25,
    "start_time": "2023-12-26T05:01:44.906Z"
   },
   {
    "duration": 6,
    "start_time": "2023-12-26T05:01:44.932Z"
   },
   {
    "duration": 12,
    "start_time": "2023-12-26T05:01:44.940Z"
   },
   {
    "duration": 7,
    "start_time": "2023-12-26T05:01:44.954Z"
   },
   {
    "duration": 7,
    "start_time": "2023-12-26T05:01:44.962Z"
   },
   {
    "duration": 22,
    "start_time": "2023-12-26T05:01:44.970Z"
   },
   {
    "duration": 10,
    "start_time": "2023-12-26T05:01:44.994Z"
   },
   {
    "duration": 55,
    "start_time": "2023-12-26T05:01:45.005Z"
   },
   {
    "duration": 41,
    "start_time": "2023-12-26T05:01:45.062Z"
   },
   {
    "duration": 23,
    "start_time": "2023-12-26T05:01:45.105Z"
   },
   {
    "duration": 25,
    "start_time": "2023-12-26T05:01:45.129Z"
   },
   {
    "duration": 10,
    "start_time": "2023-12-26T05:01:45.155Z"
   },
   {
    "duration": 4,
    "start_time": "2023-12-26T05:01:45.167Z"
   },
   {
    "duration": 8,
    "start_time": "2023-12-26T05:01:45.172Z"
   },
   {
    "duration": 8,
    "start_time": "2023-12-26T05:01:45.181Z"
   },
   {
    "duration": 4,
    "start_time": "2023-12-26T05:01:45.190Z"
   },
   {
    "duration": 9,
    "start_time": "2023-12-26T05:01:55.252Z"
   },
   {
    "duration": 4,
    "start_time": "2023-12-26T05:02:16.886Z"
   },
   {
    "duration": 6,
    "start_time": "2023-12-26T05:02:32.158Z"
   },
   {
    "duration": 5,
    "start_time": "2023-12-26T05:03:50.897Z"
   },
   {
    "duration": 18,
    "start_time": "2023-12-26T05:04:05.913Z"
   },
   {
    "duration": 10,
    "start_time": "2023-12-26T05:05:12.440Z"
   },
   {
    "duration": 7,
    "start_time": "2023-12-26T05:06:10.155Z"
   },
   {
    "duration": 7,
    "start_time": "2023-12-26T05:08:19.949Z"
   },
   {
    "duration": 7,
    "start_time": "2023-12-26T05:08:49.779Z"
   },
   {
    "duration": 3,
    "start_time": "2023-12-26T05:09:52.171Z"
   },
   {
    "duration": 28,
    "start_time": "2023-12-26T05:09:52.177Z"
   },
   {
    "duration": 8,
    "start_time": "2023-12-26T05:09:52.206Z"
   },
   {
    "duration": 11,
    "start_time": "2023-12-26T05:09:52.215Z"
   },
   {
    "duration": 6,
    "start_time": "2023-12-26T05:09:52.266Z"
   },
   {
    "duration": 7,
    "start_time": "2023-12-26T05:09:52.274Z"
   },
   {
    "duration": 19,
    "start_time": "2023-12-26T05:09:52.283Z"
   },
   {
    "duration": 41,
    "start_time": "2023-12-26T05:09:52.304Z"
   },
   {
    "duration": 18,
    "start_time": "2023-12-26T05:09:52.347Z"
   },
   {
    "duration": 49,
    "start_time": "2023-12-26T05:09:52.366Z"
   },
   {
    "duration": 10,
    "start_time": "2023-12-26T05:09:52.417Z"
   },
   {
    "duration": 49,
    "start_time": "2023-12-26T05:09:52.428Z"
   },
   {
    "duration": 11,
    "start_time": "2023-12-26T05:09:52.478Z"
   },
   {
    "duration": 16,
    "start_time": "2023-12-26T05:09:52.490Z"
   },
   {
    "duration": 22,
    "start_time": "2023-12-26T05:09:52.508Z"
   },
   {
    "duration": 19,
    "start_time": "2023-12-26T05:09:52.531Z"
   },
   {
    "duration": 32,
    "start_time": "2023-12-26T05:09:52.551Z"
   },
   {
    "duration": 9,
    "start_time": "2023-12-26T05:09:52.584Z"
   },
   {
    "duration": 14,
    "start_time": "2023-12-26T05:09:52.595Z"
   },
   {
    "duration": 16,
    "start_time": "2023-12-26T05:09:52.611Z"
   },
   {
    "duration": 12,
    "start_time": "2023-12-26T05:09:52.629Z"
   },
   {
    "duration": 9,
    "start_time": "2023-12-26T05:09:52.643Z"
   },
   {
    "duration": 24,
    "start_time": "2023-12-26T05:09:52.653Z"
   },
   {
    "duration": 17,
    "start_time": "2023-12-26T05:09:52.678Z"
   },
   {
    "duration": 35,
    "start_time": "2023-12-26T05:09:52.696Z"
   },
   {
    "duration": 16,
    "start_time": "2023-12-26T05:09:52.732Z"
   },
   {
    "duration": 7,
    "start_time": "2023-12-26T05:09:52.749Z"
   },
   {
    "duration": 12,
    "start_time": "2023-12-26T05:09:52.757Z"
   },
   {
    "duration": 25,
    "start_time": "2023-12-26T05:09:52.770Z"
   },
   {
    "duration": 16,
    "start_time": "2023-12-26T05:09:52.796Z"
   },
   {
    "duration": 38,
    "start_time": "2023-12-26T05:09:52.813Z"
   },
   {
    "duration": 6,
    "start_time": "2023-12-26T05:09:52.852Z"
   },
   {
    "duration": 188,
    "start_time": "2023-12-26T05:09:52.860Z"
   },
   {
    "duration": 106,
    "start_time": "2023-12-26T05:09:53.049Z"
   },
   {
    "duration": 17,
    "start_time": "2023-12-26T05:09:53.156Z"
   },
   {
    "duration": 269,
    "start_time": "2023-12-26T05:09:53.175Z"
   },
   {
    "duration": 200,
    "start_time": "2023-12-26T05:09:53.445Z"
   },
   {
    "duration": 341,
    "start_time": "2023-12-26T05:09:53.647Z"
   },
   {
    "duration": 194,
    "start_time": "2023-12-26T05:09:53.989Z"
   },
   {
    "duration": 289,
    "start_time": "2023-12-26T05:09:54.184Z"
   },
   {
    "duration": 126,
    "start_time": "2023-12-26T05:09:54.475Z"
   },
   {
    "duration": 5,
    "start_time": "2023-12-26T05:09:54.602Z"
   },
   {
    "duration": 135,
    "start_time": "2023-12-26T05:09:59.582Z"
   },
   {
    "duration": 72,
    "start_time": "2023-12-26T05:12:39.251Z"
   },
   {
    "duration": 1574,
    "start_time": "2023-12-26T16:52:30.635Z"
   },
   {
    "duration": 61,
    "start_time": "2023-12-26T16:52:32.211Z"
   },
   {
    "duration": 24,
    "start_time": "2023-12-26T16:52:32.274Z"
   },
   {
    "duration": 14,
    "start_time": "2023-12-26T16:52:32.300Z"
   },
   {
    "duration": 20,
    "start_time": "2023-12-26T16:52:32.316Z"
   },
   {
    "duration": 12,
    "start_time": "2023-12-26T16:52:32.338Z"
   },
   {
    "duration": 11,
    "start_time": "2023-12-26T16:52:32.352Z"
   },
   {
    "duration": 31,
    "start_time": "2023-12-26T16:52:32.365Z"
   },
   {
    "duration": 31,
    "start_time": "2023-12-26T16:52:32.398Z"
   },
   {
    "duration": 90,
    "start_time": "2023-12-26T16:52:32.432Z"
   },
   {
    "duration": 11,
    "start_time": "2023-12-26T16:52:32.523Z"
   },
   {
    "duration": 35,
    "start_time": "2023-12-26T16:52:32.536Z"
   },
   {
    "duration": 10,
    "start_time": "2023-12-26T16:52:32.573Z"
   },
   {
    "duration": 7,
    "start_time": "2023-12-26T16:52:32.585Z"
   },
   {
    "duration": 29,
    "start_time": "2023-12-26T16:52:32.594Z"
   },
   {
    "duration": 10,
    "start_time": "2023-12-26T16:52:32.625Z"
   },
   {
    "duration": 63,
    "start_time": "2023-12-26T16:52:32.637Z"
   },
   {
    "duration": 13,
    "start_time": "2023-12-26T16:52:32.702Z"
   },
   {
    "duration": 14,
    "start_time": "2023-12-26T16:52:32.717Z"
   },
   {
    "duration": 11,
    "start_time": "2023-12-26T16:52:32.733Z"
   },
   {
    "duration": 12,
    "start_time": "2023-12-26T16:52:32.746Z"
   },
   {
    "duration": 16,
    "start_time": "2023-12-26T16:52:32.759Z"
   },
   {
    "duration": 14,
    "start_time": "2023-12-26T16:52:32.777Z"
   },
   {
    "duration": 7,
    "start_time": "2023-12-26T16:52:32.793Z"
   },
   {
    "duration": 30,
    "start_time": "2023-12-26T16:52:32.802Z"
   },
   {
    "duration": 9,
    "start_time": "2023-12-26T16:52:32.833Z"
   },
   {
    "duration": 7,
    "start_time": "2023-12-26T16:52:32.844Z"
   },
   {
    "duration": 8,
    "start_time": "2023-12-26T16:52:32.855Z"
   },
   {
    "duration": 15,
    "start_time": "2023-12-26T16:52:32.864Z"
   },
   {
    "duration": 43,
    "start_time": "2023-12-26T16:52:32.881Z"
   },
   {
    "duration": 15,
    "start_time": "2023-12-26T16:52:32.926Z"
   },
   {
    "duration": 16,
    "start_time": "2023-12-26T16:52:32.942Z"
   },
   {
    "duration": 225,
    "start_time": "2023-12-26T16:52:32.960Z"
   },
   {
    "duration": 127,
    "start_time": "2023-12-26T16:52:33.187Z"
   },
   {
    "duration": 19,
    "start_time": "2023-12-26T16:52:33.323Z"
   },
   {
    "duration": 364,
    "start_time": "2023-12-26T16:52:33.345Z"
   },
   {
    "duration": 220,
    "start_time": "2023-12-26T16:52:33.711Z"
   },
   {
    "duration": 349,
    "start_time": "2023-12-26T16:52:33.932Z"
   },
   {
    "duration": 226,
    "start_time": "2023-12-26T16:52:34.282Z"
   },
   {
    "duration": 378,
    "start_time": "2023-12-26T16:52:34.509Z"
   },
   {
    "duration": 152,
    "start_time": "2023-12-26T16:52:34.889Z"
   },
   {
    "duration": 6,
    "start_time": "2023-12-26T16:52:35.043Z"
   },
   {
    "duration": 173,
    "start_time": "2023-12-26T16:52:35.051Z"
   },
   {
    "duration": 10,
    "start_time": "2023-12-26T16:52:35.226Z"
   },
   {
    "duration": 8,
    "start_time": "2023-12-26T16:52:35.237Z"
   },
   {
    "duration": 266,
    "start_time": "2023-12-26T16:52:35.247Z"
   },
   {
    "duration": 171,
    "start_time": "2023-12-26T16:52:35.515Z"
   },
   {
    "duration": 8,
    "start_time": "2023-12-26T16:52:35.687Z"
   },
   {
    "duration": 68,
    "start_time": "2023-12-26T16:52:40.078Z"
   },
   {
    "duration": 148,
    "start_time": "2023-12-26T16:53:01.250Z"
   },
   {
    "duration": 179,
    "start_time": "2023-12-26T16:53:33.749Z"
   },
   {
    "duration": 158,
    "start_time": "2023-12-26T16:54:03.086Z"
   },
   {
    "duration": 78,
    "start_time": "2023-12-26T16:54:26.730Z"
   },
   {
    "duration": 155,
    "start_time": "2023-12-26T16:54:33.263Z"
   },
   {
    "duration": 162,
    "start_time": "2023-12-26T16:55:51.576Z"
   },
   {
    "duration": 76,
    "start_time": "2023-12-26T16:56:07.620Z"
   },
   {
    "duration": 172,
    "start_time": "2023-12-26T16:56:32.369Z"
   },
   {
    "duration": 131,
    "start_time": "2023-12-26T16:58:24.938Z"
   },
   {
    "duration": 4,
    "start_time": "2023-12-26T16:58:40.320Z"
   },
   {
    "duration": 10,
    "start_time": "2023-12-26T16:59:19.248Z"
   },
   {
    "duration": 15,
    "start_time": "2023-12-26T16:59:45.936Z"
   },
   {
    "duration": 7,
    "start_time": "2023-12-26T17:00:05.359Z"
   },
   {
    "duration": 5,
    "start_time": "2023-12-26T17:00:25.165Z"
   },
   {
    "duration": 5,
    "start_time": "2023-12-26T17:00:47.464Z"
   },
   {
    "duration": 9,
    "start_time": "2023-12-26T17:02:56.244Z"
   },
   {
    "duration": 9,
    "start_time": "2023-12-26T17:03:58.606Z"
   },
   {
    "duration": 109,
    "start_time": "2023-12-26T17:14:39.976Z"
   },
   {
    "duration": 173,
    "start_time": "2023-12-26T17:18:06.020Z"
   },
   {
    "duration": 110,
    "start_time": "2023-12-26T17:18:19.182Z"
   },
   {
    "duration": 82,
    "start_time": "2023-12-26T17:18:26.830Z"
   },
   {
    "duration": 192,
    "start_time": "2023-12-26T17:18:33.879Z"
   },
   {
    "duration": 163,
    "start_time": "2023-12-26T17:19:01.747Z"
   },
   {
    "duration": 71,
    "start_time": "2023-12-26T17:19:53.037Z"
   },
   {
    "duration": 3,
    "start_time": "2023-12-26T17:20:03.553Z"
   },
   {
    "duration": 36,
    "start_time": "2023-12-26T17:20:03.564Z"
   },
   {
    "duration": 10,
    "start_time": "2023-12-26T17:20:03.602Z"
   },
   {
    "duration": 42,
    "start_time": "2023-12-26T17:20:03.613Z"
   },
   {
    "duration": 21,
    "start_time": "2023-12-26T17:20:03.657Z"
   },
   {
    "duration": 13,
    "start_time": "2023-12-26T17:20:03.680Z"
   },
   {
    "duration": 33,
    "start_time": "2023-12-26T17:20:03.694Z"
   },
   {
    "duration": 44,
    "start_time": "2023-12-26T17:20:03.729Z"
   },
   {
    "duration": 20,
    "start_time": "2023-12-26T17:20:03.775Z"
   },
   {
    "duration": 52,
    "start_time": "2023-12-26T17:20:03.798Z"
   },
   {
    "duration": 10,
    "start_time": "2023-12-26T17:20:03.851Z"
   },
   {
    "duration": 54,
    "start_time": "2023-12-26T17:20:03.862Z"
   },
   {
    "duration": 10,
    "start_time": "2023-12-26T17:20:03.917Z"
   },
   {
    "duration": 13,
    "start_time": "2023-12-26T17:20:03.929Z"
   },
   {
    "duration": 7,
    "start_time": "2023-12-26T17:20:03.944Z"
   },
   {
    "duration": 7,
    "start_time": "2023-12-26T17:20:03.952Z"
   },
   {
    "duration": 31,
    "start_time": "2023-12-26T17:20:03.961Z"
   },
   {
    "duration": 10,
    "start_time": "2023-12-26T17:20:03.994Z"
   },
   {
    "duration": 34,
    "start_time": "2023-12-26T17:20:04.006Z"
   },
   {
    "duration": 12,
    "start_time": "2023-12-26T17:20:04.043Z"
   },
   {
    "duration": 8,
    "start_time": "2023-12-26T17:20:04.056Z"
   },
   {
    "duration": 12,
    "start_time": "2023-12-26T17:20:04.067Z"
   },
   {
    "duration": 15,
    "start_time": "2023-12-26T17:20:04.080Z"
   },
   {
    "duration": 20,
    "start_time": "2023-12-26T17:20:04.096Z"
   },
   {
    "duration": 9,
    "start_time": "2023-12-26T17:20:04.122Z"
   },
   {
    "duration": 20,
    "start_time": "2023-12-26T17:20:04.133Z"
   },
   {
    "duration": 8,
    "start_time": "2023-12-26T17:20:04.155Z"
   },
   {
    "duration": 16,
    "start_time": "2023-12-26T17:20:04.165Z"
   },
   {
    "duration": 24,
    "start_time": "2023-12-26T17:20:04.183Z"
   },
   {
    "duration": 9,
    "start_time": "2023-12-26T17:20:04.209Z"
   },
   {
    "duration": 25,
    "start_time": "2023-12-26T17:20:04.222Z"
   },
   {
    "duration": 5,
    "start_time": "2023-12-26T17:20:04.248Z"
   },
   {
    "duration": 194,
    "start_time": "2023-12-26T17:20:04.254Z"
   },
   {
    "duration": 215,
    "start_time": "2023-12-26T17:20:04.452Z"
   },
   {
    "duration": 12,
    "start_time": "2023-12-26T17:20:04.669Z"
   },
   {
    "duration": 239,
    "start_time": "2023-12-26T17:20:04.683Z"
   },
   {
    "duration": 210,
    "start_time": "2023-12-26T17:20:04.924Z"
   },
   {
    "duration": 311,
    "start_time": "2023-12-26T17:20:05.136Z"
   },
   {
    "duration": 211,
    "start_time": "2023-12-26T17:20:05.449Z"
   },
   {
    "duration": 313,
    "start_time": "2023-12-26T17:20:05.662Z"
   },
   {
    "duration": 146,
    "start_time": "2023-12-26T17:20:05.978Z"
   },
   {
    "duration": 6,
    "start_time": "2023-12-26T17:20:06.127Z"
   },
   {
    "duration": 158,
    "start_time": "2023-12-26T17:20:06.134Z"
   },
   {
    "duration": 9,
    "start_time": "2023-12-26T17:20:06.294Z"
   },
   {
    "duration": 5,
    "start_time": "2023-12-26T17:20:06.305Z"
   },
   {
    "duration": 238,
    "start_time": "2023-12-26T17:20:06.323Z"
   },
   {
    "duration": 146,
    "start_time": "2023-12-26T17:20:06.563Z"
   },
   {
    "duration": 7,
    "start_time": "2023-12-26T17:20:06.710Z"
   },
   {
    "duration": 158,
    "start_time": "2023-12-26T17:20:06.722Z"
   },
   {
    "duration": 10,
    "start_time": "2023-12-26T17:20:06.882Z"
   },
   {
    "duration": 7,
    "start_time": "2023-12-26T17:20:06.894Z"
   },
   {
    "duration": 22,
    "start_time": "2023-12-26T17:20:06.903Z"
   },
   {
    "duration": 9,
    "start_time": "2023-12-26T17:20:06.927Z"
   },
   {
    "duration": 27,
    "start_time": "2023-12-26T17:20:06.938Z"
   },
   {
    "duration": 14,
    "start_time": "2023-12-26T17:20:06.967Z"
   },
   {
    "duration": 6,
    "start_time": "2023-12-26T17:23:00.922Z"
   },
   {
    "duration": 5,
    "start_time": "2023-12-26T17:23:11.599Z"
   },
   {
    "duration": 5,
    "start_time": "2023-12-26T17:23:20.881Z"
   },
   {
    "duration": 10,
    "start_time": "2023-12-26T17:23:56.869Z"
   },
   {
    "duration": 9,
    "start_time": "2023-12-26T17:24:09.770Z"
   },
   {
    "duration": 3,
    "start_time": "2023-12-26T17:24:31.842Z"
   },
   {
    "duration": 41,
    "start_time": "2023-12-26T17:24:31.849Z"
   },
   {
    "duration": 9,
    "start_time": "2023-12-26T17:24:31.891Z"
   },
   {
    "duration": 27,
    "start_time": "2023-12-26T17:24:31.901Z"
   },
   {
    "duration": 42,
    "start_time": "2023-12-26T17:24:31.930Z"
   },
   {
    "duration": 88,
    "start_time": "2023-12-26T17:24:31.973Z"
   },
   {
    "duration": 25,
    "start_time": "2023-12-26T17:24:32.063Z"
   },
   {
    "duration": 65,
    "start_time": "2023-12-26T17:24:32.089Z"
   },
   {
    "duration": 25,
    "start_time": "2023-12-26T17:24:32.156Z"
   },
   {
    "duration": 60,
    "start_time": "2023-12-26T17:24:32.184Z"
   },
   {
    "duration": 10,
    "start_time": "2023-12-26T17:24:32.246Z"
   },
   {
    "duration": 52,
    "start_time": "2023-12-26T17:24:32.257Z"
   },
   {
    "duration": 49,
    "start_time": "2023-12-26T17:24:32.311Z"
   },
   {
    "duration": 63,
    "start_time": "2023-12-26T17:24:32.362Z"
   },
   {
    "duration": 26,
    "start_time": "2023-12-26T17:24:32.426Z"
   },
   {
    "duration": 9,
    "start_time": "2023-12-26T17:24:32.454Z"
   },
   {
    "duration": 30,
    "start_time": "2023-12-26T17:24:32.464Z"
   },
   {
    "duration": 8,
    "start_time": "2023-12-26T17:24:32.495Z"
   },
   {
    "duration": 35,
    "start_time": "2023-12-26T17:24:32.505Z"
   },
   {
    "duration": 41,
    "start_time": "2023-12-26T17:24:32.542Z"
   },
   {
    "duration": 14,
    "start_time": "2023-12-26T17:24:32.584Z"
   },
   {
    "duration": 58,
    "start_time": "2023-12-26T17:24:32.599Z"
   },
   {
    "duration": 20,
    "start_time": "2023-12-26T17:24:32.659Z"
   },
   {
    "duration": 31,
    "start_time": "2023-12-26T17:24:32.682Z"
   },
   {
    "duration": 37,
    "start_time": "2023-12-26T17:24:32.714Z"
   },
   {
    "duration": 40,
    "start_time": "2023-12-26T17:24:32.752Z"
   },
   {
    "duration": 47,
    "start_time": "2023-12-26T17:24:32.793Z"
   },
   {
    "duration": 34,
    "start_time": "2023-12-26T17:24:32.841Z"
   },
   {
    "duration": 17,
    "start_time": "2023-12-26T17:24:32.876Z"
   },
   {
    "duration": 7,
    "start_time": "2023-12-26T17:24:32.895Z"
   },
   {
    "duration": 19,
    "start_time": "2023-12-26T17:24:32.903Z"
   },
   {
    "duration": 5,
    "start_time": "2023-12-26T17:24:32.923Z"
   },
   {
    "duration": 158,
    "start_time": "2023-12-26T17:24:32.930Z"
   },
   {
    "duration": 113,
    "start_time": "2023-12-26T17:24:33.089Z"
   },
   {
    "duration": 20,
    "start_time": "2023-12-26T17:24:33.203Z"
   },
   {
    "duration": 210,
    "start_time": "2023-12-26T17:24:33.225Z"
   },
   {
    "duration": 196,
    "start_time": "2023-12-26T17:24:33.437Z"
   },
   {
    "duration": 302,
    "start_time": "2023-12-26T17:24:33.635Z"
   },
   {
    "duration": 215,
    "start_time": "2023-12-26T17:24:33.939Z"
   },
   {
    "duration": 300,
    "start_time": "2023-12-26T17:24:34.156Z"
   },
   {
    "duration": 221,
    "start_time": "2023-12-26T17:24:34.458Z"
   },
   {
    "duration": 12,
    "start_time": "2023-12-26T17:25:19.335Z"
   },
   {
    "duration": 2,
    "start_time": "2023-12-26T17:26:37.576Z"
   },
   {
    "duration": 26,
    "start_time": "2023-12-26T17:26:37.593Z"
   },
   {
    "duration": 14,
    "start_time": "2023-12-26T17:26:37.621Z"
   },
   {
    "duration": 12,
    "start_time": "2023-12-26T17:26:37.637Z"
   },
   {
    "duration": 31,
    "start_time": "2023-12-26T17:26:37.651Z"
   },
   {
    "duration": 10,
    "start_time": "2023-12-26T17:26:37.683Z"
   },
   {
    "duration": 10,
    "start_time": "2023-12-26T17:26:37.695Z"
   },
   {
    "duration": 18,
    "start_time": "2023-12-26T17:26:37.707Z"
   },
   {
    "duration": 14,
    "start_time": "2023-12-26T17:26:37.727Z"
   },
   {
    "duration": 43,
    "start_time": "2023-12-26T17:26:37.742Z"
   },
   {
    "duration": 9,
    "start_time": "2023-12-26T17:26:37.786Z"
   },
   {
    "duration": 30,
    "start_time": "2023-12-26T17:26:37.797Z"
   },
   {
    "duration": 13,
    "start_time": "2023-12-26T17:26:37.828Z"
   },
   {
    "duration": 7,
    "start_time": "2023-12-26T17:26:37.843Z"
   },
   {
    "duration": 6,
    "start_time": "2023-12-26T17:26:37.851Z"
   },
   {
    "duration": 8,
    "start_time": "2023-12-26T17:26:37.859Z"
   },
   {
    "duration": 19,
    "start_time": "2023-12-26T17:26:37.869Z"
   },
   {
    "duration": 9,
    "start_time": "2023-12-26T17:26:37.889Z"
   },
   {
    "duration": 25,
    "start_time": "2023-12-26T17:26:37.900Z"
   },
   {
    "duration": 10,
    "start_time": "2023-12-26T17:26:37.926Z"
   },
   {
    "duration": 9,
    "start_time": "2023-12-26T17:26:37.937Z"
   },
   {
    "duration": 13,
    "start_time": "2023-12-26T17:26:37.947Z"
   },
   {
    "duration": 8,
    "start_time": "2023-12-26T17:26:37.961Z"
   },
   {
    "duration": 4,
    "start_time": "2023-12-26T17:26:37.970Z"
   },
   {
    "duration": 14,
    "start_time": "2023-12-26T17:26:37.976Z"
   },
   {
    "duration": 7,
    "start_time": "2023-12-26T17:26:37.992Z"
   },
   {
    "duration": 4,
    "start_time": "2023-12-26T17:26:38.023Z"
   },
   {
    "duration": 7,
    "start_time": "2023-12-26T17:26:38.028Z"
   },
   {
    "duration": 22,
    "start_time": "2023-12-26T17:26:38.038Z"
   },
   {
    "duration": 12,
    "start_time": "2023-12-26T17:26:38.062Z"
   },
   {
    "duration": 18,
    "start_time": "2023-12-26T17:26:38.075Z"
   },
   {
    "duration": 5,
    "start_time": "2023-12-26T17:26:38.095Z"
   },
   {
    "duration": 187,
    "start_time": "2023-12-26T17:26:38.101Z"
   },
   {
    "duration": 139,
    "start_time": "2023-12-26T17:26:38.290Z"
   },
   {
    "duration": 18,
    "start_time": "2023-12-26T17:26:38.431Z"
   },
   {
    "duration": 221,
    "start_time": "2023-12-26T17:26:38.450Z"
   },
   {
    "duration": 201,
    "start_time": "2023-12-26T17:26:38.672Z"
   },
   {
    "duration": 277,
    "start_time": "2023-12-26T17:26:38.875Z"
   },
   {
    "duration": 205,
    "start_time": "2023-12-26T17:26:39.154Z"
   },
   {
    "duration": 300,
    "start_time": "2023-12-26T17:26:39.360Z"
   },
   {
    "duration": 134,
    "start_time": "2023-12-26T17:26:39.662Z"
   },
   {
    "duration": 4,
    "start_time": "2023-12-26T17:26:39.799Z"
   },
   {
    "duration": 151,
    "start_time": "2023-12-26T17:26:39.804Z"
   },
   {
    "duration": 10,
    "start_time": "2023-12-26T17:26:39.956Z"
   },
   {
    "duration": 10,
    "start_time": "2023-12-26T17:26:39.967Z"
   },
   {
    "duration": 210,
    "start_time": "2023-12-26T17:26:39.978Z"
   },
   {
    "duration": 129,
    "start_time": "2023-12-26T17:26:40.189Z"
   },
   {
    "duration": 6,
    "start_time": "2023-12-26T17:26:40.321Z"
   },
   {
    "duration": 158,
    "start_time": "2023-12-26T17:26:40.329Z"
   },
   {
    "duration": 9,
    "start_time": "2023-12-26T17:26:40.489Z"
   },
   {
    "duration": 20,
    "start_time": "2023-12-26T17:26:40.499Z"
   },
   {
    "duration": 13,
    "start_time": "2023-12-26T17:26:40.522Z"
   },
   {
    "duration": 11,
    "start_time": "2023-12-26T17:26:40.536Z"
   },
   {
    "duration": 26,
    "start_time": "2023-12-26T17:26:40.549Z"
   },
   {
    "duration": 12,
    "start_time": "2023-12-26T17:26:40.576Z"
   },
   {
    "duration": 11,
    "start_time": "2023-12-26T17:29:41.304Z"
   },
   {
    "duration": 9,
    "start_time": "2023-12-26T17:30:07.345Z"
   },
   {
    "duration": 6,
    "start_time": "2023-12-26T17:34:21.562Z"
   },
   {
    "duration": 1089,
    "start_time": "2023-12-26T19:56:52.011Z"
   },
   {
    "duration": 70,
    "start_time": "2023-12-26T19:56:53.102Z"
   },
   {
    "duration": 11,
    "start_time": "2023-12-26T19:56:53.173Z"
   },
   {
    "duration": 51,
    "start_time": "2023-12-26T19:56:53.186Z"
   },
   {
    "duration": 20,
    "start_time": "2023-12-26T19:56:53.239Z"
   },
   {
    "duration": 20,
    "start_time": "2023-12-26T19:56:53.261Z"
   },
   {
    "duration": 34,
    "start_time": "2023-12-26T19:56:53.282Z"
   },
   {
    "duration": 32,
    "start_time": "2023-12-26T19:56:53.318Z"
   },
   {
    "duration": 40,
    "start_time": "2023-12-26T19:56:53.351Z"
   },
   {
    "duration": 90,
    "start_time": "2023-12-26T19:56:53.394Z"
   },
   {
    "duration": 10,
    "start_time": "2023-12-26T19:56:53.486Z"
   },
   {
    "duration": 46,
    "start_time": "2023-12-26T19:56:53.498Z"
   },
   {
    "duration": 21,
    "start_time": "2023-12-26T19:56:53.545Z"
   },
   {
    "duration": 30,
    "start_time": "2023-12-26T19:56:53.567Z"
   },
   {
    "duration": 15,
    "start_time": "2023-12-26T19:56:53.598Z"
   },
   {
    "duration": 24,
    "start_time": "2023-12-26T19:56:53.614Z"
   },
   {
    "duration": 78,
    "start_time": "2023-12-26T19:56:53.640Z"
   },
   {
    "duration": 9,
    "start_time": "2023-12-26T19:56:53.720Z"
   },
   {
    "duration": 33,
    "start_time": "2023-12-26T19:56:53.731Z"
   },
   {
    "duration": 39,
    "start_time": "2023-12-26T19:56:53.765Z"
   },
   {
    "duration": 24,
    "start_time": "2023-12-26T19:56:53.805Z"
   },
   {
    "duration": 26,
    "start_time": "2023-12-26T19:56:53.830Z"
   },
   {
    "duration": 32,
    "start_time": "2023-12-26T19:56:53.857Z"
   },
   {
    "duration": 10,
    "start_time": "2023-12-26T19:56:53.891Z"
   },
   {
    "duration": 25,
    "start_time": "2023-12-26T19:56:53.902Z"
   },
   {
    "duration": 30,
    "start_time": "2023-12-26T19:56:53.928Z"
   },
   {
    "duration": 20,
    "start_time": "2023-12-26T19:56:53.959Z"
   },
   {
    "duration": 22,
    "start_time": "2023-12-26T19:56:53.982Z"
   },
   {
    "duration": 27,
    "start_time": "2023-12-26T19:56:54.006Z"
   },
   {
    "duration": 19,
    "start_time": "2023-12-26T19:56:54.034Z"
   },
   {
    "duration": 34,
    "start_time": "2023-12-26T19:56:54.054Z"
   },
   {
    "duration": 20,
    "start_time": "2023-12-26T19:56:54.089Z"
   },
   {
    "duration": 169,
    "start_time": "2023-12-26T19:56:54.111Z"
   },
   {
    "duration": 108,
    "start_time": "2023-12-26T19:56:54.281Z"
   },
   {
    "duration": 18,
    "start_time": "2023-12-26T19:56:54.398Z"
   },
   {
    "duration": 259,
    "start_time": "2023-12-26T19:56:54.417Z"
   },
   {
    "duration": 172,
    "start_time": "2023-12-26T19:56:54.678Z"
   },
   {
    "duration": 240,
    "start_time": "2023-12-26T19:56:54.851Z"
   },
   {
    "duration": 182,
    "start_time": "2023-12-26T19:56:55.100Z"
   },
   {
    "duration": 306,
    "start_time": "2023-12-26T19:56:55.284Z"
   },
   {
    "duration": 126,
    "start_time": "2023-12-26T19:56:55.591Z"
   },
   {
    "duration": 5,
    "start_time": "2023-12-26T19:56:55.718Z"
   },
   {
    "duration": 141,
    "start_time": "2023-12-26T19:56:55.724Z"
   },
   {
    "duration": 10,
    "start_time": "2023-12-26T19:56:55.867Z"
   },
   {
    "duration": 27,
    "start_time": "2023-12-26T19:56:55.878Z"
   },
   {
    "duration": 207,
    "start_time": "2023-12-26T19:56:55.907Z"
   },
   {
    "duration": 128,
    "start_time": "2023-12-26T19:56:56.116Z"
   },
   {
    "duration": 6,
    "start_time": "2023-12-26T19:56:56.245Z"
   },
   {
    "duration": 157,
    "start_time": "2023-12-26T19:56:56.252Z"
   },
   {
    "duration": 9,
    "start_time": "2023-12-26T19:56:56.410Z"
   },
   {
    "duration": 23,
    "start_time": "2023-12-26T19:56:56.420Z"
   },
   {
    "duration": 26,
    "start_time": "2023-12-26T19:56:56.444Z"
   },
   {
    "duration": 30,
    "start_time": "2023-12-26T19:56:56.471Z"
   },
   {
    "duration": 40,
    "start_time": "2023-12-26T19:56:56.502Z"
   },
   {
    "duration": 30,
    "start_time": "2023-12-26T19:56:56.543Z"
   }
  ],
  "kernelspec": {
   "display_name": "Python 3 (ipykernel)",
   "language": "python",
   "name": "python3"
  },
  "language_info": {
   "codemirror_mode": {
    "name": "ipython",
    "version": 3
   },
   "file_extension": ".py",
   "mimetype": "text/x-python",
   "name": "python",
   "nbconvert_exporter": "python",
   "pygments_lexer": "ipython3",
   "version": "3.9.5"
  },
  "toc": {
   "base_numbering": 1,
   "nav_menu": {},
   "number_sections": true,
   "sideBar": true,
   "skip_h1_title": true,
   "title_cell": "Table of Contents",
   "title_sidebar": "Contents",
   "toc_cell": false,
   "toc_position": {},
   "toc_section_display": true,
   "toc_window_display": false
  }
 },
 "nbformat": 4,
 "nbformat_minor": 2
}
