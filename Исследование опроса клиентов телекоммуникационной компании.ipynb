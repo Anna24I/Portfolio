{
 "cells": [
  {
   "cell_type": "markdown",
   "id": "8cff0e31",
   "metadata": {},
   "source": [
    "# Исследование данных телекоммуникационной компании\n",
    "Цель исследования - определение текущего уровня потребительской лояльности или NPS.\n",
    "\n",
    "Источник данных - статистические данные телекоммуникационной компании.\n",
    "\n",
    "Задачи исследования - проведение предобработки данных, построение распределения признаков и определение взаимосвязей, построение и оценка метрик моделей оттока клиентов, создание кластеризации клиентов, формулировка выводов и подготовка базовых рекомендаций по работе с клиентами сети фитнес-центров \"Культурист-датасаентист\".\n",
    "\n",
    "Этапы исследования:\n",
    "1. подключение к базе,\n",
    "2. выгрузка данных, \n",
    "3. создание дашбордов в Tableau,\n",
    "4. ответы на вопросы исследования и поиск интересных особенностей."
   ]
  },
  {
   "cell_type": "code",
   "execution_count": 3,
   "id": "fc7efa54",
   "metadata": {},
   "outputs": [],
   "source": [
    "import os\n",
    "import pandas as pd\n",
    "import numpy as np\n",
    "\n",
    "from sqlalchemy import create_engine"
   ]
  },
  {
   "cell_type": "code",
   "execution_count": 4,
   "id": "0017f8e7",
   "metadata": {},
   "outputs": [],
   "source": [
    "path_to_db_local = 'telecomm_csi.db'\n",
    "path_to_db_platform = '/datasets/telecomm_csi.db'\n",
    "path_to_db = None\n",
    "\n",
    "if os.path.exists(path_to_db_local):\n",
    "    path_to_db = path_to_db_local\n",
    "elif os.path.exists(path_to_db_platform):\n",
    "    path_to_db = path_to_db_platform\n",
    "else:\n",
    "    raise Exception('Файл с базой данных SQLite не найден!')\n",
    "\n",
    "if path_to_db:\n",
    "    engine = create_engine(f'sqlite:///{path_to_db}', echo=False)"
   ]
  },
  {
   "cell_type": "code",
   "execution_count": 5,
   "id": "84ebad43",
   "metadata": {},
   "outputs": [],
   "source": [
    "query = \"\"\" \n",
    "    SELECT u.user_id,\n",
    "           u.lt_day,\n",
    "           CASE \n",
    "               WHEN ls.bucket_max <= 12 THEN '1'\n",
    "               ElSE '0'\n",
    "               END AS is_new,\n",
    "           u.age,\n",
    "           u.gender_segment,\n",
    "           u.os_name,\n",
    "           u.cpe_type_name,\n",
    "           l.country,\n",
    "           l.city,\n",
    "           ag.title AS age_segment,\n",
    "           ts.title AS traffic_segment,\n",
    "           ls.title AS lifetime_segment,\n",
    "           u.nps_score,\n",
    "           CASE \n",
    "               WHEN u.nps_score >= 9 THEN 'promoters'\n",
    "               WHEN u.nps_score = '7' or  u.nps_score = '8' THEN 'passives'\n",
    "               WHEN u.nps_score <= '6' THEN 'detractors'\n",
    "               END AS nps_group\n",
    "                      \n",
    "    FROM user as u\n",
    "    LEFT OUTER JOIN location as l ON u.location_id=l.location_id\n",
    "    LEFT OUTER JOIN age_segment as ag ON u.age_gr_id=ag.age_gr_id\n",
    "    LEFT OUTER JOIN lifetime_segment as ls ON u.lt_gr_id=ls.lt_gr_id\n",
    "    LEFT OUTER JOIN traffic_segment as ts ON u.tr_gr_id=ts.tr_gr_id\n",
    "    ; \n",
    "    \"\"\" "
   ]
  },
  {
   "cell_type": "code",
   "execution_count": 6,
   "id": "3965faf2",
   "metadata": {},
   "outputs": [
    {
     "data": {
      "text/html": [
       "<div>\n",
       "<style scoped>\n",
       "    .dataframe tbody tr th:only-of-type {\n",
       "        vertical-align: middle;\n",
       "    }\n",
       "\n",
       "    .dataframe tbody tr th {\n",
       "        vertical-align: top;\n",
       "    }\n",
       "\n",
       "    .dataframe thead th {\n",
       "        text-align: right;\n",
       "    }\n",
       "</style>\n",
       "<table border=\"1\" class=\"dataframe\">\n",
       "  <thead>\n",
       "    <tr style=\"text-align: right;\">\n",
       "      <th></th>\n",
       "      <th>user_id</th>\n",
       "      <th>lt_day</th>\n",
       "      <th>is_new</th>\n",
       "      <th>age</th>\n",
       "      <th>gender_segment</th>\n",
       "      <th>os_name</th>\n",
       "      <th>cpe_type_name</th>\n",
       "      <th>country</th>\n",
       "      <th>city</th>\n",
       "      <th>age_segment</th>\n",
       "      <th>traffic_segment</th>\n",
       "      <th>lifetime_segment</th>\n",
       "      <th>nps_score</th>\n",
       "      <th>nps_group</th>\n",
       "    </tr>\n",
       "  </thead>\n",
       "  <tbody>\n",
       "    <tr>\n",
       "      <th>0</th>\n",
       "      <td>A001A2</td>\n",
       "      <td>2320</td>\n",
       "      <td>0</td>\n",
       "      <td>45.0</td>\n",
       "      <td>1.0</td>\n",
       "      <td>ANDROID</td>\n",
       "      <td>SMARTPHONE</td>\n",
       "      <td>Россия</td>\n",
       "      <td>Уфа</td>\n",
       "      <td>05 45-54</td>\n",
       "      <td>04 1-5</td>\n",
       "      <td>08 36+</td>\n",
       "      <td>10</td>\n",
       "      <td>promoters</td>\n",
       "    </tr>\n",
       "    <tr>\n",
       "      <th>1</th>\n",
       "      <td>A001WF</td>\n",
       "      <td>2344</td>\n",
       "      <td>0</td>\n",
       "      <td>53.0</td>\n",
       "      <td>0.0</td>\n",
       "      <td>ANDROID</td>\n",
       "      <td>SMARTPHONE</td>\n",
       "      <td>Россия</td>\n",
       "      <td>Киров</td>\n",
       "      <td>05 45-54</td>\n",
       "      <td>04 1-5</td>\n",
       "      <td>08 36+</td>\n",
       "      <td>10</td>\n",
       "      <td>promoters</td>\n",
       "    </tr>\n",
       "    <tr>\n",
       "      <th>2</th>\n",
       "      <td>A003Q7</td>\n",
       "      <td>467</td>\n",
       "      <td>0</td>\n",
       "      <td>57.0</td>\n",
       "      <td>0.0</td>\n",
       "      <td>ANDROID</td>\n",
       "      <td>SMARTPHONE</td>\n",
       "      <td>Россия</td>\n",
       "      <td>Москва</td>\n",
       "      <td>06 55-64</td>\n",
       "      <td>08 20-25</td>\n",
       "      <td>06 13-24</td>\n",
       "      <td>10</td>\n",
       "      <td>promoters</td>\n",
       "    </tr>\n",
       "  </tbody>\n",
       "</table>\n",
       "</div>"
      ],
      "text/plain": [
       "  user_id  lt_day is_new   age  gender_segment  os_name cpe_type_name country  \\\n",
       "0  A001A2    2320      0  45.0             1.0  ANDROID    SMARTPHONE  Россия   \n",
       "1  A001WF    2344      0  53.0             0.0  ANDROID    SMARTPHONE  Россия   \n",
       "2  A003Q7     467      0  57.0             0.0  ANDROID    SMARTPHONE  Россия   \n",
       "\n",
       "     city age_segment traffic_segment lifetime_segment  nps_score  nps_group  \n",
       "0     Уфа    05 45-54          04 1-5           08 36+         10  promoters  \n",
       "1   Киров    05 45-54          04 1-5           08 36+         10  promoters  \n",
       "2  Москва    06 55-64        08 20-25         06 13-24         10  promoters  "
      ]
     },
     "execution_count": 6,
     "metadata": {},
     "output_type": "execute_result"
    }
   ],
   "source": [
    "df = pd.read_sql(query, engine)\n",
    "df.head(3)"
   ]
  },
  {
   "cell_type": "code",
   "execution_count": 7,
   "id": "9db04858",
   "metadata": {},
   "outputs": [],
   "source": [
    "df.to_csv('telecomm_csi_tableau.csv', index=False)"
   ]
  },
  {
   "cell_type": "markdown",
   "id": "dc15c20a",
   "metadata": {},
   "source": [
    "Ссылка на дашборды, презентацию и выводы: https://public.tableau.com/views/2_16842106142380/sheet2?:language=en-US&publish=yes&:display_count=n&:origin=viz_share_link"
   ]
  }
 ],
 "metadata": {
  "ExecuteTimeLog": [
   {
    "duration": 611,
    "start_time": "2023-05-09T06:00:00.436Z"
   },
   {
    "duration": 139,
    "start_time": "2023-05-09T06:00:01.049Z"
   },
   {
    "duration": 3,
    "start_time": "2023-05-09T06:00:01.190Z"
   },
   {
    "duration": 545,
    "start_time": "2023-05-09T06:00:01.195Z"
   },
   {
    "duration": 0,
    "start_time": "2023-05-09T06:00:01.742Z"
   },
   {
    "duration": 4,
    "start_time": "2023-05-09T06:08:47.646Z"
   },
   {
    "duration": 4592,
    "start_time": "2023-05-09T06:08:52.988Z"
   },
   {
    "duration": 13,
    "start_time": "2023-05-09T06:24:28.200Z"
   },
   {
    "duration": 3468,
    "start_time": "2023-05-09T06:26:10.130Z"
   },
   {
    "duration": 92,
    "start_time": "2023-05-09T06:26:14.608Z"
   },
   {
    "duration": 5,
    "start_time": "2023-05-09T06:26:35.470Z"
   },
   {
    "duration": 97,
    "start_time": "2023-05-09T06:27:44.869Z"
   },
   {
    "duration": 132,
    "start_time": "2023-05-09T06:28:06.895Z"
   },
   {
    "duration": 89,
    "start_time": "2023-05-09T06:28:22.676Z"
   },
   {
    "duration": 4,
    "start_time": "2023-05-09T06:28:33.661Z"
   },
   {
    "duration": 95,
    "start_time": "2023-05-09T06:28:33.669Z"
   },
   {
    "duration": 4,
    "start_time": "2023-05-09T06:28:33.768Z"
   },
   {
    "duration": 3932,
    "start_time": "2023-05-09T06:28:33.774Z"
   },
   {
    "duration": 3052,
    "start_time": "2023-05-09T06:28:37.708Z"
   },
   {
    "duration": 104,
    "start_time": "2023-05-09T06:28:40.762Z"
   },
   {
    "duration": 207,
    "start_time": "2023-05-09T06:41:27.664Z"
   },
   {
    "duration": 13,
    "start_time": "2023-05-09T15:39:17.969Z"
   },
   {
    "duration": 8,
    "start_time": "2023-05-09T15:39:24.098Z"
   },
   {
    "duration": 68,
    "start_time": "2023-05-09T15:40:09.217Z"
   },
   {
    "duration": 550,
    "start_time": "2023-05-09T15:40:13.761Z"
   },
   {
    "duration": 84,
    "start_time": "2023-05-09T15:40:14.313Z"
   },
   {
    "duration": 3,
    "start_time": "2023-05-09T15:40:14.399Z"
   },
   {
    "duration": 4576,
    "start_time": "2023-05-09T15:40:14.405Z"
   },
   {
    "duration": 2547,
    "start_time": "2023-05-09T15:40:18.983Z"
   },
   {
    "duration": 4,
    "start_time": "2023-05-09T15:40:21.851Z"
   },
   {
    "duration": 19,
    "start_time": "2023-05-09T15:41:31.457Z"
   },
   {
    "duration": 5,
    "start_time": "2023-05-09T15:42:06.284Z"
   },
   {
    "duration": 5,
    "start_time": "2023-05-09T16:14:12.054Z"
   },
   {
    "duration": 4,
    "start_time": "2023-05-09T16:14:31.929Z"
   },
   {
    "duration": 5,
    "start_time": "2023-05-09T16:14:53.327Z"
   },
   {
    "duration": 4,
    "start_time": "2023-05-09T16:31:29.639Z"
   },
   {
    "duration": 4,
    "start_time": "2023-05-09T16:31:36.939Z"
   },
   {
    "duration": 122,
    "start_time": "2023-05-09T16:32:20.087Z"
   },
   {
    "duration": 3,
    "start_time": "2023-05-09T16:44:52.134Z"
   },
   {
    "duration": 5,
    "start_time": "2023-05-09T16:44:57.985Z"
   },
   {
    "duration": 2,
    "start_time": "2023-05-09T16:54:22.735Z"
   },
   {
    "duration": 4,
    "start_time": "2023-05-09T16:54:27.950Z"
   },
   {
    "duration": 2,
    "start_time": "2023-05-09T16:57:36.246Z"
   },
   {
    "duration": 92,
    "start_time": "2023-05-09T16:57:36.253Z"
   },
   {
    "duration": 2,
    "start_time": "2023-05-09T16:57:36.347Z"
   },
   {
    "duration": 3492,
    "start_time": "2023-05-09T16:57:36.351Z"
   },
   {
    "duration": 2494,
    "start_time": "2023-05-09T16:57:39.845Z"
   },
   {
    "duration": 3,
    "start_time": "2023-05-09T16:57:42.341Z"
   },
   {
    "duration": 2,
    "start_time": "2023-05-09T16:59:16.927Z"
   },
   {
    "duration": 4,
    "start_time": "2023-05-09T16:59:17.583Z"
   },
   {
    "duration": 4,
    "start_time": "2023-05-09T17:00:42.027Z"
   },
   {
    "duration": 78,
    "start_time": "2023-05-09T17:03:48.463Z"
   },
   {
    "duration": 3492,
    "start_time": "2023-05-09T17:03:57.253Z"
   },
   {
    "duration": 3,
    "start_time": "2023-05-09T17:04:15.042Z"
   },
   {
    "duration": 19,
    "start_time": "2023-05-09T17:04:21.717Z"
   },
   {
    "duration": 511,
    "start_time": "2023-05-09T17:05:31.322Z"
   },
   {
    "duration": 10,
    "start_time": "2023-05-09T17:05:35.647Z"
   },
   {
    "duration": 508,
    "start_time": "2023-05-09T17:47:12.974Z"
   },
   {
    "duration": 508,
    "start_time": "2023-05-09T17:49:02.760Z"
   },
   {
    "duration": 4,
    "start_time": "2023-05-09T18:33:28.358Z"
   },
   {
    "duration": 767,
    "start_time": "2023-05-09T18:34:00.817Z"
   },
   {
    "duration": 4,
    "start_time": "2023-05-09T18:34:35.953Z"
   },
   {
    "duration": 4061,
    "start_time": "2023-05-09T18:34:38.694Z"
   },
   {
    "duration": 2,
    "start_time": "2023-05-09T18:37:33.016Z"
   },
   {
    "duration": 4472,
    "start_time": "2023-05-09T18:37:34.860Z"
   },
   {
    "duration": 2,
    "start_time": "2023-05-09T18:42:13.894Z"
   },
   {
    "duration": 465,
    "start_time": "2023-05-09T18:42:14.649Z"
   },
   {
    "duration": 3,
    "start_time": "2023-05-09T18:42:56.477Z"
   },
   {
    "duration": 4433,
    "start_time": "2023-05-09T18:42:58.755Z"
   },
   {
    "duration": 3,
    "start_time": "2023-05-09T18:43:39.094Z"
   },
   {
    "duration": 4408,
    "start_time": "2023-05-09T18:43:39.756Z"
   },
   {
    "duration": 3,
    "start_time": "2023-05-09T18:52:57.586Z"
   },
   {
    "duration": 4610,
    "start_time": "2023-05-09T18:52:58.756Z"
   },
   {
    "duration": 4,
    "start_time": "2023-05-09T18:59:22.403Z"
   },
   {
    "duration": 110,
    "start_time": "2023-05-09T18:59:22.408Z"
   },
   {
    "duration": 3,
    "start_time": "2023-05-09T18:59:22.520Z"
   },
   {
    "duration": 4052,
    "start_time": "2023-05-09T18:59:22.525Z"
   },
   {
    "duration": 3205,
    "start_time": "2023-05-09T18:59:26.580Z"
   },
   {
    "duration": 4221,
    "start_time": "2023-05-09T18:59:29.788Z"
   },
   {
    "duration": 4064,
    "start_time": "2023-05-09T18:59:34.011Z"
   },
   {
    "duration": 1726,
    "start_time": "2023-05-09T18:59:38.078Z"
   },
   {
    "duration": 2018,
    "start_time": "2023-05-09T19:00:04.803Z"
   },
   {
    "duration": 1847,
    "start_time": "2023-05-09T19:00:19.730Z"
   },
   {
    "duration": 1852,
    "start_time": "2023-05-09T19:00:27.702Z"
   },
   {
    "duration": 1853,
    "start_time": "2023-05-09T19:01:02.871Z"
   },
   {
    "duration": 1911,
    "start_time": "2023-05-09T19:01:49.158Z"
   },
   {
    "duration": 3,
    "start_time": "2023-05-09T19:04:05.702Z"
   },
   {
    "duration": 384,
    "start_time": "2023-05-09T19:04:12.627Z"
   },
   {
    "duration": 7,
    "start_time": "2023-05-09T19:04:50.942Z"
   },
   {
    "duration": 422,
    "start_time": "2023-05-09T19:04:52.258Z"
   },
   {
    "duration": 4,
    "start_time": "2023-05-09T19:06:10.417Z"
   },
   {
    "duration": 383,
    "start_time": "2023-05-09T19:06:12.279Z"
   },
   {
    "duration": 3,
    "start_time": "2023-05-09T19:06:37.881Z"
   },
   {
    "duration": 392,
    "start_time": "2023-05-09T19:06:38.898Z"
   },
   {
    "duration": 3,
    "start_time": "2023-05-09T19:07:19.431Z"
   },
   {
    "duration": 87,
    "start_time": "2023-05-09T19:07:19.436Z"
   },
   {
    "duration": 3,
    "start_time": "2023-05-09T19:07:19.525Z"
   },
   {
    "duration": 3968,
    "start_time": "2023-05-09T19:07:19.529Z"
   },
   {
    "duration": 2955,
    "start_time": "2023-05-09T19:07:23.499Z"
   },
   {
    "duration": 3876,
    "start_time": "2023-05-09T19:07:26.457Z"
   },
   {
    "duration": 3846,
    "start_time": "2023-05-09T19:07:34.184Z"
   },
   {
    "duration": 3,
    "start_time": "2023-05-09T19:07:38.032Z"
   },
   {
    "duration": 404,
    "start_time": "2023-05-09T19:07:38.037Z"
   },
   {
    "duration": 3,
    "start_time": "2023-05-09T19:19:03.021Z"
   },
   {
    "duration": 647,
    "start_time": "2023-05-09T19:19:05.334Z"
   },
   {
    "duration": 3,
    "start_time": "2023-05-09T19:20:20.803Z"
   },
   {
    "duration": 4920,
    "start_time": "2023-05-09T19:20:22.052Z"
   },
   {
    "duration": 63,
    "start_time": "2023-05-09T19:21:33.035Z"
   },
   {
    "duration": 581,
    "start_time": "2023-05-09T19:21:38.463Z"
   },
   {
    "duration": 91,
    "start_time": "2023-05-09T19:21:39.046Z"
   },
   {
    "duration": 4,
    "start_time": "2023-05-09T19:21:39.139Z"
   },
   {
    "duration": 5114,
    "start_time": "2023-05-09T19:21:39.145Z"
   },
   {
    "duration": 3231,
    "start_time": "2023-05-09T19:21:44.261Z"
   },
   {
    "duration": 3845,
    "start_time": "2023-05-09T19:21:47.494Z"
   },
   {
    "duration": 3967,
    "start_time": "2023-05-09T19:21:51.342Z"
   },
   {
    "duration": 3,
    "start_time": "2023-05-09T19:21:55.311Z"
   },
   {
    "duration": 5283,
    "start_time": "2023-05-09T19:22:00.218Z"
   },
   {
    "duration": 5302,
    "start_time": "2023-05-09T19:22:13.457Z"
   },
   {
    "duration": 5167,
    "start_time": "2023-05-09T19:22:28.803Z"
   },
   {
    "duration": 5534,
    "start_time": "2023-05-09T19:23:56.057Z"
   },
   {
    "duration": 4,
    "start_time": "2023-05-09T19:24:49.477Z"
   },
   {
    "duration": 5401,
    "start_time": "2023-05-09T19:24:51.677Z"
   },
   {
    "duration": 3,
    "start_time": "2023-05-09T19:29:50.304Z"
   },
   {
    "duration": 5768,
    "start_time": "2023-05-09T19:29:51.861Z"
   },
   {
    "duration": 7,
    "start_time": "2023-05-09T19:35:53.082Z"
   },
   {
    "duration": 7221,
    "start_time": "2023-05-09T19:35:53.784Z"
   },
   {
    "duration": 7,
    "start_time": "2023-05-09T19:36:35.957Z"
   },
   {
    "duration": 6512,
    "start_time": "2023-05-09T19:36:36.766Z"
   },
   {
    "duration": 4,
    "start_time": "2023-05-09T19:40:11.529Z"
   },
   {
    "duration": 166,
    "start_time": "2023-05-09T19:40:11.535Z"
   },
   {
    "duration": 3,
    "start_time": "2023-05-09T19:40:22.578Z"
   },
   {
    "duration": 8,
    "start_time": "2023-05-09T19:40:43.500Z"
   },
   {
    "duration": 65,
    "start_time": "2023-05-09T19:40:44.431Z"
   },
   {
    "duration": 589,
    "start_time": "2023-05-09T19:40:48.674Z"
   },
   {
    "duration": 135,
    "start_time": "2023-05-09T19:40:49.266Z"
   },
   {
    "duration": 8,
    "start_time": "2023-05-09T19:41:12.943Z"
   },
   {
    "duration": 121,
    "start_time": "2023-05-09T19:41:13.777Z"
   },
   {
    "duration": 4,
    "start_time": "2023-05-09T19:41:14.877Z"
   },
   {
    "duration": 7437,
    "start_time": "2023-05-09T19:41:16.285Z"
   },
   {
    "duration": 5699,
    "start_time": "2023-05-09T19:41:27.497Z"
   },
   {
    "duration": 41,
    "start_time": "2023-05-11T05:26:32.732Z"
   },
   {
    "duration": 502,
    "start_time": "2023-05-11T05:26:38.994Z"
   },
   {
    "duration": 65,
    "start_time": "2023-05-11T05:26:39.498Z"
   },
   {
    "duration": 3,
    "start_time": "2023-05-11T05:26:39.565Z"
   },
   {
    "duration": 4597,
    "start_time": "2023-05-11T05:26:39.570Z"
   },
   {
    "duration": 4348,
    "start_time": "2023-05-11T05:26:46.395Z"
   },
   {
    "duration": 3444,
    "start_time": "2023-05-11T05:26:50.745Z"
   },
   {
    "duration": 3611,
    "start_time": "2023-05-11T05:27:33.740Z"
   },
   {
    "duration": 70,
    "start_time": "2023-05-11T05:28:03.603Z"
   },
   {
    "duration": 53,
    "start_time": "2023-05-11T05:28:37.567Z"
   },
   {
    "duration": 46,
    "start_time": "2023-05-11T05:28:44.301Z"
   },
   {
    "duration": 3544,
    "start_time": "2023-05-11T05:31:04.218Z"
   },
   {
    "duration": 3864,
    "start_time": "2023-05-11T05:31:38.367Z"
   },
   {
    "duration": 470,
    "start_time": "2023-05-11T11:02:10.145Z"
   },
   {
    "duration": 84,
    "start_time": "2023-05-11T11:02:10.617Z"
   },
   {
    "duration": 2,
    "start_time": "2023-05-11T11:02:10.703Z"
   },
   {
    "duration": 4684,
    "start_time": "2023-05-11T11:02:10.707Z"
   },
   {
    "duration": 3,
    "start_time": "2023-05-11T11:02:15.393Z"
   },
   {
    "duration": 12,
    "start_time": "2023-05-11T11:02:15.397Z"
   },
   {
    "duration": 4177,
    "start_time": "2023-05-11T11:02:15.411Z"
   },
   {
    "duration": 501,
    "start_time": "2023-05-14T10:03:34.107Z"
   },
   {
    "duration": 108,
    "start_time": "2023-05-14T10:03:34.610Z"
   },
   {
    "duration": 3,
    "start_time": "2023-05-14T10:03:34.720Z"
   },
   {
    "duration": 5325,
    "start_time": "2023-05-14T10:03:34.725Z"
   },
   {
    "duration": 4091,
    "start_time": "2023-05-14T10:03:40.052Z"
   },
   {
    "duration": 1881,
    "start_time": "2023-05-15T04:45:04.396Z"
   },
   {
    "duration": 226,
    "start_time": "2023-05-15T04:45:06.292Z"
   },
   {
    "duration": 20,
    "start_time": "2023-05-15T04:45:06.528Z"
   },
   {
    "duration": 26045,
    "start_time": "2023-05-15T04:45:06.558Z"
   },
   {
    "duration": 29728,
    "start_time": "2023-05-15T04:45:32.617Z"
   },
   {
    "duration": 534,
    "start_time": "2023-05-16T04:26:51.950Z"
   },
   {
    "duration": 69,
    "start_time": "2023-05-16T04:26:52.486Z"
   },
   {
    "duration": 4,
    "start_time": "2023-05-16T04:26:52.556Z"
   },
   {
    "duration": 4986,
    "start_time": "2023-05-16T04:26:52.562Z"
   },
   {
    "duration": 5503,
    "start_time": "2023-05-16T04:26:57.550Z"
   },
   {
    "duration": 1600,
    "start_time": "2023-05-16T10:25:07.180Z"
   },
   {
    "duration": 86,
    "start_time": "2023-05-16T10:25:08.796Z"
   },
   {
    "duration": 7,
    "start_time": "2023-05-16T10:25:08.884Z"
   },
   {
    "duration": 22519,
    "start_time": "2023-05-16T10:25:08.897Z"
   },
   {
    "duration": 23664,
    "start_time": "2023-05-16T10:25:31.421Z"
   },
   {
    "duration": 820,
    "start_time": "2023-05-16T10:30:48.078Z"
   },
   {
    "duration": 432,
    "start_time": "2023-05-16T10:31:00.276Z"
   },
   {
    "duration": 9,
    "start_time": "2023-05-16T10:44:27.487Z"
   },
   {
    "duration": 54,
    "start_time": "2023-05-16T10:44:28.402Z"
   },
   {
    "duration": 574,
    "start_time": "2023-05-16T10:44:39.203Z"
   },
   {
    "duration": 82,
    "start_time": "2023-05-16T10:44:39.779Z"
   },
   {
    "duration": 3,
    "start_time": "2023-05-16T10:44:39.862Z"
   },
   {
    "duration": 5217,
    "start_time": "2023-05-16T10:44:39.867Z"
   },
   {
    "duration": 4161,
    "start_time": "2023-05-16T10:44:45.086Z"
   },
   {
    "duration": 106,
    "start_time": "2023-05-16T10:44:49.249Z"
   },
   {
    "duration": 4,
    "start_time": "2023-05-16T11:09:18.587Z"
   },
   {
    "duration": 59,
    "start_time": "2023-05-16T11:09:18.594Z"
   },
   {
    "duration": 4,
    "start_time": "2023-05-16T11:09:18.655Z"
   },
   {
    "duration": 5261,
    "start_time": "2023-05-16T11:09:18.660Z"
   },
   {
    "duration": 4511,
    "start_time": "2023-05-16T11:09:23.923Z"
   },
   {
    "duration": 108,
    "start_time": "2023-05-16T11:09:28.436Z"
   },
   {
    "duration": 534,
    "start_time": "2023-05-17T04:55:45.206Z"
   },
   {
    "duration": 157,
    "start_time": "2023-05-17T04:55:45.743Z"
   },
   {
    "duration": 3,
    "start_time": "2023-05-17T04:55:45.902Z"
   },
   {
    "duration": 6966,
    "start_time": "2023-05-17T04:55:45.906Z"
   },
   {
    "duration": 8057,
    "start_time": "2023-05-17T04:55:52.885Z"
   },
   {
    "duration": 168,
    "start_time": "2023-05-17T04:56:00.945Z"
   },
   {
    "duration": 717,
    "start_time": "2023-05-17T04:56:01.116Z"
   },
   {
    "duration": 139,
    "start_time": "2023-05-17T04:56:02.072Z"
   },
   {
    "duration": 4,
    "start_time": "2023-05-17T04:56:10.819Z"
   },
   {
    "duration": 79,
    "start_time": "2023-05-17T04:56:11.575Z"
   },
   {
    "duration": 7,
    "start_time": "2023-05-17T04:56:12.689Z"
   },
   {
    "duration": 6029,
    "start_time": "2023-05-17T04:56:13.602Z"
   },
   {
    "duration": 7397,
    "start_time": "2023-05-17T04:56:26.673Z"
   },
   {
    "duration": 133,
    "start_time": "2023-05-17T04:56:41.080Z"
   },
   {
    "duration": 122,
    "start_time": "2024-02-06T04:21:22.292Z"
   },
   {
    "duration": 0,
    "start_time": "2024-02-06T04:21:22.416Z"
   },
   {
    "duration": 0,
    "start_time": "2024-02-06T04:21:22.417Z"
   },
   {
    "duration": 0,
    "start_time": "2024-02-06T04:21:22.418Z"
   },
   {
    "duration": 41,
    "start_time": "2024-02-06T04:21:22.440Z"
   },
   {
    "duration": 0,
    "start_time": "2024-02-06T04:21:22.482Z"
   },
   {
    "duration": 497,
    "start_time": "2024-02-06T04:21:47.752Z"
   },
   {
    "duration": 80,
    "start_time": "2024-02-06T04:21:48.251Z"
   },
   {
    "duration": 3,
    "start_time": "2024-02-06T04:21:48.333Z"
   },
   {
    "duration": 4941,
    "start_time": "2024-02-06T04:21:48.338Z"
   },
   {
    "duration": 4361,
    "start_time": "2024-02-06T04:21:53.280Z"
   }
  ],
  "kernelspec": {
   "display_name": "Python 3 (ipykernel)",
   "language": "python",
   "name": "python3"
  },
  "language_info": {
   "codemirror_mode": {
    "name": "ipython",
    "version": 3
   },
   "file_extension": ".py",
   "mimetype": "text/x-python",
   "name": "python",
   "nbconvert_exporter": "python",
   "pygments_lexer": "ipython3",
   "version": "3.9.5"
  },
  "toc": {
   "base_numbering": 1,
   "nav_menu": {},
   "number_sections": true,
   "sideBar": true,
   "skip_h1_title": true,
   "title_cell": "Table of Contents",
   "title_sidebar": "Contents",
   "toc_cell": false,
   "toc_position": {},
   "toc_section_display": true,
   "toc_window_display": false
  }
 },
 "nbformat": 4,
 "nbformat_minor": 5
}
